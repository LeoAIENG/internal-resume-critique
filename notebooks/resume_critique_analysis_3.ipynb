{
 "cells": [
  {
   "cell_type": "markdown",
   "metadata": {},
   "source": [
    "# resume Critique\n",
    "\n",
    "## Notebook Purpose\n",
    "resume-Critique Formmating / Template\n",
    " \n",
    "## Tasks\n",
    "- Analysis of Dataset\n",
    "- Curation\n",
    "- Format\n",
    "- Templating\n",
    "\n",
    "## Notable TODOs:\n",
    "--"
   ]
  },
  {
   "cell_type": "markdown",
   "metadata": {},
   "source": [
    "---"
   ]
  },
  {
   "cell_type": "markdown",
   "metadata": {},
   "source": [
    "# Setup"
   ]
  },
  {
   "cell_type": "markdown",
   "metadata": {},
   "source": [
    "### Path"
   ]
  },
  {
   "cell_type": "code",
   "execution_count": 8,
   "metadata": {},
   "outputs": [],
   "source": [
    "import sys\n",
    "from pathlib import Path\n",
    "\n",
    "NB_FOLDER = 'notebooks'\n",
    "NB_PATH = Path.cwd()\n",
    "B_PATH = NB_PATH.parent\n",
    "\n",
    "main_spaths = ['scripts', 'data']\n",
    "main_paths = [(B_PATH / m_spath) for m_spath in main_spaths]\n",
    "data_spaths = ['external', 'processed', 'raw', 'results', 'training']\n",
    "data_paths = [(B_PATH / 'data' / data_spath) for data_spath in data_spaths]\n",
    "project_paths = main_paths + data_paths\n",
    "\n",
    "if NB_PATH.stem == NB_FOLDER:\n",
    "\t\n",
    "\t# Create Project Folders and Set Paths\n",
    "\tfor p_path in project_paths:\n",
    "\t\tp_path.mkdir(exist_ok=True, parents=True)\n",
    "\t\tp_name = p_path.name\n",
    "\t\tv_name = f\"DATA_{p_name}_PATH\" if p_path.parent.name == 'data' else f\"{p_name}_PATH\"\n",
    "\t\tglobals()[v_name.upper()] = p_path\n",
    "\n",
    "\t# Custom Paths\n",
    "\tDATA_TRAIN_PATH = DATA_TRAINING_PATH / \"train\"\n",
    "\tDATA_RAW_KW_PATH = DATA_RAW_PATH / \"gpt_critique_kw_dataset\"\n",
    "\n",
    "\t# Append SCRIPTS as Python Path\n",
    "\tsys.path.append(SCRIPTS_PATH.as_posix())"
   ]
  },
  {
   "cell_type": "markdown",
   "metadata": {},
   "source": [
    "### Installation"
   ]
  },
  {
   "cell_type": "code",
   "execution_count": null,
   "metadata": {},
   "outputs": [],
   "source": [
    "!git lfs install"
   ]
  },
  {
   "cell_type": "code",
   "execution_count": null,
   "metadata": {},
   "outputs": [],
   "source": [
    "pip install json_repair"
   ]
  },
  {
   "cell_type": "code",
   "execution_count": null,
   "metadata": {},
   "outputs": [],
   "source": [
    "pip install transformers"
   ]
  },
  {
   "cell_type": "code",
   "execution_count": null,
   "metadata": {},
   "outputs": [],
   "source": [
    "pip install joblib"
   ]
  },
  {
   "cell_type": "code",
   "execution_count": null,
   "metadata": {},
   "outputs": [],
   "source": [
    "pip install numpy"
   ]
  },
  {
   "cell_type": "code",
   "execution_count": null,
   "metadata": {},
   "outputs": [],
   "source": [
    "pip install jsonschema"
   ]
  },
  {
   "cell_type": "code",
   "execution_count": null,
   "metadata": {},
   "outputs": [],
   "source": [
    "pip install to-json-schema"
   ]
  },
  {
   "cell_type": "code",
   "execution_count": null,
   "metadata": {},
   "outputs": [],
   "source": [
    "!pip install \\\n",
    "\t--extra-index-url=https://pypi.nvidia.com \\\n",
    "\tcudf-cu12==24.8.3 cuml-cu12==24.8.0 \\\n",
    "\tcugraph-cu12==24.8.0"
   ]
  },
  {
   "cell_type": "code",
   "execution_count": null,
   "metadata": {},
   "outputs": [],
   "source": [
    "pip install sentence-transformers"
   ]
  },
  {
   "cell_type": "code",
   "execution_count": null,
   "metadata": {},
   "outputs": [],
   "source": [
    "pip install seaborn"
   ]
  },
  {
   "cell_type": "code",
   "execution_count": null,
   "metadata": {},
   "outputs": [],
   "source": [
    "conda install tsnecuda"
   ]
  },
  {
   "cell_type": "code",
   "execution_count": null,
   "metadata": {},
   "outputs": [],
   "source": [
    "pip install openai"
   ]
  },
  {
   "cell_type": "code",
   "execution_count": null,
   "metadata": {},
   "outputs": [],
   "source": [
    "pip install whatlang-pyo3"
   ]
  },
  {
   "cell_type": "code",
   "execution_count": null,
   "metadata": {},
   "outputs": [],
   "source": [
    "pip install tiktoken"
   ]
  },
  {
   "cell_type": "code",
   "execution_count": null,
   "metadata": {},
   "outputs": [],
   "source": [
    "import nltk\n",
    "nltk.download('wordnet')\n",
    "nltk.download('stopwords')"
   ]
  },
  {
   "cell_type": "markdown",
   "metadata": {},
   "source": [
    "### System Infomation"
   ]
  },
  {
   "cell_type": "code",
   "execution_count": null,
   "metadata": {},
   "outputs": [],
   "source": [
    "!bash {SCRIPTS_PATH.as_posix()}/notebook_info.sh"
   ]
  },
  {
   "cell_type": "markdown",
   "metadata": {},
   "source": [
    "### Import"
   ]
  },
  {
   "cell_type": "code",
   "execution_count": 9,
   "metadata": {},
   "outputs": [],
   "source": [
    "## Extensions\n",
    "if 'autoreload' not in get_ipython().extension_manager.loaded:\n",
    "\t%load_ext autoreload\n",
    "# %load_ext cudf.pandas\n",
    "%load_ext dotenv\n",
    "%autoreload 2"
   ]
  },
  {
   "cell_type": "code",
   "execution_count": 10,
   "metadata": {},
   "outputs": [],
   "source": [
    "import pandas as pd\n",
    "import warnings\n",
    "import torch\n",
    "from save_utils import save_obj, load_obj, run_api"
   ]
  },
  {
   "cell_type": "markdown",
   "metadata": {},
   "source": [
    "### Configuration"
   ]
  },
  {
   "cell_type": "code",
   "execution_count": 11,
   "metadata": {},
   "outputs": [
    {
     "name": "stdout",
     "output_type": "stream",
     "text": [
      "Torch Version: 2.5.1+cu124\n"
     ]
    },
    {
     "data": {
      "text/plain": [
       "True"
      ]
     },
     "execution_count": 11,
     "metadata": {},
     "output_type": "execute_result"
    }
   ],
   "source": [
    "# Pandas\n",
    "pd.set_option('max_colwidth', 100)\n",
    "pd.set_option('display.max_columns', None)\n",
    "# pd.set_option('display.max_colwidth', 100)\n",
    "pd.set_option('display.max_rows', 500)\n",
    "pd.set_option('display.float_format', lambda x: '%.5f' % x)\n",
    "\n",
    "\n",
    "# Future Warning\n",
    "warnings.simplefilter(action='ignore', category=FutureWarning)\n",
    "warnings.filterwarnings('ignore')\n",
    "\n",
    "# Env+\n",
    "%dotenv {(B_PATH / '.env').as_posix()}\n",
    "\n",
    "# Torch Version\n",
    "print(f\"Torch Version: {torch. __version__}\")\n",
    "\n",
    "# Torch Cuda Available\n",
    "torch.cuda.is_available()"
   ]
  },
  {
   "cell_type": "code",
   "execution_count": 12,
   "metadata": {},
   "outputs": [],
   "source": [
    "from IPython import get_ipython\n",
    "from IPython.core.magic import register_cell_magic\n",
    "\n",
    "ipython = get_ipython()\n",
    "@register_cell_magic\n",
    "def pybash(line, cell):\n",
    "\tipython.run_cell_magic('bash', '', cell.format(**globals()))"
   ]
  },
  {
   "cell_type": "markdown",
   "metadata": {},
   "source": [
    "## Checking Passive Language"
   ]
  },
  {
   "cell_type": "code",
   "execution_count": 13,
   "metadata": {},
   "outputs": [],
   "source": [
    "from gen_utils import create_prompt, invoke_azure_openai_with_text\n",
    "from nltk.stem import WordNetLemmatizer\n",
    "from nltk.tokenize import word_tokenize\n",
    "from nltk.corpus import stopwords\n",
    "from string import punctuation\n",
    "from nltk.stem.snowball import SnowballStemmer\n",
    "from ast import literal_eval"
   ]
  },
  {
   "cell_type": "code",
   "execution_count": 40,
   "metadata": {},
   "outputs": [],
   "source": [
    "traininig_data = load_obj(DATA_TRAIN_PATH / \"resume_critique_model_4.jsonl\", as_df=True)"
   ]
  },
  {
   "cell_type": "code",
   "execution_count": null,
   "metadata": {},
   "outputs": [],
   "source": [
    "text = \"Performed routine maintenance checks and repairs, contributing to vehicle longevity and reliability.\"\n",
    "ex = \"Ensure that the documentation be accurately processed\"\n",
    "prompt = create_prompt(text=text, ex=ex)\n",
    "res = invoke_azure_openai_with_text(prompt=prompt)\n",
    "res"
   ]
  },
  {
   "cell_type": "code",
   "execution_count": null,
   "metadata": {},
   "outputs": [],
   "source": [
    "text = \"\"\"Unloaded, sorted, and loaded packages for customer delivery\n",
    "Load various cargo, and packages for transport to other UPS facilities in\n",
    "Western PA\n",
    "Sorting, scanning and loading cabs for air cargo working in a very fastpaced\n",
    "industry\n",
    "Mark and weigh the packages and labels to ensure packaging specifications\n",
    "are met\n",
    "Ensure that the documentation be accurately processed, distributed and\n",
    "released to forwarders, carrier, agents and customers in a timely manner\n",
    "Load/Unload Package accurate for customers\n",
    "Loading delivery trucks with all incoming packages, memorization of zip\n",
    "codes and proper loading according to company and safety procedures\n",
    "Work in the Small Sort Division where receive various small packages, from\n",
    "1 pound to 10 pounds and are sorted into groups and bags by address\n",
    "Trained for safety procedures in order to be able to work in various areas of\n",
    "the industrial plant\n",
    "Prep for loading into specific docking chutes and check for any damages\n",
    "Lowering and sliding, with packages weighing from 1 pound to 70 pounds\n",
    "Work on call for all available shifts\n",
    "Worked eight to ten hours per day with team\"\"\"\n",
    "ex = \"Ensure that the documentation be accurately processed\"\n",
    "prompt = create_prompt(text=text, ex=ex)\n",
    "res = invoke_azure_openai_with_text(prompt=prompt)\n",
    "res"
   ]
  },
  {
   "cell_type": "code",
   "execution_count": 34,
   "metadata": {},
   "outputs": [],
   "source": [
    "lemmatizer = WordNetLemmatizer()\n",
    "stop = set(stopwords.words('english') + list(punctuation))\n",
    "exception_verbs = [\"handle\", \"work\", \"function\", \"participate\"]\n",
    "\n",
    "def isVerbException(text: str):\n",
    "\ttokens =  [i for i in word_tokenize(text.lower()) if i not in stop]\n",
    "\tfirst = tokens[0]\n",
    "\tpos_verb = lemmatizer.lemmatize(first, 'v')\n",
    "\tif pos_verb in exception_verbs:\n",
    "\t\treturn True\n",
    "\telse:\n",
    "\t\treturn False"
   ]
  },
  {
   "cell_type": "code",
   "execution_count": null,
   "metadata": {},
   "outputs": [],
   "source": [
    "text = traininig_data.iloc[1].output\n",
    "ex = 'Worked on OctoDash for client billing.'\n",
    "prompt = create_prompt(text=text, ex=ex)\n",
    "res = invoke_azure_openai_with_text(prompt=prompt)\n",
    "res"
   ]
  },
  {
   "cell_type": "markdown",
   "metadata": {},
   "source": []
  },
  {
   "cell_type": "code",
   "execution_count": null,
   "metadata": {},
   "outputs": [],
   "source": [
    "text = traininig_data.iloc[1].input\n",
    "ex = 'Designed OctoDash, a dashboard for the company\\'s board to track client.'\n",
    "section = find_section_text(exp=ex, text=text)\n",
    "prompt = create_prompt(text=text, ex=ex)\n",
    "res = invoke_azure_openai_with_text(prompt=prompt)\n",
    "res"
   ]
  },
  {
   "cell_type": "code",
   "execution_count": 9,
   "metadata": {},
   "outputs": [],
   "source": [
    "lemmatizer = WordNetLemmatizer()\n",
    "stop = set(stopwords.words('english') + list(punctuation))\n",
    "exception_verbs = [\"handle\", \"work\", \"function\", \"participate\"]\n",
    "\n",
    "def isVerbException(text: str):\n",
    "\ttokens =  [i for i in word_tokenize(text.lower()) if i not in stop]\n",
    "\tif not tokens:\n",
    "\t\treturn False\n",
    "\tfirst = tokens[0]\n",
    "\tpos_verb = lemmatizer.lemmatize(first, 'v')\n",
    "\tif pos_verb in exception_verbs:\n",
    "\t\treturn True\n",
    "\telse:\n",
    "\t\treturn False"
   ]
  },
  {
   "cell_type": "code",
   "execution_count": 10,
   "metadata": {},
   "outputs": [],
   "source": [
    "def get_passive_lang(output: str):\n",
    "\texp = \"'Passive Language': \"\n",
    "\tfor section in output.split(\"\\n\"):\n",
    "\t\tif exp in section:\n",
    "\t\t\tsplits = [i for i in section.split(exp) if i]\n",
    "\t\t\tp_ex_str = splits[0].strip()\n",
    "\t\t\tif p_ex_str.startswith(\"[\") and p_ex_str.endswith(\"]\"):\n",
    "\t\t\t\tp_ex = literal_eval(p_ex_str)\n",
    "\t\t\telse:\n",
    "\t\t\t\tp_ex = [p_ex_str]\n",
    "\t\t\treturn p_ex"
   ]
  },
  {
   "cell_type": "code",
   "execution_count": 11,
   "metadata": {},
   "outputs": [],
   "source": [
    "def find_section_text(exp: str, text: str):\n",
    "\tfor split in text.split(\"\\n\\n\"):\n",
    "\t\tif exp.lower() in split.lower():\n",
    "\t\t\treturn split\n",
    "\treturn text"
   ]
  },
  {
   "cell_type": "markdown",
   "metadata": {},
   "source": []
  },
  {
   "cell_type": "code",
   "execution_count": 14,
   "metadata": {},
   "outputs": [],
   "source": [
    "def find_section_text(exp: str, text: str):\n",
    "\tfor split in text.split(\"\\n\\n\"):\n",
    "\t\tif exp.lower() in split.lower():\n",
    "\t\t\treturn split\n",
    "\treturn text"
   ]
  },
  {
   "cell_type": "code",
   "execution_count": null,
   "metadata": {},
   "outputs": [],
   "source": [
    "traininig_data"
   ]
  },
  {
   "cell_type": "code",
   "execution_count": null,
   "metadata": {},
   "outputs": [],
   "source": [
    "prompts_s = prompts[:20]"
   ]
  },
  {
   "cell_type": "code",
   "execution_count": null,
   "metadata": {},
   "outputs": [],
   "source": [
    "from gen_utils import execute_azure_openai_with_text_in_thread_pool"
   ]
  },
  {
   "cell_type": "code",
   "execution_count": null,
   "metadata": {},
   "outputs": [],
   "source": [
    "res = execute_azure_openai_with_text_in_thread_pool(prompts_s)"
   ]
  },
  {
   "cell_type": "code",
   "execution_count": null,
   "metadata": {},
   "outputs": [],
   "source": [
    "res[0]"
   ]
  },
  {
   "cell_type": "code",
   "execution_count": null,
   "metadata": {},
   "outputs": [],
   "source": [
    "output = traininig_data.iloc[5].output\n",
    "p_ex = get_passive_lang(output)\n",
    "p_ex"
   ]
  },
  {
   "cell_type": "markdown",
   "metadata": {},
   "source": []
  },
  {
   "cell_type": "code",
   "execution_count": 43,
   "metadata": {},
   "outputs": [
    {
     "data": {
      "text/plain": [
       "46837"
      ]
     },
     "execution_count": 43,
     "metadata": {},
     "output_type": "execute_result"
    }
   ],
   "source": [
    "len(prompts)"
   ]
  },
  {
   "cell_type": "markdown",
   "metadata": {},
   "source": [
    "## Executing Passive Language Prompt"
   ]
  },
  {
   "cell_type": "code",
   "execution_count": 41,
   "metadata": {},
   "outputs": [],
   "source": [
    "from gen_utils import split_list, execute_azure_openai_with_text_in_thread_pool\n",
    "import random\n",
    "from IPython.display import clear_output"
   ]
  },
  {
   "cell_type": "code",
   "execution_count": null,
   "metadata": {},
   "outputs": [],
   "source": [
    "random.seed(99)\n",
    "\n",
    "prompts_s = random.choices(prompts, k=10000)"
   ]
  },
  {
   "cell_type": "code",
   "execution_count": null,
   "metadata": {},
   "outputs": [],
   "source": [
    "len(prompts_s)"
   ]
  },
  {
   "cell_type": "code",
   "execution_count": null,
   "metadata": {},
   "outputs": [],
   "source": [
    "prompts_s[10]"
   ]
  },
  {
   "cell_type": "code",
   "execution_count": null,
   "metadata": {},
   "outputs": [],
   "source": [
    "for idx, sl in enumerate(split_list(prompts_s, 10)):\n",
    "\tprint(sl)\n",
    "\tbreak"
   ]
  },
  {
   "cell_type": "code",
   "execution_count": null,
   "metadata": {},
   "outputs": [],
   "source": [
    "results = []\n",
    "for idx, sl in enumerate(split_list(prompts_s, 10)):\n",
    "\t\n",
    "\tres = execute_azure_openai_with_text_in_thread_pool(sl)\n",
    "\tresults.append(res)\n",
    "\tsave_obj(res, DATA_PROCESSED_PATH / f\"resume_critique_model_2_passive_curated_{idx}.pkl\")\n",
    "\tprint(len(results))\n",
    "\tclear_output(wait=True)"
   ]
  },
  {
   "cell_type": "code",
   "execution_count": null,
   "metadata": {},
   "outputs": [],
   "source": [
    "res = load_obj(DATA_PROCESSED_PATH / \"resume_critique_model_2_passive_curated_4.pkl\")"
   ]
  },
  {
   "cell_type": "code",
   "execution_count": null,
   "metadata": {},
   "outputs": [],
   "source": [
    "len(res[5])"
   ]
  },
  {
   "cell_type": "code",
   "execution_count": null,
   "metadata": {},
   "outputs": [],
   "source": [
    "save_obj(results, DATA_PROCESSED_PATH / \"resume_critique_model_2_passive_curated.pkl\")"
   ]
  },
  {
   "cell_type": "code",
   "execution_count": null,
   "metadata": {},
   "outputs": [],
   "source": [
    "results = execute_azure_openai_with_text_in_thread_pool(prompts)"
   ]
  },
  {
   "cell_type": "code",
   "execution_count": 21,
   "metadata": {},
   "outputs": [],
   "source": [
    "results = []\n",
    "for i in range(0, 10):\n",
    "\tres = load_obj(DATA_PROCESSED_PATH / f\"resume_critique_model_2_passive_curated_{i}.pkl\")\n",
    "\tresults.append(res)"
   ]
  },
  {
   "cell_type": "code",
   "execution_count": 22,
   "metadata": {},
   "outputs": [
    {
     "name": "stdout",
     "output_type": "stream",
     "text": [
      "1\n",
      "2\n",
      "3\n",
      "4\n",
      "5\n",
      "6\n",
      "7\n",
      "8\n",
      "9\n",
      "10\n"
     ]
    }
   ],
   "source": [
    "for res in results:\n",
    "\tprint(len(res))"
   ]
  },
  {
   "cell_type": "code",
   "execution_count": 23,
   "metadata": {},
   "outputs": [],
   "source": [
    "resuls = [sub for sublist in results for sub in sublist]\n",
    "f_results = [sub for sublist in resuls for sub in sublist]"
   ]
  },
  {
   "cell_type": "code",
   "execution_count": 27,
   "metadata": {},
   "outputs": [
    {
     "data": {
      "text/plain": [
       "36000"
      ]
     },
     "execution_count": 27,
     "metadata": {},
     "output_type": "execute_result"
    }
   ],
   "source": [
    "len(f_results)"
   ]
  },
  {
   "cell_type": "code",
   "execution_count": 42,
   "metadata": {},
   "outputs": [],
   "source": [
    "insts = traininig_data.instruction.tolist()\n",
    "inputs = traininig_data.input.tolist()\n",
    "outputs = traininig_data.output.tolist()\n",
    "texts = traininig_data.text.tolist()\n",
    "\n",
    "prompts = []\n",
    "for idx, (inst, input, output, text) in enumerate(zip(insts, inputs, outputs, texts)):\n",
    "\tp_ex = get_passive_lang(output)\n",
    "\tfor ex_idx, ex in enumerate(p_ex):\n",
    "\t\tsection = find_section_text(exp=ex, text=input)\n",
    "\t\tprompt = create_prompt(text=section, ex=ex)\n",
    "\t\tprompts.append(\n",
    "\t\t\t{\n",
    "\t\t\t\t\"idx\": idx,\n",
    "\t\t\t\t\"ex_idx\": ex_idx,\n",
    "\t\t\t\t\"ex\": ex,\n",
    "\t\t\t\t\"section\": section,\n",
    "\t\t\t\t\"prompt\": prompt,\n",
    "\t\t\t\t\"instruction\": inst,\n",
    "\t\t\t\t\"input\": input,\n",
    "\t\t\t\t\"output\": output,\n",
    "\t\t\t\t\"text\": text\n",
    "\t\t\t}\n",
    "\t\t)"
   ]
  },
  {
   "cell_type": "code",
   "execution_count": 43,
   "metadata": {},
   "outputs": [
    {
     "data": {
      "text/plain": [
       "46837"
      ]
     },
     "execution_count": 43,
     "metadata": {},
     "output_type": "execute_result"
    }
   ],
   "source": [
    "len(prompts)"
   ]
  },
  {
   "cell_type": "code",
   "execution_count": 39,
   "metadata": {},
   "outputs": [],
   "source": [
    "df_prompts_s = pd.DataFrame.from_records(prompts_s)"
   ]
  },
  {
   "cell_type": "code",
   "execution_count": 40,
   "metadata": {},
   "outputs": [
    {
     "data": {
      "text/html": [
       "<div>\n",
       "<style scoped>\n",
       "    .dataframe tbody tr th:only-of-type {\n",
       "        vertical-align: middle;\n",
       "    }\n",
       "\n",
       "    .dataframe tbody tr th {\n",
       "        vertical-align: top;\n",
       "    }\n",
       "\n",
       "    .dataframe thead th {\n",
       "        text-align: right;\n",
       "    }\n",
       "</style>\n",
       "<table border=\"1\" class=\"dataframe\">\n",
       "  <thead>\n",
       "    <tr style=\"text-align: right;\">\n",
       "      <th></th>\n",
       "      <th>idx</th>\n",
       "      <th>ex_idx</th>\n",
       "      <th>ex</th>\n",
       "      <th>section</th>\n",
       "      <th>prompt</th>\n",
       "      <th>instruction</th>\n",
       "      <th>input</th>\n",
       "      <th>output</th>\n",
       "      <th>text</th>\n",
       "    </tr>\n",
       "  </thead>\n",
       "  <tbody>\n",
       "    <tr>\n",
       "      <th>0</th>\n",
       "      <td>7814</td>\n",
       "      <td>1</td>\n",
       "      <td>Conducted training sessions for new employees.</td>\n",
       "      <td>Rikkal White\\nDallas, Tx | Rikkalwhite2002@icloud.com | 469-412-1081\\nWork Experience\\nHr Coordi...</td>\n",
       "      <td>You are a helpful assistant, specializing in English Grammar checking.\\nYou must check if the 'E...</td>\n",
       "      <td>You are a professional resume evaluator. Given the following resume 'Input', please return a fee...</td>\n",
       "      <td>Rikkal White\\nDallas, Tx | Rikkalwhite2002@icloud.com | 469-412-1081\\nWork Experience\\nHr Coordi...</td>\n",
       "      <td>'Introduction': Your work history section includes substantive content, which is a positive aspe...</td>\n",
       "      <td>Below is an instruction that describes a task, paired with an input that provides further contex...</td>\n",
       "    </tr>\n",
       "    <tr>\n",
       "      <th>1</th>\n",
       "      <td>3845</td>\n",
       "      <td>0</td>\n",
       "      <td>Assisted with daily activities, personal care, and medication management.</td>\n",
       "      <td>Zahra Seyed\\nCaregiver\\ndddkorhani@yahoo.com\\n2064807767\\n\\nSeattle, 98115, United States\\n\\nPro...</td>\n",
       "      <td>You are a helpful assistant, specializing in English Grammar checking.\\nYou must check if the 'E...</td>\n",
       "      <td>You are a professional resume evaluator. Given the following resume 'Input', please return a fee...</td>\n",
       "      <td>Zahra Seyed\\nCaregiver\\ndddkorhani@yahoo.com\\n2064807767\\n\\nSeattle, 98115, United States\\n\\nPro...</td>\n",
       "      <td>'Introduction': Your work history is robust, with substantial content that effectively describes...</td>\n",
       "      <td>Below is an instruction that describes a task, paired with an input that provides further contex...</td>\n",
       "    </tr>\n",
       "    <tr>\n",
       "      <th>2</th>\n",
       "      <td>3430</td>\n",
       "      <td>0</td>\n",
       "      <td>Responsible for students' safety.</td>\n",
       "      <td>Tarnisha Benton\\n\\nEl Dorado, AR 71730\\ntarnishamichelle1@gmail.com\\n+1 870 677 0366\\n\\nAuthoriz...</td>\n",
       "      <td>You are a helpful assistant, specializing in English Grammar checking.\\nYou must check if the 'E...</td>\n",
       "      <td>You are a professional resume evaluator. Given the following resume 'Input', please return a fee...</td>\n",
       "      <td>Tarnisha Benton\\n\\nEl Dorado, AR 71730\\ntarnishamichelle1@gmail.com\\n+1 870 677 0366\\n\\nAuthoriz...</td>\n",
       "      <td>'Introduction': Your work history section includes job titles and company names, but it lacks de...</td>\n",
       "      <td>Below is an instruction that describes a task, paired with an input that provides further contex...</td>\n",
       "    </tr>\n",
       "    <tr>\n",
       "      <th>3</th>\n",
       "      <td>4786</td>\n",
       "      <td>1</td>\n",
       "      <td>Collaborated with data engineering teams.</td>\n",
       "      <td>ANUPAMA VARADARAJAN\\n\\nMid-level BI Analyst\\n\\nanupamavaradan@gmail.com\\n\\n+1 630 222 8507 | Pla...</td>\n",
       "      <td>You are a helpful assistant, specializing in English Grammar checking.\\nYou must check if the 'E...</td>\n",
       "      <td>You are a professional resume evaluator. Given the following resume 'Input', please return a fee...</td>\n",
       "      <td>ANUPAMA VARADARAJAN\\n\\nMid-level BI Analyst\\n\\nanupamavaradan@gmail.com\\n\\n+1 630 222 8507 | Pla...</td>\n",
       "      <td>'Introduction': Your work history showcases a variety of relevant experiences, but it could be m...</td>\n",
       "      <td>Below is an instruction that describes a task, paired with an input that provides further contex...</td>\n",
       "    </tr>\n",
       "    <tr>\n",
       "      <th>4</th>\n",
       "      <td>14719</td>\n",
       "      <td>0</td>\n",
       "      <td>- Managed project documentation and provided administrative support to maintain organized workfl...</td>\n",
       "      <td>Hien Le Suess\\n412-721-6880\\nhien.suess@gmail.com\\nwww.linkedin.com/in/hiensuess\\n\\nCertified CA...</td>\n",
       "      <td>You are a helpful assistant, specializing in English Grammar checking.\\nYou must check if the 'E...</td>\n",
       "      <td>You are a professional resume evaluator. Given the following resume 'Input', please return a fee...</td>\n",
       "      <td>Hien Le Suess\\n412-721-6880\\nhien.suess@gmail.com\\nwww.linkedin.com/in/hiensuess\\n\\nCertified CA...</td>\n",
       "      <td>'Introduction': Your work history section contains substantial content, which is commendable. Ho...</td>\n",
       "      <td>Below is an instruction that describes a task, paired with an input that provides further contex...</td>\n",
       "    </tr>\n",
       "    <tr>\n",
       "      <th>...</th>\n",
       "      <td>...</td>\n",
       "      <td>...</td>\n",
       "      <td>...</td>\n",
       "      <td>...</td>\n",
       "      <td>...</td>\n",
       "      <td>...</td>\n",
       "      <td>...</td>\n",
       "      <td>...</td>\n",
       "      <td>...</td>\n",
       "    </tr>\n",
       "    <tr>\n",
       "      <th>9995</th>\n",
       "      <td>2269</td>\n",
       "      <td>0</td>\n",
       "      <td>Helped customers</td>\n",
       "      <td>David Almaraz-Estrada\\nWhittier, CA 90603\\ndae0595@gmail.com - (707) 244-9948\\n\\n\\nWORK EXPERIEN...</td>\n",
       "      <td>You are a helpful assistant, specializing in English Grammar checking.\\nYou must check if the 'E...</td>\n",
       "      <td>You are a professional resume evaluator. Given the following resume 'Input', please return a fee...</td>\n",
       "      <td>David Almaraz-Estrada\\nWhittier, CA 90603\\ndae0595@gmail.com - (707) 244-9948\\n\\n\\nWORK EXPERIEN...</td>\n",
       "      <td>'Introduction': Your work history section contains several roles, but it would benefit from more...</td>\n",
       "      <td>Below is an instruction that describes a task, paired with an input that provides further contex...</td>\n",
       "    </tr>\n",
       "    <tr>\n",
       "      <th>9996</th>\n",
       "      <td>12924</td>\n",
       "      <td>2</td>\n",
       "      <td>Coordinated project activities.</td>\n",
       "      <td>Allison Colavito\\n\\nSummary\\n\\n\\n9 years' program/project experience working on dynamic and fast...</td>\n",
       "      <td>You are a helpful assistant, specializing in English Grammar checking.\\nYou must check if the 'E...</td>\n",
       "      <td>You are a professional resume evaluator. Given the following resume 'Input', please return a fee...</td>\n",
       "      <td>Allison Colavito\\n\\nSummary\\n\\n\\n9 years' program/project experience working on dynamic and fast...</td>\n",
       "      <td>'Introduction': Your work history section showcases a wealth of experience, but it could benefit...</td>\n",
       "      <td>Below is an instruction that describes a task, paired with an input that provides further contex...</td>\n",
       "    </tr>\n",
       "    <tr>\n",
       "      <th>9997</th>\n",
       "      <td>11644</td>\n",
       "      <td>1</td>\n",
       "      <td>Responsible for managing schedules.</td>\n",
       "      <td>Jozue Solorzano\\nJozue.solorzano@gmail.com\\n562.412.6139\\n\\nEducation:\\nCalifornia State Univers...</td>\n",
       "      <td>You are a helpful assistant, specializing in English Grammar checking.\\nYou must check if the 'E...</td>\n",
       "      <td>You are a professional resume evaluator. Given the following resume 'Input', please return a fee...</td>\n",
       "      <td>Jozue Solorzano\\nJozue.solorzano@gmail.com\\n562.412.6139\\n\\nEducation:\\nCalifornia State Univers...</td>\n",
       "      <td>'Introduction': Your work history section contains some descriptions, but it could benefit from ...</td>\n",
       "      <td>Below is an instruction that describes a task, paired with an input that provides further contex...</td>\n",
       "    </tr>\n",
       "    <tr>\n",
       "      <th>9998</th>\n",
       "      <td>17931</td>\n",
       "      <td>0</td>\n",
       "      <td>- 'Responsible for managing'</td>\n",
       "      <td>CHRISTINA MARAONE - MBA, MS, BS, BA\\n\\n\\nCmaraone@live.com\\t(720)320-5724  linkedin.com/in/chris...</td>\n",
       "      <td>You are a helpful assistant, specializing in English Grammar checking.\\nYou must check if the 'E...</td>\n",
       "      <td>You are a professional resume evaluator. Given the following resume 'Input', please return a fee...</td>\n",
       "      <td>CHRISTINA MARAONE - MBA, MS, BS, BA\\n\\n\\nCmaraone@live.com\\t(720)320-5724  linkedin.com/in/chris...</td>\n",
       "      <td>'Introduction': Your work history section contains substantial content, showcasing your professi...</td>\n",
       "      <td>Below is an instruction that describes a task, paired with an input that provides further contex...</td>\n",
       "    </tr>\n",
       "    <tr>\n",
       "      <th>9999</th>\n",
       "      <td>18761</td>\n",
       "      <td>1</td>\n",
       "      <td>Provided administrative support</td>\n",
       "      <td>KENTEYA BAYLOR\\n13633Colgate Way #946\\nSilver Spring, MD 20904\\n(202) 604-3863\\nkenteya.baylor@m...</td>\n",
       "      <td>You are a helpful assistant, specializing in English Grammar checking.\\nYou must check if the 'E...</td>\n",
       "      <td>You are a professional resume evaluator. Given the following resume 'Input', please return a fee...</td>\n",
       "      <td>KENTEYA BAYLOR\\n13633Colgate Way #946\\nSilver Spring, MD 20904\\n(202) 604-3863\\nkenteya.baylor@m...</td>\n",
       "      <td>'Introduction': The work history section of your resume is quite substantial; however, it can be...</td>\n",
       "      <td>Below is an instruction that describes a task, paired with an input that provides further contex...</td>\n",
       "    </tr>\n",
       "  </tbody>\n",
       "</table>\n",
       "<p>10000 rows × 9 columns</p>\n",
       "</div>"
      ],
      "text/plain": [
       "        idx  ex_idx  \\\n",
       "0      7814       1   \n",
       "1      3845       0   \n",
       "2      3430       0   \n",
       "3      4786       1   \n",
       "4     14719       0   \n",
       "...     ...     ...   \n",
       "9995   2269       0   \n",
       "9996  12924       2   \n",
       "9997  11644       1   \n",
       "9998  17931       0   \n",
       "9999  18761       1   \n",
       "\n",
       "                                                                                                       ex  \\\n",
       "0                                                          Conducted training sessions for new employees.   \n",
       "1                               Assisted with daily activities, personal care, and medication management.   \n",
       "2                                                                       Responsible for students' safety.   \n",
       "3                                                               Collaborated with data engineering teams.   \n",
       "4     - Managed project documentation and provided administrative support to maintain organized workfl...   \n",
       "...                                                                                                   ...   \n",
       "9995                                                                                     Helped customers   \n",
       "9996                                                                      Coordinated project activities.   \n",
       "9997                                                                  Responsible for managing schedules.   \n",
       "9998                                                                         - 'Responsible for managing'   \n",
       "9999                                                                      Provided administrative support   \n",
       "\n",
       "                                                                                                  section  \\\n",
       "0     Rikkal White\\nDallas, Tx | Rikkalwhite2002@icloud.com | 469-412-1081\\nWork Experience\\nHr Coordi...   \n",
       "1     Zahra Seyed\\nCaregiver\\ndddkorhani@yahoo.com\\n2064807767\\n\\nSeattle, 98115, United States\\n\\nPro...   \n",
       "2     Tarnisha Benton\\n\\nEl Dorado, AR 71730\\ntarnishamichelle1@gmail.com\\n+1 870 677 0366\\n\\nAuthoriz...   \n",
       "3     ANUPAMA VARADARAJAN\\n\\nMid-level BI Analyst\\n\\nanupamavaradan@gmail.com\\n\\n+1 630 222 8507 | Pla...   \n",
       "4     Hien Le Suess\\n412-721-6880\\nhien.suess@gmail.com\\nwww.linkedin.com/in/hiensuess\\n\\nCertified CA...   \n",
       "...                                                                                                   ...   \n",
       "9995  David Almaraz-Estrada\\nWhittier, CA 90603\\ndae0595@gmail.com - (707) 244-9948\\n\\n\\nWORK EXPERIEN...   \n",
       "9996  Allison Colavito\\n\\nSummary\\n\\n\\n9 years' program/project experience working on dynamic and fast...   \n",
       "9997  Jozue Solorzano\\nJozue.solorzano@gmail.com\\n562.412.6139\\n\\nEducation:\\nCalifornia State Univers...   \n",
       "9998  CHRISTINA MARAONE - MBA, MS, BS, BA\\n\\n\\nCmaraone@live.com\\t(720)320-5724  linkedin.com/in/chris...   \n",
       "9999  KENTEYA BAYLOR\\n13633Colgate Way #946\\nSilver Spring, MD 20904\\n(202) 604-3863\\nkenteya.baylor@m...   \n",
       "\n",
       "                                                                                                   prompt  \\\n",
       "0     You are a helpful assistant, specializing in English Grammar checking.\\nYou must check if the 'E...   \n",
       "1     You are a helpful assistant, specializing in English Grammar checking.\\nYou must check if the 'E...   \n",
       "2     You are a helpful assistant, specializing in English Grammar checking.\\nYou must check if the 'E...   \n",
       "3     You are a helpful assistant, specializing in English Grammar checking.\\nYou must check if the 'E...   \n",
       "4     You are a helpful assistant, specializing in English Grammar checking.\\nYou must check if the 'E...   \n",
       "...                                                                                                   ...   \n",
       "9995  You are a helpful assistant, specializing in English Grammar checking.\\nYou must check if the 'E...   \n",
       "9996  You are a helpful assistant, specializing in English Grammar checking.\\nYou must check if the 'E...   \n",
       "9997  You are a helpful assistant, specializing in English Grammar checking.\\nYou must check if the 'E...   \n",
       "9998  You are a helpful assistant, specializing in English Grammar checking.\\nYou must check if the 'E...   \n",
       "9999  You are a helpful assistant, specializing in English Grammar checking.\\nYou must check if the 'E...   \n",
       "\n",
       "                                                                                              instruction  \\\n",
       "0     You are a professional resume evaluator. Given the following resume 'Input', please return a fee...   \n",
       "1     You are a professional resume evaluator. Given the following resume 'Input', please return a fee...   \n",
       "2     You are a professional resume evaluator. Given the following resume 'Input', please return a fee...   \n",
       "3     You are a professional resume evaluator. Given the following resume 'Input', please return a fee...   \n",
       "4     You are a professional resume evaluator. Given the following resume 'Input', please return a fee...   \n",
       "...                                                                                                   ...   \n",
       "9995  You are a professional resume evaluator. Given the following resume 'Input', please return a fee...   \n",
       "9996  You are a professional resume evaluator. Given the following resume 'Input', please return a fee...   \n",
       "9997  You are a professional resume evaluator. Given the following resume 'Input', please return a fee...   \n",
       "9998  You are a professional resume evaluator. Given the following resume 'Input', please return a fee...   \n",
       "9999  You are a professional resume evaluator. Given the following resume 'Input', please return a fee...   \n",
       "\n",
       "                                                                                                    input  \\\n",
       "0     Rikkal White\\nDallas, Tx | Rikkalwhite2002@icloud.com | 469-412-1081\\nWork Experience\\nHr Coordi...   \n",
       "1     Zahra Seyed\\nCaregiver\\ndddkorhani@yahoo.com\\n2064807767\\n\\nSeattle, 98115, United States\\n\\nPro...   \n",
       "2     Tarnisha Benton\\n\\nEl Dorado, AR 71730\\ntarnishamichelle1@gmail.com\\n+1 870 677 0366\\n\\nAuthoriz...   \n",
       "3     ANUPAMA VARADARAJAN\\n\\nMid-level BI Analyst\\n\\nanupamavaradan@gmail.com\\n\\n+1 630 222 8507 | Pla...   \n",
       "4     Hien Le Suess\\n412-721-6880\\nhien.suess@gmail.com\\nwww.linkedin.com/in/hiensuess\\n\\nCertified CA...   \n",
       "...                                                                                                   ...   \n",
       "9995  David Almaraz-Estrada\\nWhittier, CA 90603\\ndae0595@gmail.com - (707) 244-9948\\n\\n\\nWORK EXPERIEN...   \n",
       "9996  Allison Colavito\\n\\nSummary\\n\\n\\n9 years' program/project experience working on dynamic and fast...   \n",
       "9997  Jozue Solorzano\\nJozue.solorzano@gmail.com\\n562.412.6139\\n\\nEducation:\\nCalifornia State Univers...   \n",
       "9998  CHRISTINA MARAONE - MBA, MS, BS, BA\\n\\n\\nCmaraone@live.com\\t(720)320-5724  linkedin.com/in/chris...   \n",
       "9999  KENTEYA BAYLOR\\n13633Colgate Way #946\\nSilver Spring, MD 20904\\n(202) 604-3863\\nkenteya.baylor@m...   \n",
       "\n",
       "                                                                                                   output  \\\n",
       "0     'Introduction': Your work history section includes substantive content, which is a positive aspe...   \n",
       "1     'Introduction': Your work history is robust, with substantial content that effectively describes...   \n",
       "2     'Introduction': Your work history section includes job titles and company names, but it lacks de...   \n",
       "3     'Introduction': Your work history showcases a variety of relevant experiences, but it could be m...   \n",
       "4     'Introduction': Your work history section contains substantial content, which is commendable. Ho...   \n",
       "...                                                                                                   ...   \n",
       "9995  'Introduction': Your work history section contains several roles, but it would benefit from more...   \n",
       "9996  'Introduction': Your work history section showcases a wealth of experience, but it could benefit...   \n",
       "9997  'Introduction': Your work history section contains some descriptions, but it could benefit from ...   \n",
       "9998  'Introduction': Your work history section contains substantial content, showcasing your professi...   \n",
       "9999  'Introduction': The work history section of your resume is quite substantial; however, it can be...   \n",
       "\n",
       "                                                                                                     text  \n",
       "0     Below is an instruction that describes a task, paired with an input that provides further contex...  \n",
       "1     Below is an instruction that describes a task, paired with an input that provides further contex...  \n",
       "2     Below is an instruction that describes a task, paired with an input that provides further contex...  \n",
       "3     Below is an instruction that describes a task, paired with an input that provides further contex...  \n",
       "4     Below is an instruction that describes a task, paired with an input that provides further contex...  \n",
       "...                                                                                                   ...  \n",
       "9995  Below is an instruction that describes a task, paired with an input that provides further contex...  \n",
       "9996  Below is an instruction that describes a task, paired with an input that provides further contex...  \n",
       "9997  Below is an instruction that describes a task, paired with an input that provides further contex...  \n",
       "9998  Below is an instruction that describes a task, paired with an input that provides further contex...  \n",
       "9999  Below is an instruction that describes a task, paired with an input that provides further contex...  \n",
       "\n",
       "[10000 rows x 9 columns]"
      ]
     },
     "execution_count": 40,
     "metadata": {},
     "output_type": "execute_result"
    }
   ],
   "source": [
    "df_prompts_s"
   ]
  },
  {
   "cell_type": "markdown",
   "metadata": {},
   "source": []
  },
  {
   "cell_type": "code",
   "execution_count": null,
   "metadata": {},
   "outputs": [],
   "source": [
    "n_dataset = []\n",
    "for output in f_results:\n",
    "\to_idx = output[\"idx\"]\n",
    "\to_ex_idx = output[\"ex_idx\"]\n",
    "\tfor prompt in prompts_s:\n",
    "\t\tp_idx = prompt[\"idx\"]\n",
    "\t\tp_ex_idx = prompt[\"ex_idx\"]\n",
    "\t\tif o_idx == p_idx and o_ex_idx == p_ex_idx:\n",
    "\t\t\tn_dataset.append(\n",
    "\t\t\t\t{\n",
    "\t\t\t\t\t\"instruction\": prompt[\"instruction\"],\n",
    "\t\t\t\t\t\"input\": prompt[\"input\"],\n",
    "\t\t\t\t\t\"output\": prompt[\"output\"],\n",
    "\t\t\t\t\t\"text\": prompt[\"text\"],\n",
    "\t\t\t\t\t\"idx\": o_idx,\n",
    "\t\t\t\t\t\"ex_idx\": o_ex_idx,\n",
    "\t\t\t\t\t\"passive\": output[\"output\"]\n",
    "\t\t\t\t}\n",
    "\t\t\t)\n",
    "\t\t\tbreak"
   ]
  },
  {
   "cell_type": "code",
   "execution_count": 32,
   "metadata": {},
   "outputs": [
    {
     "data": {
      "text/plain": [
       "36000"
      ]
     },
     "execution_count": 32,
     "metadata": {},
     "output_type": "execute_result"
    }
   ],
   "source": [
    "len(n_dataset)"
   ]
  },
  {
   "cell_type": "code",
   "execution_count": 33,
   "metadata": {},
   "outputs": [],
   "source": [
    "n_df = pd.DataFrame.from_records(n_dataset)"
   ]
  },
  {
   "cell_type": "code",
   "execution_count": 36,
   "metadata": {},
   "outputs": [
    {
     "data": {
      "text/plain": [
       "885"
      ]
     },
     "execution_count": 36,
     "metadata": {},
     "output_type": "execute_result"
    }
   ],
   "source": [
    "n_df[n_df[\"passive\"]==\"True\"].idx.nunique()"
   ]
  },
  {
   "cell_type": "code",
   "execution_count": null,
   "metadata": {},
   "outputs": [],
   "source": [
    "len(results)"
   ]
  },
  {
   "cell_type": "markdown",
   "metadata": {},
   "source": [
    "## Second Execution"
   ]
  },
  {
   "cell_type": "code",
   "execution_count": 21,
   "metadata": {},
   "outputs": [
    {
     "data": {
      "text/plain": [
       "46837"
      ]
     },
     "execution_count": 21,
     "metadata": {},
     "output_type": "execute_result"
    }
   ],
   "source": [
    "len(prompts)"
   ]
  },
  {
   "cell_type": "code",
   "execution_count": 22,
   "metadata": {},
   "outputs": [
    {
     "data": {
      "text/plain": [
       "{'idx': 0,\n",
       " 'ex_idx': 0,\n",
       " 'ex': 'Responsible for employee reviews and assessments',\n",
       " 'section': \"Floor and Décor\\tAntioch, TN\\nOperations Manager\\t2/16 - 6/18\\n*\\tMonitored daily business, cash, and credit to ensure accurate deposits and daily business functions followed company policies.\\n*\\tMentor and coach for new hires and upwardly mobile employees. Managed all support staff for- a new public corporation of hard surface flooring retail store. Was directly responsible for promoting 7 people in 5 years as administrative manager and mentored over 20 other employees' that could get promotions in other stores.\\n*\\tInvolved in all hiring processes for the store.\\n*\\tResponsible for employee reviews and assessments within the administrative department, that included all non-sales employees (support staff).\\n*\\tForklift certification trainer.\",\n",
       " 'prompt': \"You are a helpful assistant, specializing in English Grammar checking.\\nYou must check if the 'EXAMPLE' extracted from 'TEXT' is an example of Passive Language checking the context.\\n\\nHere, some rules that represents a passive example:\\n- If the example starts with: 'Work', 'Function', 'Handle', 'Participate', 'Worked', 'Functioned', 'Handled', 'Participated'.\\n- If the example starts with: 'Responsible', 'Accountable'.\\n- If the example doesn't start with a active verb.\\n- If the example starts with a Noun.\\n- If the example starts with an abstract Noun, for example, 'supervision'.\\n- If the example is on passive voice.\\n\\nReturn 'True' if yes, or 'False' if it's not passive language.\\nRemember, if the example starts a active verb, return 'False'.\\nDon't explain or give additional information. Just return 'True' or 'False'.\\n\\n'TEXT': \\n'''\\nFloor and Décor\\tAntioch, TN\\nOperations Manager\\t2/16 - 6/18\\n*\\tMonitored daily business, cash, and credit to ensure accurate deposits and daily business functions followed company policies.\\n*\\tMentor and coach for new hires and upwardly mobile employees. Managed all support staff for- a new public corporation of hard surface flooring retail store. Was directly responsible for promoting 7 people in 5 years as administrative manager and mentored over 20 other employees' that could get promotions in other stores.\\n*\\tInvolved in all hiring processes for the store.\\n*\\tResponsible for employee reviews and assessments within the administrative department, that included all non-sales employees (support staff).\\n*\\tForklift certification trainer.\\n'''\\n\\n'EXAMPLE': Responsible for employee reviews and assessments\\n\",\n",
       " 'instruction': \"You are a professional resume evaluator. Given the following resume 'Input', please return a feedback / evaluation 'Response' about the Work History / Experience section.\\n\\nCheck the following explanation for each required feedback / evaluation:\\n'Introduction': A introduction about the work history / experience of the work history / experience.\\n'Achiever': A critique about the achievements and tasks / duties quality in the work history / experience.\\n'Achievements': An array with examples of achievements sentences for improving the resume writing.\\n'Passive': A critique about the use of passive language and expressions in the work history / experience.\\n'Passive Language': An array with examples of passive language verbs, expressions or sentences for improving the resume writing.\\n'Screen Out: A conclusion about the work history / experience.\\n\\nReturn the required information in 'Response'.\",\n",
       " 'input': \"1\\n\\n\\n1\\n\\n\\nClayton R. Kirk\\n\\n* 902 General Barksdale Dr. Smyrna, TN 37167 * 629-244-9163 (c)\\nclaytonkirk@comcast.net *\\n\\n\\nPROFESSIONAL PROFILE\\n\\nSelf-directed, successful leader, mentor, accomplished manager, and administrative professional with over 25 years of experience in management and training. Highly organized, able to multi-task and accomplish multiple objectives. Detail-oriented and able to take initiative, prioritize multiple tasks, and manage personnel and workload. Resourceful team player with can-do attitude and proven ability to produce results.\\n\\nKEY SKILLS\\n\\n*\\tManage individuals and teams (60 - 80 employees, depending on season).\\n*\\tHiring, review and assessment capabilities.\\n*\\tCompetitive market intelligence in a metro market.\\n*\\tEffective trainer and mentor in the retail home improvement industry.\\n*\\tMicrosoft Office (Word, Excel, PowerPoint, Outlook) competencies.\\n*\\tProfessional written and communication skills.\\n*\\tEffective written, presentation and spreadsheet skills in the Microsoft Office software.\\n\\nPROFESSIONAL EXPERIENCE\\n\\nRiteRug, LLC\\tLa Vergne, TN\\nReceiving Specialist\\t\\t 3/20 - 2/24\\n*\\tReceive all incoming product.\\n*\\tAssign locations.\\n*\\tFollow up all discrepancies.\\n*\\tTrack all discrepancies.\\n\\nEmpire Today LLC\\tNashville, TN\\nInstallation Manager\\t\\t8/19 - 12/19\\n*\\tAssign installers to meet the daily install in a cost-efficient manner.\\n*\\tWarehouse supervisor: auditor, receiver.\\n*\\tForklift operator.\\n\\nDriveline\\tIrving, TX\\nProject Manager\\t9/18 - 3/19\\n*\\tDedicated to ensuring clients' needs are met in a timely and cost-efficient manner.\\n*\\tManage payroll and documentation for the project and team.\\n*\\tForklift operator.\\n\\nFloor and Décor\\tAntioch, TN\\nOperations Manager\\t2/16 - 6/18\\n*\\tMonitored daily business, cash, and credit to ensure accurate deposits and daily business functions followed company policies.\\n*\\tMentor and coach for new hires and upwardly mobile employees. Managed all support staff for- a new public corporation of hard surface flooring retail store. Was directly responsible for promoting 7 people in 5 years as administrative manager and mentored over 20 other employees' that could get promotions in other stores.\\n*\\tInvolved in all hiring processes for the store.\\n*\\tResponsible for employee reviews and assessments within the administrative department, that included all non-sales employees (support staff).\\n*\\tForklift certification trainer.\\n\\nAmazon Fulfillment\\t\\tMurfreesboro, TN\\nEquipment Operator/Receiving\\t9/15 - 2/16\\n*\\tReceiving\\n*\\tStow\\n*\\tPick orders\\n*\\tOrder picker certified\\n*\\tReach truck certified\\n*\\tForklift certified\\n\\nFamily Dollar\\tNashville, TN\\nStore Manager\\t2/15 - 8/15\\n*\\tResponsible for store margins, sales budgets, and payroll budgets on weekly, monthly, and yearly basis.\\n*\\tMonitor employee tasks, freight flow, prioritize employee work lists, develop, and implemented merchandizing projects for departments.\\n*\\tResponsible for creating, reviewing, and approving schedules, vacations, and time off requests for the store.\\n*\\tResponsible for first level interviews for new employees for the store.\\n*\\tResponsible for employee reviews and assessments within store.\\n\\nUS Health Advisors\\tNashville, TN\\nIndependent Health Insurance Agent\\t4/14 to 2/15\\n*\\tPresent and write health insurance policies\\n\\nLowes Companies\\t\\tWilkesboro, NC\\n-Market Intelligence and Pricing Specialist\\t2/10 to 3/14\\n*\\tCreate and execute regional marketing research and analysis encompassing integrated marketing, pricing and advertising initiatives for the Metropolitan Nashville, TN market. -\\n*\\t-Organize presentations to conceptualize product development strategies for senior management. -\\n*\\t-Communicate with senior management, internal departments, and vendors to coordinate overall marketing effort involving point of purchase merchandising and product launching in accordance with corporate goals. -\\n*\\tDesigned and wrote a market intelligence, pricing, and customer service training manual for the retail industry that was presented as my Master of Education thesis.\\n\\nLowes Companies\\t\\tWilkesboro, NC\\nOperations Manager\\t\\t2/06 - 2/10\\n*\\t---11 years in management for a big box retailer, 4 years as the Administrative manager, responsible for reducing controllable expenses, responsible for monthly, quarterly, and annual store budgets, audits, merchandising and pricing (was number 1with in 21 stores, 2 districts, for audits.\\n*\\tMonitored daily business, cash, and credit to ensure accurate deposits and daily business functions followed company policies.\\n*\\tMentor and coach for new hires and upwardly mobile employees. Managed all support staff for- 35-million-dollar retail store. Was directly responsible for promoting 7 people in 5 years as administrative manager and mentored over 20 other employees' that could get promotions in other stores.\\n*\\tInvolved in all hiring processes for the store.\\n*\\tResponsible for employee reviews and assessments within the administrative department, that included all non-sales employees (support staff).\\n\\nLowes Companies\\t\\t Wilkesboro, NC\\nAssistant Manager\\t2/00 - 1/06\\n*\\tResponsible for department margins, general sales budgets, special order budgets, and installed sales budgets, for flooring, home décor, paint, hardware, tools, electrical, plumbing, both rough and fashion, appliances, and kitchen design, on a weekly, monthly, and yearly basis.\\n*\\tMonitored employee tasks, freight flow, prioritized employee work lists, developed and implemented merchandizing projects for departments.\\n*\\tResponsible for creating, reviewing, and approving schedules, vacations, and time off requests for the departments.\\n*\\tPlayed a specific role of second level interviewer as manager for hiring of all store employees. Played third level interviewer, with authority to hire employees for all departments under my control.\\n*\\tResponsible for employee reviews and assessments within the departments I was responsible for.\\n\\nLowes Companies\\t\\tWilkesboro, NC\\nDepartment Manager\\t\\t3/97 - 2/00\\n*\\tResponsible for maintenance of department along with assigning work lists.\\n*\\tResponsible for department training; ensuring that employees followed company guidelines for training.\\n*\\tResponsible for department scheduling.\\n\\nEDUCATION\\n\\nAmerican InterContinental University-\\tSchaumburg, IL  Master of Education, Concentration in Adult Education, and Training\\t2014\\n*\\tGPA 3.89\\n\\nAmerican InterContinental University-\\tSchaumburg, IL  Bachelor of Business Administration, Concentration in Marketing\\t2013\\n*\\t-GPA 3.95\\nAmerican InterContinental University\\tSchaumburg, IL\\nAssociate of Arts, Business Administration\\t2011\\n*\\tGPA 4.0\\n\\nMILITARY EXPERIENCE\\n\\nUnited States Navy\\tSan Diego, CA\\n-Communications Radioman and Crypto Expert\\t1974\\n*\\tHonorable Discharge\",\n",
       " 'output': \"'Introduction': Your work history is comprehensive, yet the descriptions could benefit from deeper engagement and impact. Providing substantial content that showcases your duties and achievements will create a more compelling narrative of your professional journey.\\n'Achiever': Your work history features a mix of tasks and accomplishments, but the emphasis on achievements could be stronger. It’s important to shift the focus from what you've done to what you've accomplished, presenting measurable value to prospective employers. This approach will help you stand out as an achiever rather than a doer.\\n'Achievements': ['Developed and implemented training programs for over 20 employees, resulting in multiple promotions.', 'Managed daily operations, achieving a 15% increase in efficiency through strategic resource allocation.']\\n'Passive': Your resume includes some passive language that could be more dynamic. Avoiding repetitive and weak phrasing is essential to engaging the reader. Utilizing more active language will enhance the impact of your descriptions and better showcase your achievements.\\n'Passive Language': ['Responsible for employee reviews and assessments', 'Involved in hiring processes', 'Monitored employee tasks']\\n'Screen Out: Your resume presents a consistent work history, which is a strong asset. However, be mindful of any older positions and consider focusing on the most relevant and recent roles to maintain a modern focus. This will ensure you avoid any perceptions of ageism.\",\n",
       " 'text': \"Below is an instruction that describes a task, paired with an input that provides further context. Write a response that appropriately completes the request.\\n\\n### Instruction:\\nYou are a professional resume evaluator. Given the following resume 'Input', please return a feedback / evaluation 'Response' about the Work History / Experience section.\\n\\nCheck the following explanation for each required feedback / evaluation:\\n'Introduction': A introduction about the work history / experience of the work history / experience.\\n'Achiever': A critique about the achievements and tasks / duties quality in the work history / experience.\\n'Achievements': An array with examples of achievements sentences for improving the resume writing.\\n'Passive': A critique about the use of passive language and expressions in the work history / experience.\\n'Passive Language': An array with examples of passive language verbs, expressions or sentences for improving the resume writing.\\n'Screen Out: A conclusion about the work history / experience.\\n\\nReturn the required information in 'Response'.\\n\\n### Input:\\n1\\n\\n\\n1\\n\\n\\nClayton R. Kirk\\n\\n* 902 General Barksdale Dr. Smyrna, TN 37167 * 629-244-9163 (c)\\nclaytonkirk@comcast.net *\\n\\n\\nPROFESSIONAL PROFILE\\n\\nSelf-directed, successful leader, mentor, accomplished manager, and administrative professional with over 25 years of experience in management and training. Highly organized, able to multi-task and accomplish multiple objectives. Detail-oriented and able to take initiative, prioritize multiple tasks, and manage personnel and workload. Resourceful team player with can-do attitude and proven ability to produce results.\\n\\nKEY SKILLS\\n\\n*\\tManage individuals and teams (60 - 80 employees, depending on season).\\n*\\tHiring, review and assessment capabilities.\\n*\\tCompetitive market intelligence in a metro market.\\n*\\tEffective trainer and mentor in the retail home improvement industry.\\n*\\tMicrosoft Office (Word, Excel, PowerPoint, Outlook) competencies.\\n*\\tProfessional written and communication skills.\\n*\\tEffective written, presentation and spreadsheet skills in the Microsoft Office software.\\n\\nPROFESSIONAL EXPERIENCE\\n\\nRiteRug, LLC\\tLa Vergne, TN\\nReceiving Specialist\\t\\t 3/20 - 2/24\\n*\\tReceive all incoming product.\\n*\\tAssign locations.\\n*\\tFollow up all discrepancies.\\n*\\tTrack all discrepancies.\\n\\nEmpire Today LLC\\tNashville, TN\\nInstallation Manager\\t\\t8/19 - 12/19\\n*\\tAssign installers to meet the daily install in a cost-efficient manner.\\n*\\tWarehouse supervisor: auditor, receiver.\\n*\\tForklift operator.\\n\\nDriveline\\tIrving, TX\\nProject Manager\\t9/18 - 3/19\\n*\\tDedicated to ensuring clients' needs are met in a timely and cost-efficient manner.\\n*\\tManage payroll and documentation for the project and team.\\n*\\tForklift operator.\\n\\nFloor and Décor\\tAntioch, TN\\nOperations Manager\\t2/16 - 6/18\\n*\\tMonitored daily business, cash, and credit to ensure accurate deposits and daily business functions followed company policies.\\n*\\tMentor and coach for new hires and upwardly mobile employees. Managed all support staff for- a new public corporation of hard surface flooring retail store. Was directly responsible for promoting 7 people in 5 years as administrative manager and mentored over 20 other employees' that could get promotions in other stores.\\n*\\tInvolved in all hiring processes for the store.\\n*\\tResponsible for employee reviews and assessments within the administrative department, that included all non-sales employees (support staff).\\n*\\tForklift certification trainer.\\n\\nAmazon Fulfillment\\t\\tMurfreesboro, TN\\nEquipment Operator/Receiving\\t9/15 - 2/16\\n*\\tReceiving\\n*\\tStow\\n*\\tPick orders\\n*\\tOrder picker certified\\n*\\tReach truck certified\\n*\\tForklift certified\\n\\nFamily Dollar\\tNashville, TN\\nStore Manager\\t2/15 - 8/15\\n*\\tResponsible for store margins, sales budgets, and payroll budgets on weekly, monthly, and yearly basis.\\n*\\tMonitor employee tasks, freight flow, prioritize employee work lists, develop, and implemented merchandizing projects for departments.\\n*\\tResponsible for creating, reviewing, and approving schedules, vacations, and time off requests for the store.\\n*\\tResponsible for first level interviews for new employees for the store.\\n*\\tResponsible for employee reviews and assessments within store.\\n\\nUS Health Advisors\\tNashville, TN\\nIndependent Health Insurance Agent\\t4/14 to 2/15\\n*\\tPresent and write health insurance policies\\n\\nLowes Companies\\t\\tWilkesboro, NC\\n-Market Intelligence and Pricing Specialist\\t2/10 to 3/14\\n*\\tCreate and execute regional marketing research and analysis encompassing integrated marketing, pricing and advertising initiatives for the Metropolitan Nashville, TN market. -\\n*\\t-Organize presentations to conceptualize product development strategies for senior management. -\\n*\\t-Communicate with senior management, internal departments, and vendors to coordinate overall marketing effort involving point of purchase merchandising and product launching in accordance with corporate goals. -\\n*\\tDesigned and wrote a market intelligence, pricing, and customer service training manual for the retail industry that was presented as my Master of Education thesis.\\n\\nLowes Companies\\t\\tWilkesboro, NC\\nOperations Manager\\t\\t2/06 - 2/10\\n*\\t---11 years in management for a big box retailer, 4 years as the Administrative manager, responsible for reducing controllable expenses, responsible for monthly, quarterly, and annual store budgets, audits, merchandising and pricing (was number 1with in 21 stores, 2 districts, for audits.\\n*\\tMonitored daily business, cash, and credit to ensure accurate deposits and daily business functions followed company policies.\\n*\\tMentor and coach for new hires and upwardly mobile employees. Managed all support staff for- 35-million-dollar retail store. Was directly responsible for promoting 7 people in 5 years as administrative manager and mentored over 20 other employees' that could get promotions in other stores.\\n*\\tInvolved in all hiring processes for the store.\\n*\\tResponsible for employee reviews and assessments within the administrative department, that included all non-sales employees (support staff).\\n\\nLowes Companies\\t\\t Wilkesboro, NC\\nAssistant Manager\\t2/00 - 1/06\\n*\\tResponsible for department margins, general sales budgets, special order budgets, and installed sales budgets, for flooring, home décor, paint, hardware, tools, electrical, plumbing, both rough and fashion, appliances, and kitchen design, on a weekly, monthly, and yearly basis.\\n*\\tMonitored employee tasks, freight flow, prioritized employee work lists, developed and implemented merchandizing projects for departments.\\n*\\tResponsible for creating, reviewing, and approving schedules, vacations, and time off requests for the departments.\\n*\\tPlayed a specific role of second level interviewer as manager for hiring of all store employees. Played third level interviewer, with authority to hire employees for all departments under my control.\\n*\\tResponsible for employee reviews and assessments within the departments I was responsible for.\\n\\nLowes Companies\\t\\tWilkesboro, NC\\nDepartment Manager\\t\\t3/97 - 2/00\\n*\\tResponsible for maintenance of department along with assigning work lists.\\n*\\tResponsible for department training; ensuring that employees followed company guidelines for training.\\n*\\tResponsible for department scheduling.\\n\\nEDUCATION\\n\\nAmerican InterContinental University-\\tSchaumburg, IL  Master of Education, Concentration in Adult Education, and Training\\t2014\\n*\\tGPA 3.89\\n\\nAmerican InterContinental University-\\tSchaumburg, IL  Bachelor of Business Administration, Concentration in Marketing\\t2013\\n*\\t-GPA 3.95\\nAmerican InterContinental University\\tSchaumburg, IL\\nAssociate of Arts, Business Administration\\t2011\\n*\\tGPA 4.0\\n\\nMILITARY EXPERIENCE\\n\\nUnited States Navy\\tSan Diego, CA\\n-Communications Radioman and Crypto Expert\\t1974\\n*\\tHonorable Discharge\\n\\n### Response:\\n'Introduction': Your work history is comprehensive, yet the descriptions could benefit from deeper engagement and impact. Providing substantial content that showcases your duties and achievements will create a more compelling narrative of your professional journey.\\n'Achiever': Your work history features a mix of tasks and accomplishments, but the emphasis on achievements could be stronger. It’s important to shift the focus from what you've done to what you've accomplished, presenting measurable value to prospective employers. This approach will help you stand out as an achiever rather than a doer.\\n'Achievements': ['Developed and implemented training programs for over 20 employees, resulting in multiple promotions.', 'Managed daily operations, achieving a 15% increase in efficiency through strategic resource allocation.']\\n'Passive': Your resume includes some passive language that could be more dynamic. Avoiding repetitive and weak phrasing is essential to engaging the reader. Utilizing more active language will enhance the impact of your descriptions and better showcase your achievements.\\n'Passive Language': ['Responsible for employee reviews and assessments', 'Involved in hiring processes', 'Monitored employee tasks']\\n'Screen Out: Your resume presents a consistent work history, which is a strong asset. However, be mindful of any older positions and consider focusing on the most relevant and recent roles to maintain a modern focus. This will ensure you avoid any perceptions of ageism.\"}"
      ]
     },
     "execution_count": 22,
     "metadata": {},
     "output_type": "execute_result"
    }
   ],
   "source": [
    "prompts[0]"
   ]
  },
  {
   "cell_type": "code",
   "execution_count": 24,
   "metadata": {},
   "outputs": [],
   "source": [
    "prompts_sample = prompts[:50]"
   ]
  },
  {
   "cell_type": "code",
   "execution_count": 25,
   "metadata": {},
   "outputs": [
    {
     "name": "stderr",
     "output_type": "stream",
     "text": [
      "  0%|          | 0/5 [00:00<?, ?it/s]"
     ]
    },
    {
     "name": "stdout",
     "output_type": "stream",
     "text": [
      "Checking limit rate..\n",
      "Checking limit rate..\n",
      "New Minute is: 28990948\n",
      "New Total Tokens is: 1014\n",
      "Last Minute: 28990947\n",
      "Last Total tokens: 0\n",
      "Generating...\n",
      "New Minute is: 28990948\n",
      "New Total Tokens is: 1426\n",
      "Last Minute: 28990947\n",
      "Last Total tokens: 1014\n",
      "Generating...\n"
     ]
    },
    {
     "name": "stderr",
     "output_type": "stream",
     "text": [
      " 20%|██        | 1/5 [00:01<00:04,  1.24s/it]"
     ]
    },
    {
     "name": "stdout",
     "output_type": "stream",
     "text": [
      "Checking limit rate..\n",
      "Generating...\n"
     ]
    },
    {
     "name": "stderr",
     "output_type": "stream",
     "text": [
      " 60%|██████    | 3/5 [00:01<00:00,  2.41it/s]"
     ]
    },
    {
     "name": "stdout",
     "output_type": "stream",
     "text": [
      "Checking limit rate..\n",
      "Generating...\n",
      "Checking limit rate..\n",
      "Generating...\n"
     ]
    },
    {
     "name": "stderr",
     "output_type": "stream",
     "text": [
      "100%|██████████| 5/5 [00:02<00:00,  2.23it/s]\n"
     ]
    },
    {
     "name": "stdout",
     "output_type": "stream",
     "text": [
      "1\n"
     ]
    },
    {
     "name": "stderr",
     "output_type": "stream",
     "text": [
      "  0%|          | 0/5 [00:00<?, ?it/s]"
     ]
    },
    {
     "name": "stdout",
     "output_type": "stream",
     "text": [
      "Checking limit rate..\n",
      "Checking limit rate..\n",
      "Generating...\n",
      "Generating...\n"
     ]
    },
    {
     "name": "stderr",
     "output_type": "stream",
     "text": [
      " 20%|██        | 1/5 [00:00<00:01,  2.75it/s]"
     ]
    },
    {
     "name": "stdout",
     "output_type": "stream",
     "text": [
      "Checking limit rate..\n",
      "Generating...\n"
     ]
    },
    {
     "name": "stderr",
     "output_type": "stream",
     "text": [
      " 40%|████      | 2/5 [00:00<00:01,  2.32it/s]"
     ]
    },
    {
     "name": "stdout",
     "output_type": "stream",
     "text": [
      "Checking limit rate..\n",
      "Generating...\n"
     ]
    },
    {
     "name": "stderr",
     "output_type": "stream",
     "text": [
      " 60%|██████    | 3/5 [00:01<00:00,  2.66it/s]"
     ]
    },
    {
     "name": "stdout",
     "output_type": "stream",
     "text": [
      "Checking limit rate..\n",
      "Generating...\n"
     ]
    },
    {
     "name": "stderr",
     "output_type": "stream",
     "text": [
      "100%|██████████| 5/5 [00:01<00:00,  2.64it/s]\n"
     ]
    },
    {
     "name": "stdout",
     "output_type": "stream",
     "text": [
      "2\n"
     ]
    },
    {
     "name": "stderr",
     "output_type": "stream",
     "text": [
      "  0%|          | 0/5 [00:00<?, ?it/s]"
     ]
    },
    {
     "name": "stdout",
     "output_type": "stream",
     "text": [
      "Checking limit rate..\n",
      "Checking limit rate..\n",
      "Generating...\n",
      "Generating...\n"
     ]
    },
    {
     "name": "stderr",
     "output_type": "stream",
     "text": [
      " 20%|██        | 1/5 [00:00<00:01,  3.62it/s]"
     ]
    },
    {
     "name": "stdout",
     "output_type": "stream",
     "text": [
      "Checking limit rate..\n",
      "Generating...\n",
      "Checking limit rate..\n",
      "Generating...\n"
     ]
    },
    {
     "name": "stderr",
     "output_type": "stream",
     "text": [
      " 80%|████████  | 4/5 [00:00<00:00,  6.40it/s]"
     ]
    },
    {
     "name": "stdout",
     "output_type": "stream",
     "text": [
      "Checking limit rate..\n",
      "Generating...\n"
     ]
    },
    {
     "name": "stderr",
     "output_type": "stream",
     "text": [
      "100%|██████████| 5/5 [00:00<00:00,  5.43it/s]\n"
     ]
    },
    {
     "name": "stdout",
     "output_type": "stream",
     "text": [
      "3\n"
     ]
    },
    {
     "name": "stderr",
     "output_type": "stream",
     "text": [
      "  0%|          | 0/5 [00:00<?, ?it/s]"
     ]
    },
    {
     "name": "stdout",
     "output_type": "stream",
     "text": [
      "Checking limit rate..\n",
      "Checking limit rate..\n",
      "Generating...\n",
      "Generating...\n"
     ]
    },
    {
     "name": "stderr",
     "output_type": "stream",
     "text": [
      " 20%|██        | 1/5 [00:00<00:01,  2.50it/s]"
     ]
    },
    {
     "name": "stdout",
     "output_type": "stream",
     "text": [
      "Checking limit rate..\n",
      "Generating...\n"
     ]
    },
    {
     "name": "stderr",
     "output_type": "stream",
     "text": [
      " 60%|██████    | 3/5 [00:01<00:00,  3.07it/s]"
     ]
    },
    {
     "name": "stdout",
     "output_type": "stream",
     "text": [
      "Checking limit rate..\n",
      "Generating...\n",
      "Checking limit rate..\n",
      "Generating...\n"
     ]
    },
    {
     "name": "stderr",
     "output_type": "stream",
     "text": [
      "100%|██████████| 5/5 [00:02<00:00,  1.89it/s]\n"
     ]
    },
    {
     "name": "stdout",
     "output_type": "stream",
     "text": [
      "4\n"
     ]
    },
    {
     "name": "stderr",
     "output_type": "stream",
     "text": [
      "  0%|          | 0/5 [00:00<?, ?it/s]"
     ]
    },
    {
     "name": "stdout",
     "output_type": "stream",
     "text": [
      "Checking limit rate..\n",
      "Checking limit rate..\n",
      "Generating...\n",
      "Generating...\n"
     ]
    },
    {
     "name": "stderr",
     "output_type": "stream",
     "text": [
      " 20%|██        | 1/5 [00:00<00:01,  3.06it/s]"
     ]
    },
    {
     "name": "stdout",
     "output_type": "stream",
     "text": [
      "Checking limit rate..\n",
      "Generating...\n",
      "Checking limit rate..\n",
      "Generating...\n"
     ]
    },
    {
     "name": "stderr",
     "output_type": "stream",
     "text": [
      " 60%|██████    | 3/5 [00:00<00:00,  5.54it/s]"
     ]
    },
    {
     "name": "stdout",
     "output_type": "stream",
     "text": [
      "Checking limit rate..\n",
      "Generating...\n"
     ]
    },
    {
     "name": "stderr",
     "output_type": "stream",
     "text": [
      "100%|██████████| 5/5 [00:00<00:00,  5.51it/s]\n"
     ]
    },
    {
     "name": "stdout",
     "output_type": "stream",
     "text": [
      "5\n"
     ]
    },
    {
     "name": "stderr",
     "output_type": "stream",
     "text": [
      "  0%|          | 0/5 [00:00<?, ?it/s]"
     ]
    },
    {
     "name": "stdout",
     "output_type": "stream",
     "text": [
      "Checking limit rate..\n",
      "Checking limit rate..\n",
      "Generating...\n",
      "Generating...\n"
     ]
    },
    {
     "name": "stderr",
     "output_type": "stream",
     "text": [
      " 20%|██        | 1/5 [00:00<00:01,  3.24it/s]"
     ]
    },
    {
     "name": "stdout",
     "output_type": "stream",
     "text": [
      "Checking limit rate..\n",
      "Generating...\n"
     ]
    },
    {
     "name": "stderr",
     "output_type": "stream",
     "text": [
      " 40%|████      | 2/5 [00:00<00:00,  4.03it/s]"
     ]
    },
    {
     "name": "stdout",
     "output_type": "stream",
     "text": [
      "Checking limit rate..\n",
      "Generating...\n",
      "Checking limit rate..\n",
      "Generating...\n"
     ]
    },
    {
     "name": "stderr",
     "output_type": "stream",
     "text": [
      "100%|██████████| 5/5 [00:01<00:00,  4.29it/s]\n"
     ]
    },
    {
     "name": "stdout",
     "output_type": "stream",
     "text": [
      "6\n"
     ]
    },
    {
     "name": "stderr",
     "output_type": "stream",
     "text": [
      "  0%|          | 0/5 [00:00<?, ?it/s]"
     ]
    },
    {
     "name": "stdout",
     "output_type": "stream",
     "text": [
      "Checking limit rate..\n",
      "Checking limit rate..\n",
      "Generating...\n",
      "Generating...\n"
     ]
    },
    {
     "name": "stderr",
     "output_type": "stream",
     "text": [
      " 20%|██        | 1/5 [00:00<00:03,  1.23it/s]"
     ]
    },
    {
     "name": "stdout",
     "output_type": "stream",
     "text": [
      "Checking limit rate..\n",
      "Generating...\n"
     ]
    },
    {
     "name": "stderr",
     "output_type": "stream",
     "text": [
      " 40%|████      | 2/5 [00:01<00:01,  2.03it/s]"
     ]
    },
    {
     "name": "stdout",
     "output_type": "stream",
     "text": [
      "Checking limit rate..\n",
      "Generating...\n"
     ]
    },
    {
     "name": "stderr",
     "output_type": "stream",
     "text": [
      " 60%|██████    | 3/5 [00:01<00:00,  2.24it/s]"
     ]
    },
    {
     "name": "stdout",
     "output_type": "stream",
     "text": [
      "Checking limit rate..\n",
      "Generating...\n"
     ]
    },
    {
     "name": "stderr",
     "output_type": "stream",
     "text": [
      "100%|██████████| 5/5 [00:02<00:00,  2.23it/s]\n"
     ]
    },
    {
     "name": "stdout",
     "output_type": "stream",
     "text": [
      "7\n"
     ]
    },
    {
     "name": "stderr",
     "output_type": "stream",
     "text": [
      "  0%|          | 0/5 [00:00<?, ?it/s]"
     ]
    },
    {
     "name": "stdout",
     "output_type": "stream",
     "text": [
      "Checking limit rate..\n",
      "Checking limit rate..\n",
      "Generating...\n",
      "Generating...\n"
     ]
    },
    {
     "name": "stderr",
     "output_type": "stream",
     "text": [
      " 20%|██        | 1/5 [00:00<00:01,  2.64it/s]"
     ]
    },
    {
     "name": "stdout",
     "output_type": "stream",
     "text": [
      "Checking limit rate..\n",
      "Generating...\n"
     ]
    },
    {
     "name": "stderr",
     "output_type": "stream",
     "text": [
      " 40%|████      | 2/5 [00:00<00:01,  2.89it/s]"
     ]
    },
    {
     "name": "stdout",
     "output_type": "stream",
     "text": [
      "Checking limit rate..\n",
      "Generating...\n"
     ]
    },
    {
     "name": "stderr",
     "output_type": "stream",
     "text": [
      " 60%|██████    | 3/5 [00:00<00:00,  3.38it/s]"
     ]
    },
    {
     "name": "stdout",
     "output_type": "stream",
     "text": [
      "Checking limit rate..\n",
      "Generating...\n"
     ]
    },
    {
     "name": "stderr",
     "output_type": "stream",
     "text": [
      "100%|██████████| 5/5 [00:01<00:00,  3.15it/s]"
     ]
    },
    {
     "name": "stdout",
     "output_type": "stream",
     "text": [
      "8\n"
     ]
    },
    {
     "name": "stderr",
     "output_type": "stream",
     "text": [
      "\n"
     ]
    }
   ],
   "source": [
    "results = []\n",
    "for idx, sl in enumerate(split_list(prompts_sample, 10)):\n",
    "\tif idx in [0, 1]:\n",
    "\t\tcontinue\n",
    "\tres = execute_azure_openai_with_text_in_thread_pool(sl)\n",
    "\tresults.append(res)\n",
    "\tsave_obj(results, DATA_PROCESSED_PATH / f\"resume_critique_model_2_passive_curated_{idx}_run_ex.pkl\")\n",
    "\tprint(len(results))"
   ]
  },
  {
   "cell_type": "code",
   "execution_count": 68,
   "metadata": {},
   "outputs": [
    {
     "data": {
      "text/plain": [
       "{'idx': 1162,\n",
       " 'ex_idx': 1,\n",
       " 'ex': 'Kept facilities clean',\n",
       " 'section': 'Marvin Martinez\\n\\nMaintenance/Server/Cashier/Barista\\nNew York, NY 10009\\nMartinez.marvin001@gmail.com\\n+1(845) 597-8780\\n\\n● Experienced in dealing with customers in a polite and professional manner\\n● Outstanding people skills\\n● Dedicated worker who will work hard to perform exceptionally\\n\\nWilling to relocate: Anywhere\\nAuthorized to work in the US for any employer\\n\\n\\nWork Experience\\n\\nStock Supervisor/ Stock Lead\\nMarshall Retail Group -New York, NY\\nDecember 2023 to Present\\n\\n* Inventory management for 2 locations\\n* Stock replenishment front of house and back of house\\n* Auditing and compliance with planogram\\n* Guided team in practices of FIFO\\n* Problem-solving and collaboration\\n* Kept all facilities free of garbage and debris\\n* Logged shipment orders into system when needed\\n\\nStore Manager/ Mobile Expert\\nT-Mobile-Middletown, NY\\nJanuary 2020 to November 2023\\n\\n* Assisted customers in choosing which phone would best suite them\\n* Managed employees sales practices, scheduling, body language and voice inflections\\n* Promoted to store Manager only a month after working in the location\\n\\nRetail Sales Consultant\\nAT&T -Middletown, NY\\nFebruary 2022 to May 2022\\n\\n* Organized sales practices for myself and others due to past experience.\\n* Assisted customers in choosing devices that best fit their needs\\n* Built rapport with more than 90% of the customer base that came to me for help\\n* Worked with computers, tablets, work devices and more to assist customers over the phone as much\\nas possible\\n\\nAssistant Manager\\nSpirit Halloween Super Store -New York, NY\\nAugust 2019 to November 2019\\n\\n\\n*Creating scheduled for employees\\n*Raising money for charity\\n*Keeping facilities clean at all times\\n*Merchandising aisles\\n\\nBarista\\nBlue Bottle Coffee Company   -New York, NY\\nNovember 2018 to March 2019\\n\\n* Made delicious coffee from scratch\\n* Latte art apprentice\\n* Kept all facilities clean\\n* Trained new Workers on how to operate the machines within the establishment\\n\\nAssistant Manager\\nSpirit Halloween Super Store -New York, NY\\nAugust 2018 to November 2018\\n\\n* Created schedule for associates\\n* Raised a significant amount of money for our charity\\n* Provided exceptional customer service for Halloween enthusiasts and regulars alike\\n* Counted Registers and back bank efficiently\\n\\nMaintenance/Barista/Cashier\\nPorto Rico Importing Co\\nNovember 2015 to July 2018\\n\\nHelps customers have an incredible experience with good customer service.\\n● Makes sure the register was accounted for at the end of the night.\\n● Keeps all facilities as clean as possible (i.e. Wiping down countertops, sweeping, mopping, taking out\\ntrash)\\n\\n\\nEducation\\n\\nCybersecurity 160hrs Specialist Course in Cybersecurity Specialist\\nLaGuardia Community College - Long Island City, NY\\nMarch 2024 to July 2024\\n\\nRegents Diploma\\nFrederick Douglass Academy\\n\\n\\nSkills\\n\\n* Coffee Experience\\n\\n* Barista Experience\\n\\n* Management\\n\\n* Custodial Experience\\n* Retail management\\n\\n* Sales\\n\\n\\n* Retail sales\\n\\n* Supervising experience\\n\\n* Food service\\n\\n* POS\\n\\n* Cash Handling\\n\\n* Assistant Manager Experience\\n\\n* Store Management Experience\\n\\n* Retail\\n\\n* Customer Service\\n\\n* Inventory\\n\\n* Asset Protection/ Unarmed Security Courses (Less than 1 year)\\n* Store management\\n\\n* Customer service\\n\\n* Retail sales\\n\\n* Cash register\\n\\n* Supervising experience\\n\\n* Merchandising\\n\\n* POS\\n\\n* Warehouse management\\n\\n* Conflict management\\n\\n* Analysis skills\\n\\n* Technical support\\n\\n* Management\\n\\n* Sales management\\n\\n* Mobile devices\\n\\n* Negotiation\\n* Marketing\\n\\n* Inside sales\\n\\n* Hospitality\\n\\n* Front desk\\n\\n* Capture One (1 year)\\n\\n* ERP systems (3 years)\\n\\n\\nCertifications and Licenses\\n\\nSecurity 8 Hour Pre-Licensing Course\\nJuly 2022 to July 2022\\n\\nThis is the first training required to work in asset protection\\n\\n16 Hour OJT training\\nJuly 2022 to July 2022\\n\\n\\nThis is the certification that demonstrates I have undergone the training required to patrol an area C of\\nwork for asset protection.\\n\\nCybersecurity Specialist 160HR Certification Course\\nPresent',\n",
       " 'prompt': \"You are a helpful assistant, specializing in English Grammar checking.\\nYou must check if the 'EXAMPLE' extracted from 'TEXT' is an example of Passive Language checking the context.\\n\\nHere, some rules that represents a passive example:\\n- If the example starts with: 'Work', 'Function', 'Handle', 'Participate', 'Worked', 'Functioned', 'Handled', 'Participated'.\\n- If the example starts with: 'Responsible', 'Accountable'.\\n- If the example doesn't start with a active verb.\\n- If the example starts with a Noun.\\n- If the example starts with an abstract Noun, for example, 'supervision'.\\n- If the example is on passive voice.\\n\\nReturn 'True' if yes, or 'False' if it's not passive language.\\nRemember, if the example starts a active verb, return 'False'.\\nDon't explain or give additional information. Just return 'True' or 'False'.\\n\\n'TEXT': \\n'''\\nMarvin Martinez\\n\\nMaintenance/Server/Cashier/Barista\\nNew York, NY 10009\\nMartinez.marvin001@gmail.com\\n+1(845) 597-8780\\n\\n● Experienced in dealing with customers in a polite and professional manner\\n● Outstanding people skills\\n● Dedicated worker who will work hard to perform exceptionally\\n\\nWilling to relocate: Anywhere\\nAuthorized to work in the US for any employer\\n\\n\\nWork Experience\\n\\nStock Supervisor/ Stock Lead\\nMarshall Retail Group -New York, NY\\nDecember 2023 to Present\\n\\n* Inventory management for 2 locations\\n* Stock replenishment front of house and back of house\\n* Auditing and compliance with planogram\\n* Guided team in practices of FIFO\\n* Problem-solving and collaboration\\n* Kept all facilities free of garbage and debris\\n* Logged shipment orders into system when needed\\n\\nStore Manager/ Mobile Expert\\nT-Mobile-Middletown, NY\\nJanuary 2020 to November 2023\\n\\n* Assisted customers in choosing which phone would best suite them\\n* Managed employees sales practices, scheduling, body language and voice inflections\\n* Promoted to store Manager only a month after working in the location\\n\\nRetail Sales Consultant\\nAT&T -Middletown, NY\\nFebruary 2022 to May 2022\\n\\n* Organized sales practices for myself and others due to past experience.\\n* Assisted customers in choosing devices that best fit their needs\\n* Built rapport with more than 90% of the customer base that came to me for help\\n* Worked with computers, tablets, work devices and more to assist customers over the phone as much\\nas possible\\n\\nAssistant Manager\\nSpirit Halloween Super Store -New York, NY\\nAugust 2019 to November 2019\\n\\n\\n*Creating scheduled for employees\\n*Raising money for charity\\n*Keeping facilities clean at all times\\n*Merchandising aisles\\n\\nBarista\\nBlue Bottle Coffee Company   -New York, NY\\nNovember 2018 to March 2019\\n\\n* Made delicious coffee from scratch\\n* Latte art apprentice\\n* Kept all facilities clean\\n* Trained new Workers on how to operate the machines within the establishment\\n\\nAssistant Manager\\nSpirit Halloween Super Store -New York, NY\\nAugust 2018 to November 2018\\n\\n* Created schedule for associates\\n* Raised a significant amount of money for our charity\\n* Provided exceptional customer service for Halloween enthusiasts and regulars alike\\n* Counted Registers and back bank efficiently\\n\\nMaintenance/Barista/Cashier\\nPorto Rico Importing Co\\nNovember 2015 to July 2018\\n\\nHelps customers have an incredible experience with good customer service.\\n● Makes sure the register was accounted for at the end of the night.\\n● Keeps all facilities as clean as possible (i.e. Wiping down countertops, sweeping, mopping, taking out\\ntrash)\\n\\n\\nEducation\\n\\nCybersecurity 160hrs Specialist Course in Cybersecurity Specialist\\nLaGuardia Community College - Long Island City, NY\\nMarch 2024 to July 2024\\n\\nRegents Diploma\\nFrederick Douglass Academy\\n\\n\\nSkills\\n\\n* Coffee Experience\\n\\n* Barista Experience\\n\\n* Management\\n\\n* Custodial Experience\\n* Retail management\\n\\n* Sales\\n\\n\\n* Retail sales\\n\\n* Supervising experience\\n\\n* Food service\\n\\n* POS\\n\\n* Cash Handling\\n\\n* Assistant Manager Experience\\n\\n* Store Management Experience\\n\\n* Retail\\n\\n* Customer Service\\n\\n* Inventory\\n\\n* Asset Protection/ Unarmed Security Courses (Less than 1 year)\\n* Store management\\n\\n* Customer service\\n\\n* Retail sales\\n\\n* Cash register\\n\\n* Supervising experience\\n\\n* Merchandising\\n\\n* POS\\n\\n* Warehouse management\\n\\n* Conflict management\\n\\n* Analysis skills\\n\\n* Technical support\\n\\n* Management\\n\\n* Sales management\\n\\n* Mobile devices\\n\\n* Negotiation\\n* Marketing\\n\\n* Inside sales\\n\\n* Hospitality\\n\\n* Front desk\\n\\n* Capture One (1 year)\\n\\n* ERP systems (3 years)\\n\\n\\nCertifications and Licenses\\n\\nSecurity 8 Hour Pre-Licensing Course\\nJuly 2022 to July 2022\\n\\nThis is the first training required to work in asset protection\\n\\n16 Hour OJT training\\nJuly 2022 to July 2022\\n\\n\\nThis is the certification that demonstrates I have undergone the training required to patrol an area C of\\nwork for asset protection.\\n\\nCybersecurity Specialist 160HR Certification Course\\nPresent\\n'''\\n\\n'EXAMPLE': Kept facilities clean\\n\",\n",
       " 'instruction': \"You are a professional resume evaluator. Given the following resume 'Input', please return a feedback / evaluation 'Response' about the Work History / Experience section.\\n\\nCheck the following explanation for each required feedback / evaluation:\\n'Introduction': A introduction about the work history / experience of the work history / experience.\\n'Achiever': A critique about the achievements and tasks / duties quality in the work history / experience.\\n'Achievements': An array with examples of achievements sentences for improving the resume writing.\\n'Passive': A critique about the use of passive language and expressions in the work history / experience.\\n'Passive Language': An array with examples of passive language verbs, expressions or sentences for improving the resume writing.\\n'Screen Out: A conclusion about the work history / experience.\\n\\nReturn the required information in 'Response'.\",\n",
       " 'input': 'Marvin Martinez\\n\\nMaintenance/Server/Cashier/Barista\\nNew York, NY 10009\\nMartinez.marvin001@gmail.com\\n+1(845) 597-8780\\n\\n● Experienced in dealing with customers in a polite and professional manner\\n● Outstanding people skills\\n● Dedicated worker who will work hard to perform exceptionally\\n\\nWilling to relocate: Anywhere\\nAuthorized to work in the US for any employer\\n\\n\\nWork Experience\\n\\nStock Supervisor/ Stock Lead\\nMarshall Retail Group -New York, NY\\nDecember 2023 to Present\\n\\n* Inventory management for 2 locations\\n* Stock replenishment front of house and back of house\\n* Auditing and compliance with planogram\\n* Guided team in practices of FIFO\\n* Problem-solving and collaboration\\n* Kept all facilities free of garbage and debris\\n* Logged shipment orders into system when needed\\n\\nStore Manager/ Mobile Expert\\nT-Mobile-Middletown, NY\\nJanuary 2020 to November 2023\\n\\n* Assisted customers in choosing which phone would best suite them\\n* Managed employees sales practices, scheduling, body language and voice inflections\\n* Promoted to store Manager only a month after working in the location\\n\\nRetail Sales Consultant\\nAT&T -Middletown, NY\\nFebruary 2022 to May 2022\\n\\n* Organized sales practices for myself and others due to past experience.\\n* Assisted customers in choosing devices that best fit their needs\\n* Built rapport with more than 90% of the customer base that came to me for help\\n* Worked with computers, tablets, work devices and more to assist customers over the phone as much\\nas possible\\n\\nAssistant Manager\\nSpirit Halloween Super Store -New York, NY\\nAugust 2019 to November 2019\\n\\n\\n*Creating scheduled for employees\\n*Raising money for charity\\n*Keeping facilities clean at all times\\n*Merchandising aisles\\n\\nBarista\\nBlue Bottle Coffee Company   -New York, NY\\nNovember 2018 to March 2019\\n\\n* Made delicious coffee from scratch\\n* Latte art apprentice\\n* Kept all facilities clean\\n* Trained new Workers on how to operate the machines within the establishment\\n\\nAssistant Manager\\nSpirit Halloween Super Store -New York, NY\\nAugust 2018 to November 2018\\n\\n* Created schedule for associates\\n* Raised a significant amount of money for our charity\\n* Provided exceptional customer service for Halloween enthusiasts and regulars alike\\n* Counted Registers and back bank efficiently\\n\\nMaintenance/Barista/Cashier\\nPorto Rico Importing Co\\nNovember 2015 to July 2018\\n\\nHelps customers have an incredible experience with good customer service.\\n● Makes sure the register was accounted for at the end of the night.\\n● Keeps all facilities as clean as possible (i.e. Wiping down countertops, sweeping, mopping, taking out\\ntrash)\\n\\n\\nEducation\\n\\nCybersecurity 160hrs Specialist Course in Cybersecurity Specialist\\nLaGuardia Community College - Long Island City, NY\\nMarch 2024 to July 2024\\n\\nRegents Diploma\\nFrederick Douglass Academy\\n\\n\\nSkills\\n\\n* Coffee Experience\\n\\n* Barista Experience\\n\\n* Management\\n\\n* Custodial Experience\\n* Retail management\\n\\n* Sales\\n\\n\\n* Retail sales\\n\\n* Supervising experience\\n\\n* Food service\\n\\n* POS\\n\\n* Cash Handling\\n\\n* Assistant Manager Experience\\n\\n* Store Management Experience\\n\\n* Retail\\n\\n* Customer Service\\n\\n* Inventory\\n\\n* Asset Protection/ Unarmed Security Courses (Less than 1 year)\\n* Store management\\n\\n* Customer service\\n\\n* Retail sales\\n\\n* Cash register\\n\\n* Supervising experience\\n\\n* Merchandising\\n\\n* POS\\n\\n* Warehouse management\\n\\n* Conflict management\\n\\n* Analysis skills\\n\\n* Technical support\\n\\n* Management\\n\\n* Sales management\\n\\n* Mobile devices\\n\\n* Negotiation\\n* Marketing\\n\\n* Inside sales\\n\\n* Hospitality\\n\\n* Front desk\\n\\n* Capture One (1 year)\\n\\n* ERP systems (3 years)\\n\\n\\nCertifications and Licenses\\n\\nSecurity 8 Hour Pre-Licensing Course\\nJuly 2022 to July 2022\\n\\nThis is the first training required to work in asset protection\\n\\n16 Hour OJT training\\nJuly 2022 to July 2022\\n\\n\\nThis is the certification that demonstrates I have undergone the training required to patrol an area C of\\nwork for asset protection.\\n\\nCybersecurity Specialist 160HR Certification Course\\nPresent',\n",
       " 'output': \"'Introduction': Your work history section contains valuable experiences; however, it would benefit from more engaging descriptions that emphasize your contributions and achievements. Providing context around your roles and showcasing your accomplishments can significantly enhance this section's impact.\\n'Achiever': Your work history could better balance task-oriented language with accomplishments. While you have included duties, it’s essential to emphasize measurable achievements that demonstrate your value as an employee. By focusing on what you achieved rather than just what you did, you can present yourself as a proactive contributor rather than simply a task completer.\\n'Achievements': ['Duty: Assisted customers in choosing devices that best fit their needs.', 'Achievement: Increased customer satisfaction scores by 20% through personalized service and product knowledge.']\\n'Passive': There is a noticeable amount of passive language throughout your work history. Avoiding repetitive and weak wording is crucial for maintaining reader engagement and demonstrating your active role in your previous positions. Consider using more dynamic verbs and engaging language to bring your experiences to life.\\n'Passive Language': ['Assisted customers', 'Kept facilities clean', 'Created schedules']\\n'Screen Out: Your resume reflects a consistent work history, which is commendable. This consistency is important as it showcases your reliability to potential employers. If you have any older positions, consider focusing on your most relevant and recent roles to maintain a modern focus.\",\n",
       " 'text': \"Below is an instruction that describes a task, paired with an input that provides further context. Write a response that appropriately completes the request.\\n\\n### Instruction:\\nYou are a professional resume evaluator. Given the following resume 'Input', please return a feedback / evaluation 'Response' about the Work History / Experience section.\\n\\nCheck the following explanation for each required feedback / evaluation:\\n'Introduction': A introduction about the work history / experience of the work history / experience.\\n'Achiever': A critique about the achievements and tasks / duties quality in the work history / experience.\\n'Achievements': An array with examples of achievements sentences for improving the resume writing.\\n'Passive': A critique about the use of passive language and expressions in the work history / experience.\\n'Passive Language': An array with examples of passive language verbs, expressions or sentences for improving the resume writing.\\n'Screen Out: A conclusion about the work history / experience.\\n\\nReturn the required information in 'Response'.\\n\\n### Input:\\nMarvin Martinez\\n\\nMaintenance/Server/Cashier/Barista\\nNew York, NY 10009\\nMartinez.marvin001@gmail.com\\n+1(845) 597-8780\\n\\n● Experienced in dealing with customers in a polite and professional manner\\n● Outstanding people skills\\n● Dedicated worker who will work hard to perform exceptionally\\n\\nWilling to relocate: Anywhere\\nAuthorized to work in the US for any employer\\n\\n\\nWork Experience\\n\\nStock Supervisor/ Stock Lead\\nMarshall Retail Group -New York, NY\\nDecember 2023 to Present\\n\\n* Inventory management for 2 locations\\n* Stock replenishment front of house and back of house\\n* Auditing and compliance with planogram\\n* Guided team in practices of FIFO\\n* Problem-solving and collaboration\\n* Kept all facilities free of garbage and debris\\n* Logged shipment orders into system when needed\\n\\nStore Manager/ Mobile Expert\\nT-Mobile-Middletown, NY\\nJanuary 2020 to November 2023\\n\\n* Assisted customers in choosing which phone would best suite them\\n* Managed employees sales practices, scheduling, body language and voice inflections\\n* Promoted to store Manager only a month after working in the location\\n\\nRetail Sales Consultant\\nAT&T -Middletown, NY\\nFebruary 2022 to May 2022\\n\\n* Organized sales practices for myself and others due to past experience.\\n* Assisted customers in choosing devices that best fit their needs\\n* Built rapport with more than 90% of the customer base that came to me for help\\n* Worked with computers, tablets, work devices and more to assist customers over the phone as much\\nas possible\\n\\nAssistant Manager\\nSpirit Halloween Super Store -New York, NY\\nAugust 2019 to November 2019\\n\\n\\n*Creating scheduled for employees\\n*Raising money for charity\\n*Keeping facilities clean at all times\\n*Merchandising aisles\\n\\nBarista\\nBlue Bottle Coffee Company   -New York, NY\\nNovember 2018 to March 2019\\n\\n* Made delicious coffee from scratch\\n* Latte art apprentice\\n* Kept all facilities clean\\n* Trained new Workers on how to operate the machines within the establishment\\n\\nAssistant Manager\\nSpirit Halloween Super Store -New York, NY\\nAugust 2018 to November 2018\\n\\n* Created schedule for associates\\n* Raised a significant amount of money for our charity\\n* Provided exceptional customer service for Halloween enthusiasts and regulars alike\\n* Counted Registers and back bank efficiently\\n\\nMaintenance/Barista/Cashier\\nPorto Rico Importing Co\\nNovember 2015 to July 2018\\n\\nHelps customers have an incredible experience with good customer service.\\n● Makes sure the register was accounted for at the end of the night.\\n● Keeps all facilities as clean as possible (i.e. Wiping down countertops, sweeping, mopping, taking out\\ntrash)\\n\\n\\nEducation\\n\\nCybersecurity 160hrs Specialist Course in Cybersecurity Specialist\\nLaGuardia Community College - Long Island City, NY\\nMarch 2024 to July 2024\\n\\nRegents Diploma\\nFrederick Douglass Academy\\n\\n\\nSkills\\n\\n* Coffee Experience\\n\\n* Barista Experience\\n\\n* Management\\n\\n* Custodial Experience\\n* Retail management\\n\\n* Sales\\n\\n\\n* Retail sales\\n\\n* Supervising experience\\n\\n* Food service\\n\\n* POS\\n\\n* Cash Handling\\n\\n* Assistant Manager Experience\\n\\n* Store Management Experience\\n\\n* Retail\\n\\n* Customer Service\\n\\n* Inventory\\n\\n* Asset Protection/ Unarmed Security Courses (Less than 1 year)\\n* Store management\\n\\n* Customer service\\n\\n* Retail sales\\n\\n* Cash register\\n\\n* Supervising experience\\n\\n* Merchandising\\n\\n* POS\\n\\n* Warehouse management\\n\\n* Conflict management\\n\\n* Analysis skills\\n\\n* Technical support\\n\\n* Management\\n\\n* Sales management\\n\\n* Mobile devices\\n\\n* Negotiation\\n* Marketing\\n\\n* Inside sales\\n\\n* Hospitality\\n\\n* Front desk\\n\\n* Capture One (1 year)\\n\\n* ERP systems (3 years)\\n\\n\\nCertifications and Licenses\\n\\nSecurity 8 Hour Pre-Licensing Course\\nJuly 2022 to July 2022\\n\\nThis is the first training required to work in asset protection\\n\\n16 Hour OJT training\\nJuly 2022 to July 2022\\n\\n\\nThis is the certification that demonstrates I have undergone the training required to patrol an area C of\\nwork for asset protection.\\n\\nCybersecurity Specialist 160HR Certification Course\\nPresent\\n\\n### Response:\\n'Introduction': Your work history section contains valuable experiences; however, it would benefit from more engaging descriptions that emphasize your contributions and achievements. Providing context around your roles and showcasing your accomplishments can significantly enhance this section's impact.\\n'Achiever': Your work history could better balance task-oriented language with accomplishments. While you have included duties, it’s essential to emphasize measurable achievements that demonstrate your value as an employee. By focusing on what you achieved rather than just what you did, you can present yourself as a proactive contributor rather than simply a task completer.\\n'Achievements': ['Duty: Assisted customers in choosing devices that best fit their needs.', 'Achievement: Increased customer satisfaction scores by 20% through personalized service and product knowledge.']\\n'Passive': There is a noticeable amount of passive language throughout your work history. Avoiding repetitive and weak wording is crucial for maintaining reader engagement and demonstrating your active role in your previous positions. Consider using more dynamic verbs and engaging language to bring your experiences to life.\\n'Passive Language': ['Assisted customers', 'Kept facilities clean', 'Created schedules']\\n'Screen Out: Your resume reflects a consistent work history, which is commendable. This consistency is important as it showcases your reliability to potential employers. If you have any older positions, consider focusing on your most relevant and recent roles to maintain a modern focus.\"}"
      ]
     },
     "execution_count": 68,
     "metadata": {},
     "output_type": "execute_result"
    }
   ],
   "source": [
    "list(split_list(prompts, 50))[3][0]"
   ]
  },
  {
   "cell_type": "code",
   "execution_count": 65,
   "metadata": {},
   "outputs": [
    {
     "data": {
      "text/plain": [
       "{'idx': 0,\n",
       " 'ex_idx': 0,\n",
       " 'ex': 'Responsible for employee reviews and assessments',\n",
       " 'section': \"Floor and Décor\\tAntioch, TN\\nOperations Manager\\t2/16 - 6/18\\n*\\tMonitored daily business, cash, and credit to ensure accurate deposits and daily business functions followed company policies.\\n*\\tMentor and coach for new hires and upwardly mobile employees. Managed all support staff for- a new public corporation of hard surface flooring retail store. Was directly responsible for promoting 7 people in 5 years as administrative manager and mentored over 20 other employees' that could get promotions in other stores.\\n*\\tInvolved in all hiring processes for the store.\\n*\\tResponsible for employee reviews and assessments within the administrative department, that included all non-sales employees (support staff).\\n*\\tForklift certification trainer.\",\n",
       " 'prompt': \"You are a helpful assistant, specializing in English Grammar checking.\\nYou must check if the 'EXAMPLE' extracted from 'TEXT' is an example of Passive Language checking the context.\\n\\nHere, some rules that represents a passive example:\\n- If the example starts with: 'Work', 'Function', 'Handle', 'Participate', 'Worked', 'Functioned', 'Handled', 'Participated'.\\n- If the example starts with: 'Responsible', 'Accountable'.\\n- If the example doesn't start with a active verb.\\n- If the example starts with a Noun.\\n- If the example starts with an abstract Noun, for example, 'supervision'.\\n- If the example is on passive voice.\\n\\nReturn 'True' if yes, or 'False' if it's not passive language.\\nRemember, if the example starts a active verb, return 'False'.\\nDon't explain or give additional information. Just return 'True' or 'False'.\\n\\n'TEXT': \\n'''\\nFloor and Décor\\tAntioch, TN\\nOperations Manager\\t2/16 - 6/18\\n*\\tMonitored daily business, cash, and credit to ensure accurate deposits and daily business functions followed company policies.\\n*\\tMentor and coach for new hires and upwardly mobile employees. Managed all support staff for- a new public corporation of hard surface flooring retail store. Was directly responsible for promoting 7 people in 5 years as administrative manager and mentored over 20 other employees' that could get promotions in other stores.\\n*\\tInvolved in all hiring processes for the store.\\n*\\tResponsible for employee reviews and assessments within the administrative department, that included all non-sales employees (support staff).\\n*\\tForklift certification trainer.\\n'''\\n\\n'EXAMPLE': Responsible for employee reviews and assessments\\n\",\n",
       " 'instruction': \"You are a professional resume evaluator. Given the following resume 'Input', please return a feedback / evaluation 'Response' about the Work History / Experience section.\\n\\nCheck the following explanation for each required feedback / evaluation:\\n'Introduction': A introduction about the work history / experience of the work history / experience.\\n'Achiever': A critique about the achievements and tasks / duties quality in the work history / experience.\\n'Achievements': An array with examples of achievements sentences for improving the resume writing.\\n'Passive': A critique about the use of passive language and expressions in the work history / experience.\\n'Passive Language': An array with examples of passive language verbs, expressions or sentences for improving the resume writing.\\n'Screen Out: A conclusion about the work history / experience.\\n\\nReturn the required information in 'Response'.\",\n",
       " 'input': \"1\\n\\n\\n1\\n\\n\\nClayton R. Kirk\\n\\n* 902 General Barksdale Dr. Smyrna, TN 37167 * 629-244-9163 (c)\\nclaytonkirk@comcast.net *\\n\\n\\nPROFESSIONAL PROFILE\\n\\nSelf-directed, successful leader, mentor, accomplished manager, and administrative professional with over 25 years of experience in management and training. Highly organized, able to multi-task and accomplish multiple objectives. Detail-oriented and able to take initiative, prioritize multiple tasks, and manage personnel and workload. Resourceful team player with can-do attitude and proven ability to produce results.\\n\\nKEY SKILLS\\n\\n*\\tManage individuals and teams (60 - 80 employees, depending on season).\\n*\\tHiring, review and assessment capabilities.\\n*\\tCompetitive market intelligence in a metro market.\\n*\\tEffective trainer and mentor in the retail home improvement industry.\\n*\\tMicrosoft Office (Word, Excel, PowerPoint, Outlook) competencies.\\n*\\tProfessional written and communication skills.\\n*\\tEffective written, presentation and spreadsheet skills in the Microsoft Office software.\\n\\nPROFESSIONAL EXPERIENCE\\n\\nRiteRug, LLC\\tLa Vergne, TN\\nReceiving Specialist\\t\\t 3/20 - 2/24\\n*\\tReceive all incoming product.\\n*\\tAssign locations.\\n*\\tFollow up all discrepancies.\\n*\\tTrack all discrepancies.\\n\\nEmpire Today LLC\\tNashville, TN\\nInstallation Manager\\t\\t8/19 - 12/19\\n*\\tAssign installers to meet the daily install in a cost-efficient manner.\\n*\\tWarehouse supervisor: auditor, receiver.\\n*\\tForklift operator.\\n\\nDriveline\\tIrving, TX\\nProject Manager\\t9/18 - 3/19\\n*\\tDedicated to ensuring clients' needs are met in a timely and cost-efficient manner.\\n*\\tManage payroll and documentation for the project and team.\\n*\\tForklift operator.\\n\\nFloor and Décor\\tAntioch, TN\\nOperations Manager\\t2/16 - 6/18\\n*\\tMonitored daily business, cash, and credit to ensure accurate deposits and daily business functions followed company policies.\\n*\\tMentor and coach for new hires and upwardly mobile employees. Managed all support staff for- a new public corporation of hard surface flooring retail store. Was directly responsible for promoting 7 people in 5 years as administrative manager and mentored over 20 other employees' that could get promotions in other stores.\\n*\\tInvolved in all hiring processes for the store.\\n*\\tResponsible for employee reviews and assessments within the administrative department, that included all non-sales employees (support staff).\\n*\\tForklift certification trainer.\\n\\nAmazon Fulfillment\\t\\tMurfreesboro, TN\\nEquipment Operator/Receiving\\t9/15 - 2/16\\n*\\tReceiving\\n*\\tStow\\n*\\tPick orders\\n*\\tOrder picker certified\\n*\\tReach truck certified\\n*\\tForklift certified\\n\\nFamily Dollar\\tNashville, TN\\nStore Manager\\t2/15 - 8/15\\n*\\tResponsible for store margins, sales budgets, and payroll budgets on weekly, monthly, and yearly basis.\\n*\\tMonitor employee tasks, freight flow, prioritize employee work lists, develop, and implemented merchandizing projects for departments.\\n*\\tResponsible for creating, reviewing, and approving schedules, vacations, and time off requests for the store.\\n*\\tResponsible for first level interviews for new employees for the store.\\n*\\tResponsible for employee reviews and assessments within store.\\n\\nUS Health Advisors\\tNashville, TN\\nIndependent Health Insurance Agent\\t4/14 to 2/15\\n*\\tPresent and write health insurance policies\\n\\nLowes Companies\\t\\tWilkesboro, NC\\n-Market Intelligence and Pricing Specialist\\t2/10 to 3/14\\n*\\tCreate and execute regional marketing research and analysis encompassing integrated marketing, pricing and advertising initiatives for the Metropolitan Nashville, TN market. -\\n*\\t-Organize presentations to conceptualize product development strategies for senior management. -\\n*\\t-Communicate with senior management, internal departments, and vendors to coordinate overall marketing effort involving point of purchase merchandising and product launching in accordance with corporate goals. -\\n*\\tDesigned and wrote a market intelligence, pricing, and customer service training manual for the retail industry that was presented as my Master of Education thesis.\\n\\nLowes Companies\\t\\tWilkesboro, NC\\nOperations Manager\\t\\t2/06 - 2/10\\n*\\t---11 years in management for a big box retailer, 4 years as the Administrative manager, responsible for reducing controllable expenses, responsible for monthly, quarterly, and annual store budgets, audits, merchandising and pricing (was number 1with in 21 stores, 2 districts, for audits.\\n*\\tMonitored daily business, cash, and credit to ensure accurate deposits and daily business functions followed company policies.\\n*\\tMentor and coach for new hires and upwardly mobile employees. Managed all support staff for- 35-million-dollar retail store. Was directly responsible for promoting 7 people in 5 years as administrative manager and mentored over 20 other employees' that could get promotions in other stores.\\n*\\tInvolved in all hiring processes for the store.\\n*\\tResponsible for employee reviews and assessments within the administrative department, that included all non-sales employees (support staff).\\n\\nLowes Companies\\t\\t Wilkesboro, NC\\nAssistant Manager\\t2/00 - 1/06\\n*\\tResponsible for department margins, general sales budgets, special order budgets, and installed sales budgets, for flooring, home décor, paint, hardware, tools, electrical, plumbing, both rough and fashion, appliances, and kitchen design, on a weekly, monthly, and yearly basis.\\n*\\tMonitored employee tasks, freight flow, prioritized employee work lists, developed and implemented merchandizing projects for departments.\\n*\\tResponsible for creating, reviewing, and approving schedules, vacations, and time off requests for the departments.\\n*\\tPlayed a specific role of second level interviewer as manager for hiring of all store employees. Played third level interviewer, with authority to hire employees for all departments under my control.\\n*\\tResponsible for employee reviews and assessments within the departments I was responsible for.\\n\\nLowes Companies\\t\\tWilkesboro, NC\\nDepartment Manager\\t\\t3/97 - 2/00\\n*\\tResponsible for maintenance of department along with assigning work lists.\\n*\\tResponsible for department training; ensuring that employees followed company guidelines for training.\\n*\\tResponsible for department scheduling.\\n\\nEDUCATION\\n\\nAmerican InterContinental University-\\tSchaumburg, IL  Master of Education, Concentration in Adult Education, and Training\\t2014\\n*\\tGPA 3.89\\n\\nAmerican InterContinental University-\\tSchaumburg, IL  Bachelor of Business Administration, Concentration in Marketing\\t2013\\n*\\t-GPA 3.95\\nAmerican InterContinental University\\tSchaumburg, IL\\nAssociate of Arts, Business Administration\\t2011\\n*\\tGPA 4.0\\n\\nMILITARY EXPERIENCE\\n\\nUnited States Navy\\tSan Diego, CA\\n-Communications Radioman and Crypto Expert\\t1974\\n*\\tHonorable Discharge\",\n",
       " 'output': \"'Introduction': Your work history is comprehensive, yet the descriptions could benefit from deeper engagement and impact. Providing substantial content that showcases your duties and achievements will create a more compelling narrative of your professional journey.\\n'Achiever': Your work history features a mix of tasks and accomplishments, but the emphasis on achievements could be stronger. It’s important to shift the focus from what you've done to what you've accomplished, presenting measurable value to prospective employers. This approach will help you stand out as an achiever rather than a doer.\\n'Achievements': ['Developed and implemented training programs for over 20 employees, resulting in multiple promotions.', 'Managed daily operations, achieving a 15% increase in efficiency through strategic resource allocation.']\\n'Passive': Your resume includes some passive language that could be more dynamic. Avoiding repetitive and weak phrasing is essential to engaging the reader. Utilizing more active language will enhance the impact of your descriptions and better showcase your achievements.\\n'Passive Language': ['Responsible for employee reviews and assessments', 'Involved in hiring processes', 'Monitored employee tasks']\\n'Screen Out: Your resume presents a consistent work history, which is a strong asset. However, be mindful of any older positions and consider focusing on the most relevant and recent roles to maintain a modern focus. This will ensure you avoid any perceptions of ageism.\",\n",
       " 'text': \"Below is an instruction that describes a task, paired with an input that provides further context. Write a response that appropriately completes the request.\\n\\n### Instruction:\\nYou are a professional resume evaluator. Given the following resume 'Input', please return a feedback / evaluation 'Response' about the Work History / Experience section.\\n\\nCheck the following explanation for each required feedback / evaluation:\\n'Introduction': A introduction about the work history / experience of the work history / experience.\\n'Achiever': A critique about the achievements and tasks / duties quality in the work history / experience.\\n'Achievements': An array with examples of achievements sentences for improving the resume writing.\\n'Passive': A critique about the use of passive language and expressions in the work history / experience.\\n'Passive Language': An array with examples of passive language verbs, expressions or sentences for improving the resume writing.\\n'Screen Out: A conclusion about the work history / experience.\\n\\nReturn the required information in 'Response'.\\n\\n### Input:\\n1\\n\\n\\n1\\n\\n\\nClayton R. Kirk\\n\\n* 902 General Barksdale Dr. Smyrna, TN 37167 * 629-244-9163 (c)\\nclaytonkirk@comcast.net *\\n\\n\\nPROFESSIONAL PROFILE\\n\\nSelf-directed, successful leader, mentor, accomplished manager, and administrative professional with over 25 years of experience in management and training. Highly organized, able to multi-task and accomplish multiple objectives. Detail-oriented and able to take initiative, prioritize multiple tasks, and manage personnel and workload. Resourceful team player with can-do attitude and proven ability to produce results.\\n\\nKEY SKILLS\\n\\n*\\tManage individuals and teams (60 - 80 employees, depending on season).\\n*\\tHiring, review and assessment capabilities.\\n*\\tCompetitive market intelligence in a metro market.\\n*\\tEffective trainer and mentor in the retail home improvement industry.\\n*\\tMicrosoft Office (Word, Excel, PowerPoint, Outlook) competencies.\\n*\\tProfessional written and communication skills.\\n*\\tEffective written, presentation and spreadsheet skills in the Microsoft Office software.\\n\\nPROFESSIONAL EXPERIENCE\\n\\nRiteRug, LLC\\tLa Vergne, TN\\nReceiving Specialist\\t\\t 3/20 - 2/24\\n*\\tReceive all incoming product.\\n*\\tAssign locations.\\n*\\tFollow up all discrepancies.\\n*\\tTrack all discrepancies.\\n\\nEmpire Today LLC\\tNashville, TN\\nInstallation Manager\\t\\t8/19 - 12/19\\n*\\tAssign installers to meet the daily install in a cost-efficient manner.\\n*\\tWarehouse supervisor: auditor, receiver.\\n*\\tForklift operator.\\n\\nDriveline\\tIrving, TX\\nProject Manager\\t9/18 - 3/19\\n*\\tDedicated to ensuring clients' needs are met in a timely and cost-efficient manner.\\n*\\tManage payroll and documentation for the project and team.\\n*\\tForklift operator.\\n\\nFloor and Décor\\tAntioch, TN\\nOperations Manager\\t2/16 - 6/18\\n*\\tMonitored daily business, cash, and credit to ensure accurate deposits and daily business functions followed company policies.\\n*\\tMentor and coach for new hires and upwardly mobile employees. Managed all support staff for- a new public corporation of hard surface flooring retail store. Was directly responsible for promoting 7 people in 5 years as administrative manager and mentored over 20 other employees' that could get promotions in other stores.\\n*\\tInvolved in all hiring processes for the store.\\n*\\tResponsible for employee reviews and assessments within the administrative department, that included all non-sales employees (support staff).\\n*\\tForklift certification trainer.\\n\\nAmazon Fulfillment\\t\\tMurfreesboro, TN\\nEquipment Operator/Receiving\\t9/15 - 2/16\\n*\\tReceiving\\n*\\tStow\\n*\\tPick orders\\n*\\tOrder picker certified\\n*\\tReach truck certified\\n*\\tForklift certified\\n\\nFamily Dollar\\tNashville, TN\\nStore Manager\\t2/15 - 8/15\\n*\\tResponsible for store margins, sales budgets, and payroll budgets on weekly, monthly, and yearly basis.\\n*\\tMonitor employee tasks, freight flow, prioritize employee work lists, develop, and implemented merchandizing projects for departments.\\n*\\tResponsible for creating, reviewing, and approving schedules, vacations, and time off requests for the store.\\n*\\tResponsible for first level interviews for new employees for the store.\\n*\\tResponsible for employee reviews and assessments within store.\\n\\nUS Health Advisors\\tNashville, TN\\nIndependent Health Insurance Agent\\t4/14 to 2/15\\n*\\tPresent and write health insurance policies\\n\\nLowes Companies\\t\\tWilkesboro, NC\\n-Market Intelligence and Pricing Specialist\\t2/10 to 3/14\\n*\\tCreate and execute regional marketing research and analysis encompassing integrated marketing, pricing and advertising initiatives for the Metropolitan Nashville, TN market. -\\n*\\t-Organize presentations to conceptualize product development strategies for senior management. -\\n*\\t-Communicate with senior management, internal departments, and vendors to coordinate overall marketing effort involving point of purchase merchandising and product launching in accordance with corporate goals. -\\n*\\tDesigned and wrote a market intelligence, pricing, and customer service training manual for the retail industry that was presented as my Master of Education thesis.\\n\\nLowes Companies\\t\\tWilkesboro, NC\\nOperations Manager\\t\\t2/06 - 2/10\\n*\\t---11 years in management for a big box retailer, 4 years as the Administrative manager, responsible for reducing controllable expenses, responsible for monthly, quarterly, and annual store budgets, audits, merchandising and pricing (was number 1with in 21 stores, 2 districts, for audits.\\n*\\tMonitored daily business, cash, and credit to ensure accurate deposits and daily business functions followed company policies.\\n*\\tMentor and coach for new hires and upwardly mobile employees. Managed all support staff for- 35-million-dollar retail store. Was directly responsible for promoting 7 people in 5 years as administrative manager and mentored over 20 other employees' that could get promotions in other stores.\\n*\\tInvolved in all hiring processes for the store.\\n*\\tResponsible for employee reviews and assessments within the administrative department, that included all non-sales employees (support staff).\\n\\nLowes Companies\\t\\t Wilkesboro, NC\\nAssistant Manager\\t2/00 - 1/06\\n*\\tResponsible for department margins, general sales budgets, special order budgets, and installed sales budgets, for flooring, home décor, paint, hardware, tools, electrical, plumbing, both rough and fashion, appliances, and kitchen design, on a weekly, monthly, and yearly basis.\\n*\\tMonitored employee tasks, freight flow, prioritized employee work lists, developed and implemented merchandizing projects for departments.\\n*\\tResponsible for creating, reviewing, and approving schedules, vacations, and time off requests for the departments.\\n*\\tPlayed a specific role of second level interviewer as manager for hiring of all store employees. Played third level interviewer, with authority to hire employees for all departments under my control.\\n*\\tResponsible for employee reviews and assessments within the departments I was responsible for.\\n\\nLowes Companies\\t\\tWilkesboro, NC\\nDepartment Manager\\t\\t3/97 - 2/00\\n*\\tResponsible for maintenance of department along with assigning work lists.\\n*\\tResponsible for department training; ensuring that employees followed company guidelines for training.\\n*\\tResponsible for department scheduling.\\n\\nEDUCATION\\n\\nAmerican InterContinental University-\\tSchaumburg, IL  Master of Education, Concentration in Adult Education, and Training\\t2014\\n*\\tGPA 3.89\\n\\nAmerican InterContinental University-\\tSchaumburg, IL  Bachelor of Business Administration, Concentration in Marketing\\t2013\\n*\\t-GPA 3.95\\nAmerican InterContinental University\\tSchaumburg, IL\\nAssociate of Arts, Business Administration\\t2011\\n*\\tGPA 4.0\\n\\nMILITARY EXPERIENCE\\n\\nUnited States Navy\\tSan Diego, CA\\n-Communications Radioman and Crypto Expert\\t1974\\n*\\tHonorable Discharge\\n\\n### Response:\\n'Introduction': Your work history is comprehensive, yet the descriptions could benefit from deeper engagement and impact. Providing substantial content that showcases your duties and achievements will create a more compelling narrative of your professional journey.\\n'Achiever': Your work history features a mix of tasks and accomplishments, but the emphasis on achievements could be stronger. It’s important to shift the focus from what you've done to what you've accomplished, presenting measurable value to prospective employers. This approach will help you stand out as an achiever rather than a doer.\\n'Achievements': ['Developed and implemented training programs for over 20 employees, resulting in multiple promotions.', 'Managed daily operations, achieving a 15% increase in efficiency through strategic resource allocation.']\\n'Passive': Your resume includes some passive language that could be more dynamic. Avoiding repetitive and weak phrasing is essential to engaging the reader. Utilizing more active language will enhance the impact of your descriptions and better showcase your achievements.\\n'Passive Language': ['Responsible for employee reviews and assessments', 'Involved in hiring processes', 'Monitored employee tasks']\\n'Screen Out: Your resume presents a consistent work history, which is a strong asset. However, be mindful of any older positions and consider focusing on the most relevant and recent roles to maintain a modern focus. This will ensure you avoid any perceptions of ageism.\"}"
      ]
     },
     "execution_count": 65,
     "metadata": {},
     "output_type": "execute_result"
    }
   ],
   "source": [
    "list(split_list(prompts, 50))[0][0]"
   ]
  },
  {
   "cell_type": "code",
   "execution_count": 26,
   "metadata": {},
   "outputs": [
    {
     "name": "stdout",
     "output_type": "stream",
     "text": [
      "Executing the IDX: 49\n"
     ]
    },
    {
     "name": "stderr",
     "output_type": "stream",
     "text": [
      "  0%|          | 0/936 [00:00<?, ?it/s]"
     ]
    },
    {
     "name": "stdout",
     "output_type": "stream",
     "text": [
      "Checking limit rate..\n",
      "Checking limit rate..\n",
      "Generating...\n",
      "Generating...\n"
     ]
    },
    {
     "name": "stderr",
     "output_type": "stream",
     "text": [
      "  0%|          | 2/936 [00:00<02:27,  6.34it/s]"
     ]
    },
    {
     "name": "stdout",
     "output_type": "stream",
     "text": [
      "Checking limit rate..\n",
      "Generating...\n",
      "Checking limit rate..\n",
      "Generating...\n"
     ]
    },
    {
     "name": "stderr",
     "output_type": "stream",
     "text": [
      "  0%|          | 3/936 [00:00<03:03,  5.10it/s]"
     ]
    },
    {
     "name": "stdout",
     "output_type": "stream",
     "text": [
      "Checking limit rate..\n",
      "Generating...\n"
     ]
    },
    {
     "name": "stderr",
     "output_type": "stream",
     "text": [
      "  0%|          | 4/936 [00:00<03:40,  4.23it/s]"
     ]
    },
    {
     "name": "stdout",
     "output_type": "stream",
     "text": [
      "Checking limit rate..\n",
      "Generating...\n",
      "Checking limit rate..\n",
      "Generating...\n"
     ]
    },
    {
     "name": "stderr",
     "output_type": "stream",
     "text": [
      "  1%|          | 6/936 [00:01<03:17,  4.70it/s]"
     ]
    },
    {
     "name": "stdout",
     "output_type": "stream",
     "text": [
      "Checking limit rate..\n",
      "Generating...\n",
      "Checking limit rate..\n",
      "Generating...\n"
     ]
    },
    {
     "name": "stderr",
     "output_type": "stream",
     "text": [
      "  1%|          | 8/936 [00:02<05:04,  3.05it/s]"
     ]
    },
    {
     "name": "stdout",
     "output_type": "stream",
     "text": [
      "Checking limit rate..\n",
      "Generating...\n"
     ]
    },
    {
     "name": "stderr",
     "output_type": "stream",
     "text": [
      "  1%|          | 10/936 [00:02<04:26,  3.47it/s]"
     ]
    },
    {
     "name": "stdout",
     "output_type": "stream",
     "text": [
      "Checking limit rate..\n",
      "Generating...\n",
      "Checking limit rate..\n",
      "Generating...\n"
     ]
    },
    {
     "name": "stderr",
     "output_type": "stream",
     "text": [
      "  1%|          | 11/936 [00:03<04:48,  3.21it/s]"
     ]
    },
    {
     "name": "stdout",
     "output_type": "stream",
     "text": [
      "Checking limit rate..\n",
      "Generating...\n",
      "Checking limit rate..\n",
      "Generating...\n"
     ]
    },
    {
     "name": "stderr",
     "output_type": "stream",
     "text": [
      "  1%|▏         | 13/936 [00:03<04:01,  3.83it/s]"
     ]
    },
    {
     "name": "stdout",
     "output_type": "stream",
     "text": [
      "Checking limit rate..\n",
      "Generating...\n",
      "Checking limit rate..\n",
      "Generating...\n"
     ]
    },
    {
     "name": "stderr",
     "output_type": "stream",
     "text": [
      "  2%|▏         | 15/936 [00:04<06:31,  2.35it/s]"
     ]
    },
    {
     "name": "stdout",
     "output_type": "stream",
     "text": [
      "Checking limit rate..\n",
      "Generating...\n",
      "Checking limit rate..\n",
      "Generating...\n"
     ]
    },
    {
     "name": "stderr",
     "output_type": "stream",
     "text": [
      "  2%|▏         | 17/936 [00:06<07:54,  1.94it/s]"
     ]
    },
    {
     "name": "stdout",
     "output_type": "stream",
     "text": [
      "Checking limit rate..\n",
      "Generating...\n",
      "Checking limit rate..\n",
      "Generating...\n"
     ]
    },
    {
     "name": "stderr",
     "output_type": "stream",
     "text": [
      "  2%|▏         | 19/936 [00:06<06:01,  2.54it/s]"
     ]
    },
    {
     "name": "stdout",
     "output_type": "stream",
     "text": [
      "Checking limit rate..\n",
      "Generating...\n"
     ]
    },
    {
     "name": "stderr",
     "output_type": "stream",
     "text": [
      "  2%|▏         | 20/936 [00:06<05:45,  2.65it/s]"
     ]
    },
    {
     "name": "stdout",
     "output_type": "stream",
     "text": [
      "Checking limit rate..\n",
      "Generating...\n"
     ]
    },
    {
     "name": "stderr",
     "output_type": "stream",
     "text": [
      "  2%|▏         | 21/936 [00:07<05:34,  2.74it/s]"
     ]
    },
    {
     "name": "stdout",
     "output_type": "stream",
     "text": [
      "Checking limit rate..\n",
      "Generating...\n"
     ]
    },
    {
     "name": "stderr",
     "output_type": "stream",
     "text": [
      "  2%|▏         | 22/936 [00:07<05:31,  2.75it/s]"
     ]
    },
    {
     "name": "stdout",
     "output_type": "stream",
     "text": [
      "Checking limit rate..\n",
      "Generating...\n"
     ]
    },
    {
     "name": "stderr",
     "output_type": "stream",
     "text": [
      "  3%|▎         | 24/936 [00:08<04:36,  3.30it/s]"
     ]
    },
    {
     "name": "stdout",
     "output_type": "stream",
     "text": [
      "Checking limit rate..\n",
      "Generating...\n",
      "Checking limit rate..\n",
      "Generating...\n"
     ]
    },
    {
     "name": "stderr",
     "output_type": "stream",
     "text": [
      "  3%|▎         | 26/936 [00:08<03:37,  4.19it/s]"
     ]
    },
    {
     "name": "stdout",
     "output_type": "stream",
     "text": [
      "Checking limit rate..\n",
      "Generating...\n",
      "Checking limit rate..\n",
      "Generating...\n"
     ]
    },
    {
     "name": "stderr",
     "output_type": "stream",
     "text": [
      "  3%|▎         | 27/936 [00:08<03:55,  3.86it/s]"
     ]
    },
    {
     "name": "stdout",
     "output_type": "stream",
     "text": [
      "Checking limit rate..\n",
      "Generating...\n",
      "Checking limit rate..\n",
      "Generating...\n"
     ]
    },
    {
     "name": "stderr",
     "output_type": "stream",
     "text": [
      "  3%|▎         | 29/936 [00:09<03:18,  4.56it/s]"
     ]
    },
    {
     "name": "stdout",
     "output_type": "stream",
     "text": [
      "Checking limit rate..\n",
      "Generating...\n"
     ]
    },
    {
     "name": "stderr",
     "output_type": "stream",
     "text": [
      "  3%|▎         | 30/936 [00:09<04:17,  3.51it/s]"
     ]
    },
    {
     "name": "stdout",
     "output_type": "stream",
     "text": [
      "Checking limit rate..\n",
      "Generating...\n"
     ]
    },
    {
     "name": "stderr",
     "output_type": "stream",
     "text": [
      "  3%|▎         | 31/936 [00:09<04:36,  3.28it/s]"
     ]
    },
    {
     "name": "stdout",
     "output_type": "stream",
     "text": [
      "Checking limit rate..\n",
      "Generating...\n"
     ]
    },
    {
     "name": "stderr",
     "output_type": "stream",
     "text": [
      "  3%|▎         | 32/936 [00:10<04:55,  3.06it/s]"
     ]
    },
    {
     "name": "stdout",
     "output_type": "stream",
     "text": [
      "Checking limit rate..\n",
      "Generating...\n"
     ]
    },
    {
     "name": "stderr",
     "output_type": "stream",
     "text": [
      "  4%|▎         | 33/936 [00:10<04:51,  3.10it/s]"
     ]
    },
    {
     "name": "stdout",
     "output_type": "stream",
     "text": [
      "Checking limit rate..\n",
      "Generating...\n"
     ]
    },
    {
     "name": "stderr",
     "output_type": "stream",
     "text": [
      "  4%|▎         | 34/936 [00:10<04:54,  3.06it/s]"
     ]
    },
    {
     "name": "stdout",
     "output_type": "stream",
     "text": [
      "Checking limit rate..\n",
      "Generating...\n"
     ]
    },
    {
     "name": "stderr",
     "output_type": "stream",
     "text": [
      "  4%|▎         | 35/936 [00:11<04:57,  3.03it/s]"
     ]
    },
    {
     "name": "stdout",
     "output_type": "stream",
     "text": [
      "Checking limit rate..\n",
      "Generating...\n",
      "Checking limit rate..\n",
      "Generating...\n"
     ]
    },
    {
     "name": "stderr",
     "output_type": "stream",
     "text": [
      "  4%|▍         | 37/936 [00:11<04:02,  3.71it/s]"
     ]
    },
    {
     "name": "stdout",
     "output_type": "stream",
     "text": [
      "Checking limit rate..\n",
      "Generating...\n",
      "Checking limit rate..\n",
      "Generating...\n"
     ]
    },
    {
     "name": "stderr",
     "output_type": "stream",
     "text": [
      "  4%|▍         | 39/936 [00:12<03:39,  4.08it/s]"
     ]
    },
    {
     "name": "stdout",
     "output_type": "stream",
     "text": [
      "Checking limit rate..\n",
      "Generating...\n",
      "Checking limit rate..\n",
      "Generating...\n"
     ]
    },
    {
     "name": "stderr",
     "output_type": "stream",
     "text": [
      "  4%|▍         | 41/936 [00:12<03:23,  4.41it/s]"
     ]
    },
    {
     "name": "stdout",
     "output_type": "stream",
     "text": [
      "Checking limit rate..\n",
      "Generating...\n",
      "Checking limit rate..\n",
      "Generating...\n"
     ]
    },
    {
     "name": "stderr",
     "output_type": "stream",
     "text": [
      "  5%|▍         | 43/936 [00:13<05:38,  2.64it/s]"
     ]
    },
    {
     "name": "stdout",
     "output_type": "stream",
     "text": [
      "Checking limit rate..\n",
      "Generating...\n",
      "Checking limit rate..\n",
      "Generating...\n"
     ]
    },
    {
     "name": "stderr",
     "output_type": "stream",
     "text": [
      "  5%|▍         | 45/936 [00:14<04:40,  3.17it/s]"
     ]
    },
    {
     "name": "stdout",
     "output_type": "stream",
     "text": [
      "Checking limit rate..\n",
      "Generating...\n",
      "Checking limit rate..\n",
      "Generating...\n"
     ]
    },
    {
     "name": "stderr",
     "output_type": "stream",
     "text": [
      "  5%|▌         | 47/936 [00:14<03:58,  3.72it/s]"
     ]
    },
    {
     "name": "stdout",
     "output_type": "stream",
     "text": [
      "Checking limit rate..\n",
      "New Minute is: 28991209\n",
      "New Total Tokens is: 298\n",
      "Last Minute: 28991208\n",
      "Last Total tokens: 216045\n",
      "Generating...\n",
      "Checking limit rate..\n",
      "Generating...\n"
     ]
    },
    {
     "name": "stderr",
     "output_type": "stream",
     "text": [
      "  5%|▌         | 49/936 [00:14<03:32,  4.17it/s]"
     ]
    },
    {
     "name": "stdout",
     "output_type": "stream",
     "text": [
      "Checking limit rate..\n",
      "Generating...\n"
     ]
    },
    {
     "name": "stderr",
     "output_type": "stream",
     "text": [
      "  5%|▌         | 50/936 [00:15<05:36,  2.63it/s]"
     ]
    },
    {
     "name": "stdout",
     "output_type": "stream",
     "text": [
      "Checking limit rate..\n",
      "Generating...\n"
     ]
    },
    {
     "name": "stderr",
     "output_type": "stream",
     "text": [
      "  5%|▌         | 51/936 [00:17<08:37,  1.71it/s]"
     ]
    },
    {
     "name": "stdout",
     "output_type": "stream",
     "text": [
      "Checking limit rate..\n",
      "Generating...\n",
      "Checking limit rate..\n",
      "Generating...\n"
     ]
    },
    {
     "name": "stderr",
     "output_type": "stream",
     "text": [
      "  6%|▌         | 53/936 [00:17<06:17,  2.34it/s]"
     ]
    },
    {
     "name": "stdout",
     "output_type": "stream",
     "text": [
      "Checking limit rate..\n",
      "Generating...\n",
      "Checking limit rate..\n",
      "Generating...\n"
     ]
    },
    {
     "name": "stderr",
     "output_type": "stream",
     "text": [
      "  6%|▌         | 56/936 [00:18<04:48,  3.05it/s]"
     ]
    },
    {
     "name": "stdout",
     "output_type": "stream",
     "text": [
      "Checking limit rate..\n",
      "Generating...\n",
      "Checking limit rate..\n",
      "Generating...\n"
     ]
    },
    {
     "name": "stderr",
     "output_type": "stream",
     "text": [
      "  6%|▌         | 57/936 [00:18<04:27,  3.29it/s]"
     ]
    },
    {
     "name": "stdout",
     "output_type": "stream",
     "text": [
      "Checking limit rate..\n",
      "Generating...\n"
     ]
    },
    {
     "name": "stderr",
     "output_type": "stream",
     "text": [
      "  6%|▌         | 58/936 [00:19<07:33,  1.94it/s]"
     ]
    },
    {
     "name": "stdout",
     "output_type": "stream",
     "text": [
      "Checking limit rate..\n",
      "Generating...\n",
      "Checking limit rate..\n"
     ]
    },
    {
     "name": "stderr",
     "output_type": "stream",
     "text": [
      "  6%|▋         | 60/936 [00:19<05:12,  2.80it/s]"
     ]
    },
    {
     "name": "stdout",
     "output_type": "stream",
     "text": [
      "Generating...\n",
      "Checking limit rate..\n",
      "Generating...\n"
     ]
    },
    {
     "name": "stderr",
     "output_type": "stream",
     "text": [
      "  7%|▋         | 61/936 [00:20<05:13,  2.79it/s]"
     ]
    },
    {
     "name": "stdout",
     "output_type": "stream",
     "text": [
      "Checking limit rate..\n",
      "Generating...\n"
     ]
    },
    {
     "name": "stderr",
     "output_type": "stream",
     "text": [
      "  7%|▋         | 62/936 [00:20<05:21,  2.72it/s]"
     ]
    },
    {
     "name": "stdout",
     "output_type": "stream",
     "text": [
      "Checking limit rate..\n",
      "Generating...\n"
     ]
    },
    {
     "name": "stderr",
     "output_type": "stream",
     "text": [
      "  7%|▋         | 64/936 [00:21<04:24,  3.30it/s]"
     ]
    },
    {
     "name": "stdout",
     "output_type": "stream",
     "text": [
      "Checking limit rate..\n",
      "Generating...\n",
      "Checking limit rate..\n",
      "Generating...\n"
     ]
    },
    {
     "name": "stderr",
     "output_type": "stream",
     "text": [
      "  7%|▋         | 66/936 [00:21<03:44,  3.87it/s]"
     ]
    },
    {
     "name": "stdout",
     "output_type": "stream",
     "text": [
      "Checking limit rate..\n",
      "Generating...\n",
      "Checking limit rate..\n",
      "Generating...\n"
     ]
    },
    {
     "name": "stderr",
     "output_type": "stream",
     "text": [
      "  7%|▋         | 68/936 [00:22<03:09,  4.57it/s]"
     ]
    },
    {
     "name": "stdout",
     "output_type": "stream",
     "text": [
      "Checking limit rate..\n",
      "Generating...\n",
      "Checking limit rate..\n",
      "Generating...\n"
     ]
    },
    {
     "name": "stderr",
     "output_type": "stream",
     "text": [
      "  7%|▋         | 69/936 [00:22<03:42,  3.89it/s]"
     ]
    },
    {
     "name": "stdout",
     "output_type": "stream",
     "text": [
      "Checking limit rate..\n",
      "Generating...\n"
     ]
    },
    {
     "name": "stderr",
     "output_type": "stream",
     "text": [
      "  7%|▋         | 70/936 [00:23<09:10,  1.57it/s]"
     ]
    },
    {
     "name": "stdout",
     "output_type": "stream",
     "text": [
      "Checking limit rate..\n",
      "Generating...\n"
     ]
    },
    {
     "name": "stderr",
     "output_type": "stream",
     "text": [
      "  8%|▊         | 71/936 [00:24<07:38,  1.89it/s]"
     ]
    },
    {
     "name": "stdout",
     "output_type": "stream",
     "text": [
      "Checking limit rate..\n",
      "Generating...\n"
     ]
    },
    {
     "name": "stderr",
     "output_type": "stream",
     "text": [
      "  8%|▊         | 72/936 [00:24<06:35,  2.19it/s]"
     ]
    },
    {
     "name": "stdout",
     "output_type": "stream",
     "text": [
      "Checking limit rate..\n",
      "Generating...\n",
      "Checking limit rate..\n",
      "Generating...\n"
     ]
    },
    {
     "name": "stderr",
     "output_type": "stream",
     "text": [
      "  8%|▊         | 74/936 [00:24<04:50,  2.96it/s]"
     ]
    },
    {
     "name": "stdout",
     "output_type": "stream",
     "text": [
      "Checking limit rate..\n",
      "Generating...\n",
      "Checking limit rate..\n",
      "Generating...\n"
     ]
    },
    {
     "name": "stderr",
     "output_type": "stream",
     "text": [
      "  8%|▊         | 76/936 [00:25<04:01,  3.55it/s]"
     ]
    },
    {
     "name": "stdout",
     "output_type": "stream",
     "text": [
      "Checking limit rate..\n",
      "Generating...\n"
     ]
    },
    {
     "name": "stderr",
     "output_type": "stream",
     "text": [
      "  8%|▊         | 77/936 [00:25<04:16,  3.35it/s]"
     ]
    },
    {
     "name": "stdout",
     "output_type": "stream",
     "text": [
      "Checking limit rate..\n",
      "Generating...\n"
     ]
    },
    {
     "name": "stderr",
     "output_type": "stream",
     "text": [
      "  8%|▊         | 78/936 [00:25<04:23,  3.26it/s]"
     ]
    },
    {
     "name": "stdout",
     "output_type": "stream",
     "text": [
      "Checking limit rate..\n",
      "Generating...\n"
     ]
    },
    {
     "name": "stderr",
     "output_type": "stream",
     "text": [
      "  8%|▊         | 79/936 [00:26<04:11,  3.40it/s]"
     ]
    },
    {
     "name": "stdout",
     "output_type": "stream",
     "text": [
      "Checking limit rate..\n",
      "Generating...\n",
      "Checking limit rate..\n",
      "Generating...\n"
     ]
    },
    {
     "name": "stderr",
     "output_type": "stream",
     "text": [
      "  9%|▊         | 81/936 [00:26<03:48,  3.75it/s]"
     ]
    },
    {
     "name": "stdout",
     "output_type": "stream",
     "text": [
      "Checking limit rate..\n",
      "Generating...\n"
     ]
    },
    {
     "name": "stderr",
     "output_type": "stream",
     "text": [
      "  9%|▉         | 83/936 [00:27<03:07,  4.54it/s]"
     ]
    },
    {
     "name": "stdout",
     "output_type": "stream",
     "text": [
      "Checking limit rate..\n",
      "Generating...\n",
      "Checking limit rate..\n",
      "Generating...\n"
     ]
    },
    {
     "name": "stderr",
     "output_type": "stream",
     "text": [
      "  9%|▉         | 84/936 [00:27<03:14,  4.39it/s]"
     ]
    },
    {
     "name": "stdout",
     "output_type": "stream",
     "text": [
      "Checking limit rate..\n",
      "Generating...\n",
      "Checking limit rate..\n",
      "Generating...\n"
     ]
    },
    {
     "name": "stderr",
     "output_type": "stream",
     "text": [
      "  9%|▉         | 86/936 [00:27<03:18,  4.29it/s]"
     ]
    },
    {
     "name": "stdout",
     "output_type": "stream",
     "text": [
      "Checking limit rate..\n",
      "Generating...\n"
     ]
    },
    {
     "name": "stderr",
     "output_type": "stream",
     "text": [
      "  9%|▉         | 87/936 [00:28<03:43,  3.80it/s]"
     ]
    },
    {
     "name": "stdout",
     "output_type": "stream",
     "text": [
      "Checking limit rate..\n",
      "Generating...\n"
     ]
    },
    {
     "name": "stderr",
     "output_type": "stream",
     "text": [
      "  9%|▉         | 88/936 [00:28<03:58,  3.55it/s]"
     ]
    },
    {
     "name": "stdout",
     "output_type": "stream",
     "text": [
      "Checking limit rate..\n",
      "Generating...\n"
     ]
    },
    {
     "name": "stderr",
     "output_type": "stream",
     "text": [
      " 10%|▉         | 90/936 [00:28<03:28,  4.05it/s]"
     ]
    },
    {
     "name": "stdout",
     "output_type": "stream",
     "text": [
      "Checking limit rate..\n",
      "Generating...\n",
      "Checking limit rate..\n",
      "Generating...\n"
     ]
    },
    {
     "name": "stderr",
     "output_type": "stream",
     "text": [
      " 10%|▉         | 91/936 [00:29<03:29,  4.03it/s]"
     ]
    },
    {
     "name": "stdout",
     "output_type": "stream",
     "text": [
      "Checking limit rate..\n",
      "Generating...\n",
      "Checking limit rate..\n",
      "Generating...\n"
     ]
    },
    {
     "name": "stderr",
     "output_type": "stream",
     "text": [
      " 10%|▉         | 93/936 [00:29<03:05,  4.53it/s]"
     ]
    },
    {
     "name": "stdout",
     "output_type": "stream",
     "text": [
      "Checking limit rate..\n",
      "Generating...\n"
     ]
    },
    {
     "name": "stderr",
     "output_type": "stream",
     "text": [
      " 10%|█         | 94/936 [00:29<03:32,  3.95it/s]"
     ]
    },
    {
     "name": "stdout",
     "output_type": "stream",
     "text": [
      "Checking limit rate..\n",
      "Generating...\n"
     ]
    },
    {
     "name": "stderr",
     "output_type": "stream",
     "text": [
      " 10%|█         | 95/936 [00:30<04:05,  3.43it/s]"
     ]
    },
    {
     "name": "stdout",
     "output_type": "stream",
     "text": [
      "Checking limit rate..\n",
      "Generating...\n"
     ]
    },
    {
     "name": "stderr",
     "output_type": "stream",
     "text": [
      " 10%|█         | 96/936 [00:30<04:15,  3.29it/s]"
     ]
    },
    {
     "name": "stdout",
     "output_type": "stream",
     "text": [
      "Checking limit rate..\n",
      "Generating...\n",
      "Checking limit rate..\n",
      "Generating...\n"
     ]
    },
    {
     "name": "stderr",
     "output_type": "stream",
     "text": [
      " 10%|█         | 98/936 [00:30<03:15,  4.28it/s]"
     ]
    },
    {
     "name": "stdout",
     "output_type": "stream",
     "text": [
      "Checking limit rate..\n",
      "Generating...\n",
      "Checking limit rate..\n",
      "Generating...\n"
     ]
    },
    {
     "name": "stderr",
     "output_type": "stream",
     "text": [
      " 11%|█         | 100/936 [00:31<02:53,  4.82it/s]"
     ]
    },
    {
     "name": "stdout",
     "output_type": "stream",
     "text": [
      "Checking limit rate..\n",
      "Generating...\n",
      "Checking limit rate..\n",
      "Generating...\n"
     ]
    },
    {
     "name": "stderr",
     "output_type": "stream",
     "text": [
      " 11%|█         | 103/936 [00:31<02:28,  5.60it/s]"
     ]
    },
    {
     "name": "stdout",
     "output_type": "stream",
     "text": [
      "Checking limit rate..\n",
      "Generating...\n",
      "Checking limit rate..\n",
      "Generating...\n"
     ]
    },
    {
     "name": "stderr",
     "output_type": "stream",
     "text": [
      " 11%|█         | 105/936 [00:32<02:19,  5.98it/s]"
     ]
    },
    {
     "name": "stdout",
     "output_type": "stream",
     "text": [
      "Checking limit rate..\n",
      "Generating...\n",
      "Checking limit rate..\n",
      "Generating...\n"
     ]
    },
    {
     "name": "stderr",
     "output_type": "stream",
     "text": [
      " 11%|█▏        | 106/936 [00:32<02:39,  5.19it/s]"
     ]
    },
    {
     "name": "stdout",
     "output_type": "stream",
     "text": [
      "Checking limit rate..\n",
      "Generating...\n"
     ]
    },
    {
     "name": "stderr",
     "output_type": "stream",
     "text": [
      " 11%|█▏        | 107/936 [00:33<07:18,  1.89it/s]"
     ]
    },
    {
     "name": "stdout",
     "output_type": "stream",
     "text": [
      "Checking limit rate..\n",
      "Generating...\n",
      "Checking limit rate..\n",
      "Generating...\n",
      "Checking limit rate..\n",
      "Generating...\n",
      "Checking limit rate..\n",
      "Generating...\n",
      "Checking limit rate..\n",
      "Generating...\n",
      "Checking limit rate..\n",
      "Generating...\n",
      "Checking limit rate..\n",
      "Generating...\n",
      "Checking limit rate..\n",
      "Generating...\n",
      "Checking limit rate..\n",
      "Generating...\n",
      "Checking limit rate..\n",
      "Generating...\n",
      "Checking limit rate..\n",
      "Generating...\n",
      "Checking limit rate..\n",
      "Generating...\n",
      "Checking limit rate..\n",
      "Generating...\n",
      "Checking limit rate..\n",
      "Generating...\n",
      "Checking limit rate..\n",
      "Generating...\n",
      "Checking limit rate..\n",
      "Generating...\n",
      "Checking limit rate..\n",
      "Generating...\n",
      "Checking limit rate..\n",
      "Generating...\n",
      "Checking limit rate..\n",
      "Generating...\n",
      "Checking limit rate..\n",
      "Generating...\n",
      "Checking limit rate..\n",
      "Generating...\n",
      "Checking limit rate..\n",
      "Generating...\n",
      "Checking limit rate..\n",
      "Generating...\n",
      "Checking limit rate..\n",
      "Generating...\n",
      "Checking limit rate..\n",
      "Generating...\n",
      "Checking limit rate..\n",
      "Generating...\n",
      "Checking limit rate..\n",
      "Generating...\n",
      "Checking limit rate..\n",
      "Generating...\n",
      "Checking limit rate..\n",
      "Generating...\n",
      "Checking limit rate..\n",
      "Generating...\n",
      "Checking limit rate..\n",
      "Generating...\n",
      "Checking limit rate..\n",
      "Generating...\n",
      "Checking limit rate..\n",
      "Generating...\n",
      "Checking limit rate..\n",
      "Generating...\n",
      "Checking limit rate..\n",
      "Generating...\n",
      "Checking limit rate..\n",
      "Generating...\n",
      "Checking limit rate..\n",
      "Generating...\n",
      "Checking limit rate..\n",
      "Generating...\n",
      "Checking limit rate..\n",
      "Generating...\n",
      "Checking limit rate..\n",
      "Generating...\n",
      "Checking limit rate..\n",
      "Generating...\n",
      "Checking limit rate..\n",
      "Generating...\n",
      "Checking limit rate..\n",
      "Generating...\n",
      "Checking limit rate..\n",
      "Generating...\n",
      "Checking limit rate..\n",
      "Generating...\n",
      "Checking limit rate..\n",
      "Generating...\n",
      "Checking limit rate..\n",
      "Generating...\n",
      "Checking limit rate..\n",
      "Generating...\n",
      "Checking limit rate..\n",
      "Generating...\n",
      "Checking limit rate..\n",
      "Generating...\n",
      "Checking limit rate..\n",
      "Generating...\n",
      "Checking limit rate..\n",
      "Generating...\n",
      "Checking limit rate..\n",
      "Generating...\n",
      "Checking limit rate..\n",
      "Generating...\n",
      "Checking limit rate..\n",
      "Generating...\n",
      "Checking limit rate..\n",
      "Generating...\n",
      "Checking limit rate..\n",
      "Generating...\n",
      "Checking limit rate..\n",
      "Generating...\n",
      "Checking limit rate..\n",
      "Generating...\n",
      "Checking limit rate..\n",
      "Generating...\n",
      "Checking limit rate..\n",
      "Generating...\n",
      "Checking limit rate..\n",
      "Generating...\n",
      "Checking limit rate..\n",
      "Generating...\n",
      "Checking limit rate..\n",
      "Generating...\n",
      "Checking limit rate..\n",
      "Generating...\n",
      "Checking limit rate..\n",
      "Generating...\n",
      "Checking limit rate..\n",
      "Generating...\n",
      "Checking limit rate..\n",
      "Generating...\n",
      "Checking limit rate..\n",
      "Generating...\n",
      "Checking limit rate..\n",
      "Generating...\n",
      "Checking limit rate..\n",
      "Generating...\n",
      "Checking limit rate..\n",
      "Generating...\n",
      "Checking limit rate..\n",
      "Generating...\n",
      "Checking limit rate..\n",
      "Generating...\n",
      "Checking limit rate..\n",
      "Generating...\n",
      "Checking limit rate..\n",
      "Generating...\n",
      "Checking limit rate..\n",
      "Generating...\n",
      "Checking limit rate..\n",
      "Generating...\n",
      "Checking limit rate..\n",
      "Generating...\n",
      "Checking limit rate..\n",
      "Generating...\n",
      "Checking limit rate..\n",
      "Generating...\n",
      "Checking limit rate..\n",
      "Generating...\n",
      "Checking limit rate..\n",
      "Generating...\n",
      "Checking limit rate..\n",
      "Generating...\n",
      "Checking limit rate..\n",
      "Generating...\n",
      "Checking limit rate..\n",
      "Generating...\n",
      "Checking limit rate..\n",
      "Generating...\n",
      "Checking limit rate..\n",
      "Generating...\n",
      "Checking limit rate..\n",
      "Generating...\n",
      "Checking limit rate..\n",
      "Generating...\n",
      "Checking limit rate..\n",
      "Generating...\n",
      "Checking limit rate..\n",
      "Generating...\n",
      "Checking limit rate..\n",
      "Generating...\n",
      "Checking limit rate..\n",
      "Generating...\n",
      "Checking limit rate..\n",
      "Generating...\n",
      "Checking limit rate..\n",
      "Generating...\n",
      "Checking limit rate..\n",
      "Generating...\n",
      "Checking limit rate..\n",
      "Generating...\n",
      "Checking limit rate..\n",
      "Generating...\n",
      "Checking limit rate..\n",
      "Generating...\n",
      "Checking limit rate..\n",
      "Generating...\n",
      "Checking limit rate..\n",
      "Generating...\n",
      "Checking limit rate..\n",
      "Generating...\n",
      "Checking limit rate..\n",
      "Generating...\n",
      "Checking limit rate..\n",
      "Generating...\n",
      "Checking limit rate..\n",
      "Generating...\n",
      "Checking limit rate..Checking limit rate..\n",
      "\n",
      "Generating...\n",
      "Generating...\n",
      "Checking limit rate..\n",
      "Generating...\n",
      "Checking limit rate..\n",
      "Generating...\n",
      "Checking limit rate..\n",
      "Generating...\n",
      "Checking limit rate..\n",
      "Generating...\n",
      "Checking limit rate..\n",
      "Generating...\n",
      "Checking limit rate..\n",
      "Generating...\n",
      "Checking limit rate..\n",
      "Generating...\n",
      "Checking limit rate..\n",
      "Generating...\n",
      "Checking limit rate..\n",
      "Generating...\n",
      "Checking limit rate..\n",
      "Generating...\n",
      "Checking limit rate..\n",
      "Generating...\n",
      "Checking limit rate..\n",
      "Generating...\n",
      "Checking limit rate..\n",
      "Generating...\n",
      "Checking limit rate..\n",
      "Generating...\n",
      "Checking limit rate..\n",
      "Generating...\n",
      "Checking limit rate..\n",
      "Generating...\n",
      "Checking limit rate..\n",
      "Generating...\n",
      "Checking limit rate..\n",
      "Generating...\n",
      "Checking limit rate..\n",
      "Generating...\n",
      "Checking limit rate..\n",
      "Generating...\n",
      "Checking limit rate..\n",
      "Generating...\n",
      "Checking limit rate..\n",
      "Generating...\n",
      "Checking limit rate..\n",
      "Generating...\n",
      "Checking limit rate..\n",
      "Generating...\n",
      "Checking limit rate..\n",
      "Generating...\n",
      "Checking limit rate..\n",
      "Generating...\n",
      "Checking limit rate..\n",
      "Generating...\n",
      "Checking limit rate..\n",
      "Generating...\n",
      "Checking limit rate..\n",
      "Generating...\n",
      "Checking limit rate..\n",
      "Generating...\n",
      "Checking limit rate..\n",
      "Generating...\n",
      "Checking limit rate..\n",
      "Generating...\n",
      "Checking limit rate..\n",
      "Generating...\n",
      "Checking limit rate..\n",
      "Generating...\n",
      "Checking limit rate..\n",
      "Generating...\n",
      "Checking limit rate..\n",
      "Generating...\n",
      "Checking limit rate..\n",
      "Generating...\n",
      "Checking limit rate..\n",
      "Generating...\n",
      "Checking limit rate..\n",
      "Generating...\n",
      "Checking limit rate..\n",
      "Generating...\n",
      "Checking limit rate..\n",
      "Generating...\n",
      "Checking limit rate..\n",
      "Generating...\n",
      "Checking limit rate..\n",
      "Generating...\n",
      "Checking limit rate..\n",
      "Generating...\n",
      "Checking limit rate..\n",
      "Generating...\n",
      "Checking limit rate..\n",
      "New Minute is: 28991210\n",
      "New Total Tokens is: 1274\n",
      "Last Minute: 28991209\n",
      "Last Total tokens: 211959\n",
      "Generating...\n",
      "Checking limit rate..\n",
      "Generating...\n",
      "Checking limit rate..\n",
      "Generating...\n",
      "Checking limit rate..\n",
      "Generating...\n",
      "Checking limit rate..\n",
      "Generating...\n",
      "Checking limit rate..\n",
      "Generating...\n",
      "Checking limit rate..\n",
      "Generating...\n",
      "Checking limit rate..\n",
      "Generating...\n",
      "Checking limit rate..\n",
      "Generating...\n",
      "Checking limit rate..\n",
      "Generating...\n",
      "Checking limit rate..\n",
      "Generating...\n",
      "Checking limit rate..\n",
      "Generating...\n",
      "Checking limit rate..\n",
      "Generating...\n",
      "Checking limit rate..\n",
      "Generating...\n",
      "Checking limit rate..\n",
      "Generating...\n",
      "Checking limit rate..\n",
      "Generating...\n",
      "Checking limit rate..\n",
      "Generating...\n",
      "Checking limit rate..\n",
      "Generating...\n",
      "Checking limit rate..\n",
      "Generating...\n",
      "Checking limit rate..\n",
      "Generating...\n",
      "Checking limit rate..\n",
      "Generating...\n",
      "Checking limit rate..\n",
      "Generating...\n",
      "Checking limit rate..\n",
      "Generating...\n",
      "Checking limit rate..\n",
      "Generating...\n",
      "Checking limit rate..\n",
      "Generating...\n",
      "Checking limit rate..\n",
      "Generating...\n",
      "Checking limit rate..\n",
      "Generating...\n",
      "Checking limit rate..\n",
      "Generating...\n",
      "Checking limit rate..\n",
      "Generating...\n",
      "Checking limit rate..\n",
      "Generating...\n",
      "Checking limit rate..\n",
      "Generating...\n",
      "Checking limit rate..\n",
      "Generating...\n",
      "Checking limit rate..\n",
      "Generating...\n",
      "Checking limit rate..\n",
      "Generating...\n",
      "Checking limit rate..\n",
      "Generating...\n",
      "Checking limit rate..\n",
      "Generating...\n",
      "Checking limit rate..\n",
      "Generating...\n",
      "Checking limit rate..\n",
      "Generating...\n",
      "Checking limit rate..\n",
      "Generating...\n",
      "Checking limit rate..\n",
      "Generating...\n",
      "Checking limit rate..\n",
      "Generating...\n",
      "Checking limit rate..\n",
      "Generating...\n",
      "Checking limit rate..\n",
      "Generating...\n",
      "Checking limit rate..\n",
      "Generating...\n",
      "Checking limit rate..\n",
      "Generating...\n",
      "Checking limit rate..\n",
      "Generating...\n",
      "Checking limit rate..\n",
      "Generating...\n",
      "Checking limit rate..\n",
      "Generating...\n",
      "Checking limit rate..\n",
      "Generating...\n",
      "Checking limit rate..\n",
      "Generating...\n",
      "Checking limit rate..\n",
      "Generating...\n",
      "Checking limit rate..\n",
      "Generating...\n",
      "Checking limit rate..\n",
      "Generating...\n",
      "Checking limit rate..\n",
      "Generating...\n",
      "Checking limit rate..\n",
      "Generating...\n",
      "Checking limit rate..\n",
      "Generating...\n",
      "Checking limit rate..\n",
      "Generating...\n",
      "Checking limit rate..\n",
      "Generating...\n",
      "Checking limit rate..\n",
      "Generating...\n",
      "Checking limit rate..\n",
      "Generating...\n",
      "Checking limit rate..\n",
      "Generating...\n",
      "Checking limit rate..\n",
      "Generating...\n",
      "Checking limit rate..\n",
      "Generating...\n",
      "Checking limit rate..\n",
      "Generating...\n",
      "Checking limit rate..\n",
      "Generating...\n",
      "Checking limit rate..\n",
      "Generating...\n",
      "Checking limit rate..\n",
      "Generating...\n",
      "Checking limit rate..\n",
      "Generating...\n",
      "Checking limit rate..\n",
      "Generating...\n",
      "Checking limit rate..\n",
      "Generating...\n",
      "Checking limit rate..\n",
      "Generating...\n",
      "Checking limit rate..\n",
      "Generating...\n",
      "Checking limit rate..\n",
      "Generating...\n",
      "Checking limit rate..\n",
      "Generating...\n",
      "Checking limit rate..\n",
      "Generating...\n",
      "Checking limit rate..\n",
      "Generating...\n",
      "Checking limit rate..\n",
      "Generating...\n",
      "Checking limit rate..\n",
      "Generating...\n",
      "Checking limit rate..\n",
      "Generating...\n",
      "Checking limit rate..\n",
      "Generating...\n",
      "Checking limit rate..\n",
      "Generating...\n",
      "Checking limit rate..\n",
      "Generating...\n",
      "Checking limit rate..\n",
      "Generating...\n",
      "Checking limit rate..\n",
      "Generating...\n",
      "Checking limit rate..\n",
      "Generating...\n",
      "Checking limit rate..\n",
      "Generating...\n",
      "Checking limit rate..\n",
      "Generating...\n",
      "Checking limit rate..\n",
      "Generating...\n",
      "Checking limit rate..\n",
      "Generating...\n",
      "Checking limit rate..\n",
      "Generating...\n",
      "Checking limit rate..\n",
      "Generating...\n",
      "Checking limit rate..\n",
      "Generating...\n",
      "Checking limit rate..\n",
      "Generating...\n",
      "Checking limit rate..\n",
      "Generating...\n",
      "Checking limit rate..\n",
      "Generating...\n",
      "Checking limit rate..\n",
      "Generating...\n",
      "Checking limit rate..\n",
      "Generating...\n",
      "Checking limit rate..\n",
      "Generating...\n",
      "Checking limit rate..\n",
      "Generating...\n",
      "Checking limit rate..\n",
      "Generating...\n",
      "Checking limit rate..\n",
      "Generating...\n",
      "Checking limit rate..\n",
      "Generating...\n",
      "Checking limit rate..\n",
      "Generating...\n",
      "Checking limit rate..\n",
      "Generating...\n",
      "Checking limit rate..\n",
      "Generating...\n",
      "Checking limit rate..\n",
      "Generating...\n",
      "Checking limit rate..\n",
      "Generating...\n",
      "Checking limit rate..\n",
      "Generating...\n",
      "Checking limit rate..\n",
      "Generating...\n",
      "Checking limit rate..\n",
      "Generating...\n",
      "Checking limit rate..\n",
      "Generating...\n",
      "Checking limit rate..\n",
      "Generating...\n",
      "Checking limit rate..\n",
      "Generating...\n",
      "Checking limit rate..\n",
      "Generating...\n",
      "Checking limit rate..\n",
      "Generating...\n",
      "Checking limit rate..\n",
      "Generating...\n",
      "Checking limit rate..\n",
      "Generating...\n",
      "Checking limit rate..\n",
      "Generating...\n",
      "Checking limit rate..\n",
      "Generating...\n",
      "Checking limit rate..\n",
      "Generating...\n",
      "Checking limit rate..\n",
      "Generating...\n",
      "Checking limit rate..\n",
      "Generating...\n",
      "Checking limit rate..\n",
      "Generating...\n",
      "Checking limit rate..\n",
      "Generating...\n",
      "Checking limit rate..\n",
      "Generating...\n",
      "Checking limit rate..\n",
      "Generating...\n",
      "Checking limit rate..\n",
      "Generating...\n",
      "Checking limit rate..\n",
      "Generating...\n",
      "Checking limit rate..\n",
      "Generating...\n",
      "Checking limit rate..\n",
      "Generating...\n",
      "Checking limit rate..\n",
      "Generating...\n",
      "Checking limit rate..\n",
      "Generating...\n",
      "Checking limit rate..\n",
      "Generating...\n",
      "Checking limit rate..\n",
      "Generating...\n",
      "Checking limit rate..\n",
      "Generating...\n",
      "Checking limit rate..\n",
      "Generating...\n",
      "Checking limit rate..\n",
      "Generating...\n",
      "Checking limit rate..\n",
      "Generating...\n",
      "Checking limit rate..\n",
      "Generating...\n",
      "Checking limit rate..\n",
      "Generating...\n",
      "Checking limit rate..\n",
      "Generating...\n",
      "Checking limit rate..\n",
      "Generating...\n",
      "Checking limit rate..\n",
      "Generating...\n",
      "Checking limit rate..\n",
      "Generating...\n",
      "Checking limit rate..\n",
      "Generating...\n",
      "Checking limit rate..\n",
      "Generating...\n",
      "Checking limit rate..\n",
      "Generating...\n",
      "Checking limit rate..\n",
      "Generating...\n",
      "Checking limit rate..\n",
      "Generating...\n",
      "Checking limit rate..\n",
      "Generating...\n",
      "Checking limit rate..\n",
      "Generating...\n",
      "Checking limit rate..\n",
      "Generating...\n",
      "Checking limit rate..\n",
      "Generating...\n",
      "Checking limit rate..\n",
      "Generating...\n",
      "Checking limit rate..\n",
      "Generating...\n",
      "Checking limit rate..\n",
      "Generating...\n",
      "Checking limit rate..\n",
      "Generating...\n",
      "Checking limit rate..\n",
      "Generating...\n",
      "Checking limit rate..\n",
      "Generating...\n",
      "Checking limit rate..\n",
      "Generating...\n",
      "Checking limit rate..\n",
      "Generating...\n",
      "Checking limit rate..\n",
      "Generating...\n",
      "Checking limit rate..\n",
      "Generating...\n",
      "Checking limit rate..\n",
      "Generating...\n",
      "Checking limit rate..\n",
      "Generating...\n",
      "Checking limit rate..\n",
      "Generating...\n",
      "Checking limit rate..\n",
      "Generating...\n",
      "Checking limit rate..\n",
      "Generating...\n",
      "Checking limit rate..\n",
      "Generating...\n",
      "Checking limit rate..\n",
      "Generating...\n",
      "Checking limit rate..\n",
      "Generating...\n",
      "Checking limit rate..\n",
      "Generating...\n",
      "Checking limit rate..\n",
      "Generating...\n",
      "Checking limit rate..\n",
      "Generating...\n",
      "Checking limit rate..\n",
      "Generating...\n",
      "Checking limit rate..\n",
      "Generating...\n",
      "Checking limit rate..\n",
      "Generating...\n",
      "Checking limit rate..\n",
      "Generating...\n",
      "Checking limit rate..\n",
      "Generating...\n",
      "Checking limit rate..\n",
      "Generating...\n",
      "Checking limit rate..\n",
      "Generating...\n",
      "Checking limit rate..\n",
      "Generating...\n",
      "Checking limit rate..\n",
      "Generating...\n",
      "Checking limit rate..\n",
      "Generating...\n",
      "Checking limit rate..\n",
      "Generating...\n",
      "Checking limit rate..\n",
      "Generating...\n",
      "Checking limit rate..\n",
      "Generating...\n",
      "Checking limit rate..\n",
      "Generating...\n",
      "Checking limit rate..\n",
      "Generating...\n",
      "Checking limit rate..\n",
      "Generating...\n",
      "Checking limit rate..\n",
      "Generating...\n",
      "Checking limit rate..\n",
      "Generating...\n",
      "Checking limit rate..\n",
      "Generating...\n",
      "Checking limit rate..\n",
      "Generating...\n",
      "Checking limit rate..\n",
      "Generating...\n",
      "Checking limit rate..\n",
      "Generating...\n",
      "Checking limit rate..\n",
      "Generating...\n",
      "Checking limit rate..\n",
      "Generating...\n",
      "Checking limit rate..\n",
      "Generating...\n",
      "Checking limit rate..\n",
      "Generating...\n",
      "Checking limit rate..\n",
      "Generating...\n",
      "Checking limit rate..\n",
      "Generating...\n",
      "Checking limit rate..\n",
      "Generating...\n",
      "Checking limit rate..\n",
      "Generating...\n",
      "Checking limit rate..\n",
      "Generating...\n",
      "Checking limit rate..\n",
      "Generating...\n",
      "Checking limit rate..\n",
      "Generating...\n",
      "Checking limit rate..\n",
      "Generating...\n",
      "Checking limit rate..\n",
      "Generating...\n",
      "Checking limit rate..\n",
      "Generating...\n",
      "Checking limit rate..\n",
      "Generating...\n",
      "Checking limit rate..\n",
      "Generating...\n",
      "Checking limit rate..\n",
      "New Minute is: 28991211\n",
      "New Total Tokens is: 741\n",
      "Last Minute: 28991210\n",
      "Last Total tokens: 209565\n",
      "Generating...\n",
      "Checking limit rate..\n",
      "Generating...\n",
      "Checking limit rate..\n",
      "Generating...\n",
      "Checking limit rate..\n",
      "Generating...\n",
      "Checking limit rate..\n",
      "Generating...\n",
      "Checking limit rate..\n",
      "Generating...\n",
      "Checking limit rate..\n",
      "Generating...\n",
      "Checking limit rate..\n",
      "Generating...\n",
      "Checking limit rate..\n",
      "Generating...\n",
      "Checking limit rate..\n",
      "Generating...\n",
      "Checking limit rate..\n",
      "Generating...\n",
      "Checking limit rate..\n",
      "Generating...\n",
      "Checking limit rate..\n",
      "Generating...\n",
      "Checking limit rate..\n",
      "Generating...\n",
      "Checking limit rate..\n",
      "Generating...\n",
      "Checking limit rate..\n",
      "Generating...\n",
      "Checking limit rate..\n",
      "Generating...\n",
      "Checking limit rate..\n",
      "Generating...\n",
      "Checking limit rate..\n",
      "Generating...\n",
      "Checking limit rate..\n",
      "Generating...\n",
      "Checking limit rate..\n",
      "Generating...\n",
      "Checking limit rate..\n",
      "Generating...\n",
      "Checking limit rate..\n",
      "Generating...\n",
      "Checking limit rate..\n",
      "Generating...\n",
      "Checking limit rate..\n",
      "Generating...\n",
      "Checking limit rate..\n",
      "Generating...\n",
      "Checking limit rate..\n",
      "Generating...\n",
      "Checking limit rate..\n",
      "Generating...\n",
      "Checking limit rate..\n",
      "Generating...\n",
      "Checking limit rate..\n",
      "Generating...\n",
      "Checking limit rate..\n",
      "Generating...\n",
      "Checking limit rate..\n",
      "Generating...\n",
      "Checking limit rate..\n",
      "Generating...\n",
      "Checking limit rate..\n",
      "Generating...\n",
      "Checking limit rate..\n",
      "Generating...\n",
      "Checking limit rate..\n",
      "Generating...\n",
      "Checking limit rate..\n",
      "Generating...\n",
      "Checking limit rate..\n",
      "Generating...\n",
      "Checking limit rate..\n",
      "Generating...\n",
      "Checking limit rate..\n",
      "Generating...\n",
      "Checking limit rate..\n",
      "Generating...\n",
      "Checking limit rate..\n",
      "Generating...\n",
      "Checking limit rate..\n",
      "Generating...\n",
      "Checking limit rate..\n",
      "Generating...\n",
      "Checking limit rate..\n",
      "Generating...\n",
      "Checking limit rate..\n",
      "Generating...\n",
      "Checking limit rate..\n",
      "Generating...\n",
      "Checking limit rate..\n",
      "Generating...\n",
      "Checking limit rate..\n",
      "Generating...\n",
      "Checking limit rate..\n",
      "Generating...\n",
      "Checking limit rate..\n",
      "Generating...\n",
      "Checking limit rate..\n",
      "Generating...\n",
      "Checking limit rate..\n",
      "Generating...\n",
      "Checking limit rate..\n",
      "Generating...\n",
      "Checking limit rate..\n",
      "Generating...\n",
      "Checking limit rate..\n",
      "Generating...\n",
      "Checking limit rate..\n",
      "Generating...\n",
      "Checking limit rate..\n",
      "Generating...\n",
      "Checking limit rate..\n",
      "Generating...\n",
      "Checking limit rate..\n",
      "Generating...\n",
      "Checking limit rate..\n",
      "Generating...\n",
      "Checking limit rate..\n",
      "Generating...\n",
      "Checking limit rate..\n",
      "Generating...\n",
      "Checking limit rate..\n",
      "Generating...\n",
      "Checking limit rate..\n",
      "Generating...\n",
      "Checking limit rate..\n",
      "Generating...\n",
      "Checking limit rate..\n",
      "Generating...\n",
      "Checking limit rate..\n",
      "Generating...\n",
      "Checking limit rate..\n",
      "Generating...\n",
      "Checking limit rate..\n",
      "Generating...\n",
      "Checking limit rate..\n",
      "Generating...\n",
      "Checking limit rate..\n",
      "Generating...\n",
      "Checking limit rate..\n",
      "Generating...\n",
      "Checking limit rate..\n",
      "Checking limit rate..\n",
      "Generating...\n",
      "Generating...\n",
      "Checking limit rate..\n",
      "Generating...\n",
      "Checking limit rate..\n",
      "Generating...\n",
      "Checking limit rate..\n",
      "Generating...\n",
      "Checking limit rate..\n",
      "Generating...\n",
      "Checking limit rate..\n",
      "Generating...\n",
      "Checking limit rate..\n",
      "Generating...\n",
      "Checking limit rate..\n",
      "Generating...\n",
      "Checking limit rate..\n",
      "Generating...\n",
      "Checking limit rate..\n",
      "Generating...\n",
      "Checking limit rate..\n",
      "Generating...\n",
      "Checking limit rate..\n",
      "Generating...\n",
      "Checking limit rate..\n",
      "Generating...\n",
      "Checking limit rate..\n",
      "Generating...\n",
      "Checking limit rate..\n",
      "Generating...\n",
      "Checking limit rate..Checking limit rate..\n",
      "\n",
      "Generating...\n",
      "Generating...\n",
      "Checking limit rate..\n",
      "Generating...\n",
      "Checking limit rate..\n",
      "Generating...\n",
      "Checking limit rate..\n",
      "Generating...\n",
      "Checking limit rate..\n",
      "Generating...\n",
      "Checking limit rate..\n",
      "Generating...\n",
      "Checking limit rate..\n",
      "Generating...\n",
      "Checking limit rate..\n",
      "Generating...\n",
      "Checking limit rate..\n",
      "Generating...\n",
      "Checking limit rate..\n",
      "Generating...\n",
      "Checking limit rate..\n",
      "Generating...\n",
      "Checking limit rate..\n",
      "Generating...\n",
      "Checking limit rate..\n",
      "Generating...\n",
      "Checking limit rate..\n",
      "Generating...\n",
      "Checking limit rate..\n",
      "Generating...\n",
      "Checking limit rate..\n",
      "Generating...\n",
      "Checking limit rate..\n",
      "Generating...\n",
      "Checking limit rate..\n",
      "Generating...\n",
      "Checking limit rate..\n",
      "Generating...\n",
      "Checking limit rate..\n",
      "Generating...\n",
      "Checking limit rate..\n",
      "Generating...\n",
      "Checking limit rate..\n",
      "Generating...\n",
      "Checking limit rate..\n",
      "Generating...\n",
      "Checking limit rate..\n",
      "Generating...\n",
      "Checking limit rate..\n",
      "Generating...\n",
      "Checking limit rate..\n",
      "Generating...\n",
      "Checking limit rate..\n",
      "Generating...\n",
      "Checking limit rate..\n",
      "Generating...\n",
      "Checking limit rate..\n",
      "Generating...\n",
      "Checking limit rate..\n",
      "Generating...\n",
      "Checking limit rate..\n",
      "Generating...\n",
      "Checking limit rate..\n",
      "Generating...\n",
      "Checking limit rate..\n",
      "Generating...\n",
      "Checking limit rate..\n",
      "Generating...\n",
      "Checking limit rate..\n",
      "Generating...\n",
      "Checking limit rate..\n",
      "Generating...\n",
      "Checking limit rate..\n",
      "Generating...\n",
      "Checking limit rate..\n",
      "Generating...\n",
      "Checking limit rate..\n",
      "Generating...\n",
      "Checking limit rate..\n",
      "Generating...\n",
      "Checking limit rate..\n",
      "Generating...\n",
      "Checking limit rate..\n",
      "Generating...\n",
      "Checking limit rate..\n",
      "Generating...\n",
      "Checking limit rate..\n",
      "Generating...\n",
      "Checking limit rate..\n",
      "Generating...\n",
      "Checking limit rate..\n",
      "Generating...\n",
      "Checking limit rate..\n",
      "Generating...\n",
      "Checking limit rate..\n",
      "Generating...\n",
      "Checking limit rate..\n",
      "Generating...\n",
      "Checking limit rate..\n",
      "Generating...\n",
      "Checking limit rate..\n",
      "Generating...\n",
      "Checking limit rate..\n",
      "Generating...\n",
      "Checking limit rate..\n",
      "Generating...\n",
      "Checking limit rate..\n",
      "Generating...\n",
      "Checking limit rate..\n",
      "Generating...\n",
      "Checking limit rate..\n",
      "Generating...\n",
      "Checking limit rate..\n",
      "Generating...\n",
      "Checking limit rate..\n",
      "Generating...\n",
      "Checking limit rate..\n",
      "Generating...\n",
      "Checking limit rate..\n",
      "Generating...\n",
      "Checking limit rate..\n",
      "Generating...\n",
      "Checking limit rate..\n",
      "Generating...\n",
      "Checking limit rate..\n",
      "Generating...\n",
      "Checking limit rate..\n",
      "Generating...\n",
      "Checking limit rate..\n",
      "Generating...\n",
      "Checking limit rate..\n",
      "Generating...\n",
      "Checking limit rate..\n",
      "Generating...\n",
      "Checking limit rate..\n",
      "Generating...\n",
      "Checking limit rate..\n",
      "Generating...\n",
      "Checking limit rate..\n",
      "Generating...\n",
      "Checking limit rate..\n",
      "Generating...\n",
      "Checking limit rate..\n",
      "Generating...\n",
      "Checking limit rate..\n",
      "Generating...\n",
      "Checking limit rate..\n",
      "Generating...\n",
      "Checking limit rate..\n",
      "Generating...\n",
      "Checking limit rate..\n",
      "Generating...\n",
      "Checking limit rate..\n",
      "Generating...\n",
      "Checking limit rate..\n",
      "Generating...\n",
      "Checking limit rate..\n",
      "Generating...\n",
      "Checking limit rate..\n",
      "Generating...\n",
      "Checking limit rate..\n",
      "Generating...\n",
      "Checking limit rate..\n",
      "Generating...\n",
      "Checking limit rate..\n",
      "Generating...\n",
      "Checking limit rate..\n",
      "Generating...\n",
      "Checking limit rate..\n",
      "Generating...\n",
      "Checking limit rate..\n",
      "Generating...\n",
      "Checking limit rate..\n",
      "Generating...\n",
      "Checking limit rate..\n",
      "Generating...\n",
      "Checking limit rate..\n",
      "Generating...\n",
      "Checking limit rate..\n",
      "Generating...\n",
      "Checking limit rate..\n",
      "Generating...\n",
      "Checking limit rate..\n",
      "Generating...\n",
      "Checking limit rate..\n",
      "Generating...\n",
      "Checking limit rate..\n",
      "Generating...\n",
      "Checking limit rate..\n",
      "Generating...\n",
      "Checking limit rate..\n",
      "Generating...\n",
      "Checking limit rate..\n",
      "Generating...\n",
      "Checking limit rate..\n",
      "Generating...\n",
      "Checking limit rate..\n",
      "Generating...\n",
      "Checking limit rate..\n",
      "Generating...\n",
      "Checking limit rate..\n",
      "Generating...\n",
      "Checking limit rate..\n",
      "Generating...\n",
      "Checking limit rate..\n",
      "Generating...\n",
      "Checking limit rate..\n",
      "Generating...\n",
      "Checking limit rate..\n",
      "Generating...\n",
      "Checking limit rate..\n",
      "Generating...\n",
      "Checking limit rate..\n",
      "Generating...\n",
      "Checking limit rate..\n",
      "Generating...\n",
      "Checking limit rate..\n",
      "Generating...\n",
      "Checking limit rate..\n",
      "Generating...\n",
      "Checking limit rate..\n",
      "Generating...\n",
      "Checking limit rate..\n",
      "Generating...\n",
      "Checking limit rate..\n",
      "Generating...\n",
      "Checking limit rate..\n",
      "Generating...\n",
      "Checking limit rate..\n",
      "Generating...\n",
      "Checking limit rate..\n",
      "Generating...\n",
      "Checking limit rate..\n",
      "Generating...\n",
      "Checking limit rate..\n",
      "Generating...\n",
      "Checking limit rate..\n",
      "Generating...\n",
      "Checking limit rate..\n",
      "Generating...\n",
      "Checking limit rate..\n",
      "Generating...\n",
      "Checking limit rate..\n",
      "Generating...\n",
      "Checking limit rate..\n",
      "Generating...\n",
      "Checking limit rate..\n",
      "New Minute is: 28991212\n",
      "New Total Tokens is: 2101\n",
      "Last Minute: 28991211\n",
      "Last Total tokens: 195614\n",
      "Generating...\n",
      "Checking limit rate..\n",
      "Generating...\n",
      "Checking limit rate..\n",
      "Generating...\n",
      "Checking limit rate..\n",
      "Generating...\n",
      "Checking limit rate..\n",
      "Generating...\n",
      "Checking limit rate..\n",
      "Generating...\n",
      "Checking limit rate..\n",
      "Generating...\n",
      "Checking limit rate..\n",
      "Generating...\n",
      "Checking limit rate..\n",
      "Generating...\n",
      "Checking limit rate..\n",
      "Generating...\n",
      "Checking limit rate..\n",
      "Generating...\n",
      "Checking limit rate..\n",
      "Generating...\n",
      "Checking limit rate..\n",
      "Generating...\n",
      "Checking limit rate..\n",
      "Generating...\n",
      "Checking limit rate..\n",
      "Generating...\n",
      "Checking limit rate..\n",
      "Generating...\n",
      "Checking limit rate..\n",
      "Generating...\n",
      "Checking limit rate..\n",
      "Generating...\n",
      "Checking limit rate..\n",
      "Generating...\n",
      "Checking limit rate..\n",
      "Generating...\n",
      "Checking limit rate..\n",
      "Generating...\n",
      "Checking limit rate..\n",
      "Generating...\n",
      "Checking limit rate..\n",
      "Generating...\n",
      "Checking limit rate..\n",
      "Generating...\n",
      "Checking limit rate..\n",
      "Generating...\n",
      "Checking limit rate..\n",
      "Generating...\n",
      "Checking limit rate..\n",
      "Generating...\n",
      "Checking limit rate..\n",
      "Generating...\n",
      "Checking limit rate..\n",
      "Generating...\n",
      "Checking limit rate..\n",
      "Generating...\n",
      "Checking limit rate..\n",
      "Generating...\n",
      "Checking limit rate..\n",
      "Generating...\n",
      "Checking limit rate..\n",
      "Generating...\n",
      "Checking limit rate..\n",
      "Generating...\n",
      "Checking limit rate..\n",
      "Generating...\n",
      "Checking limit rate..\n",
      "Generating...\n",
      "Checking limit rate..\n",
      "Generating...\n",
      "Checking limit rate..\n",
      "Generating...\n",
      "Checking limit rate..\n",
      "Generating...\n",
      "Checking limit rate..\n",
      "Generating...\n",
      "Checking limit rate..\n",
      "Generating...\n",
      "Checking limit rate..\n",
      "Checking limit rate..\n",
      "Generating...\n",
      "Generating...\n",
      "Checking limit rate..\n",
      "Generating...\n",
      "Checking limit rate..\n",
      "Generating...\n",
      "Checking limit rate..\n",
      "Generating...\n",
      "Checking limit rate..\n",
      "Generating...\n",
      "Checking limit rate..\n",
      "Generating...\n",
      "Checking limit rate..\n",
      "Generating...\n",
      "Checking limit rate..\n",
      "Generating...\n",
      "Checking limit rate..\n",
      "Generating...\n",
      "Checking limit rate..\n",
      "Generating...\n",
      "Checking limit rate..\n",
      "Generating...\n",
      "Checking limit rate..\n",
      "Generating...\n",
      "Checking limit rate..\n",
      "Generating...\n",
      "Checking limit rate..\n",
      "Generating...\n",
      "Checking limit rate..\n",
      "Generating...\n",
      "Checking limit rate..\n",
      "Generating...\n",
      "Checking limit rate..\n",
      "Generating...\n",
      "Checking limit rate..\n",
      "Generating...\n",
      "Checking limit rate..\n",
      "Generating...\n",
      "Checking limit rate..\n",
      "Generating...\n",
      "Checking limit rate..\n",
      "Generating...\n",
      "Checking limit rate..\n",
      "Generating...\n",
      "Checking limit rate..\n",
      "Generating...\n",
      "Checking limit rate..\n",
      "Generating...\n",
      "Checking limit rate..\n",
      "Generating...\n",
      "Checking limit rate..\n",
      "Generating...\n",
      "Checking limit rate..\n",
      "Generating...\n",
      "Checking limit rate..\n",
      "Generating...\n",
      "Checking limit rate..\n",
      "Generating...\n",
      "Checking limit rate..\n",
      "Generating...\n",
      "Checking limit rate..\n",
      "Generating...\n",
      "Checking limit rate..\n",
      "Generating...\n",
      "Checking limit rate..\n",
      "Generating...\n",
      "Checking limit rate..\n",
      "Generating...\n",
      "Checking limit rate..\n",
      "Generating...\n",
      "Checking limit rate..\n",
      "Generating...\n",
      "Checking limit rate..\n",
      "Generating...\n",
      "Checking limit rate..\n",
      "Generating...\n",
      "Checking limit rate..\n",
      "Generating...\n",
      "Checking limit rate..\n",
      "Generating...\n",
      "Checking limit rate..\n",
      "Generating...\n",
      "Checking limit rate..\n",
      "Generating...\n",
      "Checking limit rate..\n",
      "Generating...\n",
      "Checking limit rate..\n",
      "Generating...\n",
      "Checking limit rate..\n",
      "Generating...\n",
      "Checking limit rate..\n",
      "Generating...\n",
      "Checking limit rate..\n",
      "Generating...\n",
      "Checking limit rate..\n",
      "Generating...\n",
      "Checking limit rate..\n",
      "Generating...\n",
      "Checking limit rate..\n",
      "Generating...\n",
      "Checking limit rate..\n",
      "Generating...\n",
      "Checking limit rate..\n",
      "Generating...\n",
      "Checking limit rate..\n",
      "Generating...\n",
      "Checking limit rate..\n",
      "Generating...\n",
      "Checking limit rate..\n",
      "Generating...\n",
      "Checking limit rate..\n",
      "Generating...\n",
      "Checking limit rate..\n",
      "Generating...\n",
      "Checking limit rate..\n",
      "Generating...\n",
      "Checking limit rate..\n",
      "Generating...\n",
      "Checking limit rate..\n",
      "Generating...\n",
      "Checking limit rate..\n",
      "Generating...\n",
      "Checking limit rate..\n",
      "Generating...\n",
      "Checking limit rate..\n",
      "Generating...\n",
      "Checking limit rate..\n",
      "Generating...\n",
      "Checking limit rate..\n",
      "Generating...\n",
      "Checking limit rate..\n",
      "Generating...\n",
      "Checking limit rate..\n",
      "Generating...\n",
      "Checking limit rate..\n",
      "Generating...\n",
      "Checking limit rate..\n",
      "Generating...\n",
      "Checking limit rate..\n",
      "Generating...\n",
      "Checking limit rate..\n",
      "Generating...\n",
      "Checking limit rate..\n",
      "Generating...\n",
      "Checking limit rate..\n",
      "Generating...\n",
      "Checking limit rate..\n",
      "Generating...\n",
      "Checking limit rate..\n",
      "Generating...\n",
      "Checking limit rate..\n",
      "Generating...\n",
      "Checking limit rate..\n",
      "Generating...\n",
      "Checking limit rate..\n",
      "Generating...\n",
      "Checking limit rate..\n",
      "Generating...\n",
      "Checking limit rate..\n",
      "Generating...\n",
      "Checking limit rate..\n",
      "Generating...\n",
      "Checking limit rate..\n",
      "Generating...\n",
      "Checking limit rate..\n",
      "Generating...\n",
      "Checking limit rate..\n",
      "Generating...\n",
      "Checking limit rate..\n",
      "Generating...\n",
      "Checking limit rate..\n",
      "Generating...\n",
      "Checking limit rate..\n",
      "Generating...\n",
      "Checking limit rate..\n",
      "Generating...\n",
      "Checking limit rate..\n",
      "Generating...\n",
      "Checking limit rate..\n",
      "Generating...\n",
      "Checking limit rate..\n",
      "Generating...\n",
      "Checking limit rate..\n",
      "Generating...\n",
      "Checking limit rate..\n",
      "Generating...\n",
      "Checking limit rate..\n",
      "Generating...\n",
      "Checking limit rate..\n",
      "Generating...\n",
      "Checking limit rate..\n",
      "Generating...\n",
      "Checking limit rate..\n",
      "Generating...\n",
      "Checking limit rate..\n",
      "Generating...\n",
      "Checking limit rate..\n",
      "Generating...\n",
      "Checking limit rate..\n",
      "Generating...\n",
      "Checking limit rate..\n",
      "Generating...\n",
      "Checking limit rate..\n",
      "Generating...\n",
      "Checking limit rate..\n",
      "Generating...\n",
      "Checking limit rate..\n",
      "Generating...\n",
      "Checking limit rate..\n",
      "Generating...\n",
      "Checking limit rate..\n",
      "Generating...\n",
      "Checking limit rate..\n",
      "Generating...\n",
      "Checking limit rate..\n",
      "Generating...\n",
      "Checking limit rate..\n",
      "Generating...\n",
      "Checking limit rate..\n",
      "Generating...\n",
      "Checking limit rate..\n",
      "Generating...\n",
      "Checking limit rate..\n",
      "Generating...\n",
      "Checking limit rate..\n",
      "Generating...\n",
      "Checking limit rate..\n",
      "Generating...\n",
      "Checking limit rate..\n",
      "Generating...\n",
      "Checking limit rate..\n",
      "Generating...\n",
      "Checking limit rate..\n",
      "Generating...\n",
      "Checking limit rate..\n",
      "Generating...\n",
      "Checking limit rate..\n",
      "Generating...\n",
      "Checking limit rate..\n",
      "Generating...\n",
      "Checking limit rate..\n",
      "Generating...\n",
      "Checking limit rate..\n",
      "Generating...\n",
      "Checking limit rate..\n",
      "Generating...\n",
      "Checking limit rate..\n",
      "Generating...\n",
      "Checking limit rate..\n",
      "Generating...\n",
      "Checking limit rate..\n",
      "Generating...\n",
      "Checking limit rate..\n",
      "Generating...\n",
      "Checking limit rate..\n",
      "Generating...\n",
      "Checking limit rate..\n",
      "Generating...\n",
      "Checking limit rate..\n",
      "Generating...\n",
      "Checking limit rate..\n",
      "Generating...\n",
      "Checking limit rate..\n",
      "Generating...\n",
      "Checking limit rate..\n",
      "Generating...\n",
      "Checking limit rate..\n",
      "Generating...\n",
      "Checking limit rate..\n",
      "Generating...\n",
      "Checking limit rate..\n",
      "Generating...\n",
      "Checking limit rate..\n",
      "Generating...\n",
      "Checking limit rate..\n",
      "Generating...\n",
      "Checking limit rate..\n",
      "Generating...\n",
      "Checking limit rate..\n",
      "Generating...\n",
      "Checking limit rate..\n",
      "Generating...\n",
      "Checking limit rate..\n",
      "Generating...\n",
      "Checking limit rate..\n",
      "Generating...\n",
      "Checking limit rate..\n",
      "Generating...\n",
      "Checking limit rate..\n",
      "Generating...\n",
      "Checking limit rate..\n",
      "Generating...\n",
      "Checking limit rate..\n",
      "Generating...\n",
      "Checking limit rate..\n",
      "Generating...\n",
      "Checking limit rate..\n",
      "Generating...\n",
      "Checking limit rate..\n",
      "Generating...\n",
      "Checking limit rate..\n",
      "Generating...\n",
      "Checking limit rate..\n",
      "Generating...\n",
      "Checking limit rate..\n",
      "Generating...\n",
      "Checking limit rate..\n",
      "Generating...\n",
      "Checking limit rate..\n",
      "Generating...\n",
      "Checking limit rate..\n",
      "Generating...\n",
      "Checking limit rate..\n",
      "Generating...\n",
      "Checking limit rate..\n",
      "Generating...\n",
      "Checking limit rate..\n",
      "Generating...\n",
      "Checking limit rate..\n",
      "Generating...\n",
      "Checking limit rate..\n",
      "Generating...\n",
      "Checking limit rate..\n",
      "Generating...\n",
      "Checking limit rate..\n",
      "Generating...\n",
      "Checking limit rate..\n",
      "Generating...\n",
      "Checking limit rate..\n",
      "New Minute is: 28991213\n",
      "New Total Tokens is: 967\n",
      "Last Minute: 28991212\n",
      "Last Total tokens: 202909\n",
      "Generating...\n",
      "Checking limit rate..\n",
      "Generating...\n",
      "Checking limit rate..\n",
      "Generating...\n",
      "Checking limit rate..\n",
      "Generating...\n",
      "Checking limit rate..\n",
      "Generating...\n",
      "Checking limit rate..\n",
      "Generating...\n",
      "Checking limit rate..\n",
      "Generating...\n",
      "Checking limit rate..\n",
      "Generating...\n",
      "Checking limit rate..\n",
      "Generating...\n",
      "Checking limit rate..\n",
      "Generating...\n",
      "Checking limit rate..\n",
      "Generating...\n",
      "Checking limit rate..\n",
      "Generating...\n",
      "Checking limit rate..\n",
      "Generating...\n",
      "Checking limit rate..\n",
      "Generating...\n",
      "Checking limit rate..\n",
      "Generating...\n",
      "Checking limit rate..\n",
      "Generating...\n",
      "Checking limit rate..\n",
      "Generating...\n",
      "Checking limit rate..\n",
      "Generating...\n",
      "Checking limit rate..\n",
      "Generating...\n",
      "Checking limit rate..\n",
      "Generating...\n",
      "Checking limit rate..\n",
      "Generating...\n",
      "Checking limit rate..\n",
      "Generating...\n",
      "Checking limit rate..\n",
      "Generating...\n",
      "Checking limit rate..\n",
      "Generating...\n",
      "Checking limit rate..\n",
      "Generating...\n",
      "Checking limit rate..\n",
      "Generating...\n",
      "Checking limit rate..\n",
      "Generating...\n",
      "Checking limit rate..\n",
      "Generating...\n",
      "Checking limit rate..\n",
      "Generating...\n",
      "Checking limit rate..\n",
      "Generating...\n",
      "Checking limit rate..\n",
      "Generating...\n",
      "Checking limit rate..\n",
      "Generating...\n",
      "Checking limit rate..\n",
      "Generating...\n",
      "Checking limit rate..\n",
      "Generating...\n",
      "Checking limit rate..\n",
      "Generating...\n",
      "Checking limit rate..\n",
      "Generating...\n",
      "Checking limit rate..\n",
      "Generating...\n",
      "Checking limit rate..\n",
      "Generating...\n",
      "Checking limit rate..\n",
      "Generating...\n",
      "Checking limit rate..\n",
      "Generating...\n",
      "Checking limit rate..\n",
      "Generating...\n",
      "Checking limit rate..\n",
      "Generating...\n",
      "Checking limit rate..\n",
      "Generating...\n",
      "Checking limit rate..\n",
      "Generating...\n"
     ]
    },
    {
     "name": "stderr",
     "output_type": "stream",
     "text": [
      " 11%|█▏        | 107/936 [04:29<34:46,  2.52s/it]"
     ]
    },
    {
     "name": "stdout",
     "output_type": "stream",
     "text": [
      "Error executing thread pool. Error: Error code: 400 - {'error': {'message': \"The response was filtered due to the prompt triggering Azure OpenAI's content management policy. Please modify your prompt and retry. To learn more about our content filtering policies please read our documentation: https://go.microsoft.com/fwlink/?linkid=2198766\", 'type': None, 'param': 'prompt', 'code': 'content_filter', 'status': 400, 'innererror': {'code': 'ResponsibleAIPolicyViolation', 'content_filter_result': {'hate': {'filtered': False, 'severity': 'safe'}, 'jailbreak': {'filtered': False, 'detected': False}, 'self_harm': {'filtered': False, 'severity': 'safe'}, 'sexual': {'filtered': True, 'severity': 'medium'}, 'violence': {'filtered': False, 'severity': 'safe'}}}}}\n",
      "23\n"
     ]
    },
    {
     "name": "stderr",
     "output_type": "stream",
     "text": [
      "\n"
     ]
    }
   ],
   "source": [
    "results = []\n",
    "for idx, sl in enumerate(split_list(prompts, 50)):\n",
    "\tif idx<=26:\n",
    "\t\tcontinue\n",
    "\tprint(f\"Executing the IDX: {idx}\")\n",
    "\tres = execute_azure_openai_with_text_in_thread_pool(sl)\n",
    "\tresults.append(res)\n",
    "\tsave_obj(results, DATA_PROCESSED_PATH / f\"resume_critique_model_2_passive_curated_{idx}_run_3.pkl\")\n",
    "\tprint(len(results))\n",
    "\tclear_output(wait=True)"
   ]
  },
  {
   "cell_type": "code",
   "execution_count": 44,
   "metadata": {},
   "outputs": [],
   "source": [
    "results_1 = load_obj(DATA_PROCESSED_PATH / \"resume_critique_model_2_passive_curated_26_run_3.pkl\")\n",
    "results_2 = load_obj(DATA_PROCESSED_PATH / \"resume_critique_model_2_passive_curated_49_run_3.pkl\")\n",
    "results = results_1 + results_2"
   ]
  },
  {
   "cell_type": "markdown",
   "metadata": {},
   "source": []
  },
  {
   "cell_type": "code",
   "execution_count": null,
   "metadata": {},
   "outputs": [],
   "source": [
    "for res in results:\n",
    "    print(len(res))"
   ]
  },
  {
   "cell_type": "code",
   "execution_count": 46,
   "metadata": {},
   "outputs": [],
   "source": [
    "f_results = [sub for sublist in results for sub in sublist]"
   ]
  },
  {
   "cell_type": "code",
   "execution_count": 47,
   "metadata": {},
   "outputs": [
    {
     "data": {
      "text/plain": [
       "18734"
      ]
     },
     "execution_count": 47,
     "metadata": {},
     "output_type": "execute_result"
    }
   ],
   "source": [
    "len(f_results)"
   ]
  },
  {
   "cell_type": "code",
   "execution_count": 48,
   "metadata": {},
   "outputs": [
    {
     "data": {
      "text/plain": [
       "dict_keys(['idx', 'ex_idx', 'ex', 'section', 'prompt', 'instruction', 'input', 'output', 'text', 'res'])"
      ]
     },
     "execution_count": 48,
     "metadata": {},
     "output_type": "execute_result"
    }
   ],
   "source": [
    "f_results[10000].keys()"
   ]
  },
  {
   "cell_type": "code",
   "execution_count": 49,
   "metadata": {},
   "outputs": [
    {
     "data": {
      "text/plain": [
       "46837"
      ]
     },
     "execution_count": 49,
     "metadata": {},
     "output_type": "execute_result"
    }
   ],
   "source": [
    "len(prompts)"
   ]
  },
  {
   "cell_type": "markdown",
   "metadata": {},
   "source": []
  },
  {
   "cell_type": "code",
   "execution_count": 50,
   "metadata": {},
   "outputs": [],
   "source": [
    "n_dataset = []\n",
    "for output in f_results:\n",
    "\to_idx = output[\"idx\"]\n",
    "\to_ex_idx = output[\"ex_idx\"]\n",
    "\tfor prompt in prompts:\n",
    "\t\tp_idx = prompt[\"idx\"]\n",
    "\t\tp_ex_idx = prompt[\"ex_idx\"]\n",
    "\t\tif o_idx == p_idx and o_ex_idx == p_ex_idx:\n",
    "\t\t\tn_dataset.append(\n",
    "\t\t\t\t{\n",
    "\t\t\t\t\t\"instruction\": prompt[\"instruction\"],\n",
    "\t\t\t\t\t\"input\": prompt[\"input\"],\n",
    "\t\t\t\t\t\"output\": prompt[\"output\"],\n",
    "\t\t\t\t\t\"text\": prompt[\"text\"],\n",
    "\t\t\t\t\t\"idx\": o_idx,\n",
    "\t\t\t\t\t\"ex_idx\": o_ex_idx,\n",
    "\t\t\t\t\t\"passive\": output[\"res\"]\n",
    "\t\t\t\t}\n",
    "\t\t\t)\n",
    "\t\t\tbreak"
   ]
  },
  {
   "cell_type": "code",
   "execution_count": 51,
   "metadata": {},
   "outputs": [
    {
     "data": {
      "text/plain": [
       "18734"
      ]
     },
     "execution_count": 51,
     "metadata": {},
     "output_type": "execute_result"
    }
   ],
   "source": [
    "len(n_dataset)"
   ]
  },
  {
   "cell_type": "code",
   "execution_count": 52,
   "metadata": {},
   "outputs": [],
   "source": [
    "df_pass = pd.DataFrame.from_records(n_dataset)"
   ]
  },
  {
   "cell_type": "code",
   "execution_count": 53,
   "metadata": {},
   "outputs": [
    {
     "data": {
      "text/plain": [
       "7738"
      ]
     },
     "execution_count": 53,
     "metadata": {},
     "output_type": "execute_result"
    }
   ],
   "source": [
    "df_pass.idx.nunique()"
   ]
  },
  {
   "cell_type": "code",
   "execution_count": 54,
   "metadata": {},
   "outputs": [],
   "source": [
    "df_pass.passive = df_pass.passive.apply(lambda x: literal_eval(x))"
   ]
  },
  {
   "cell_type": "code",
   "execution_count": 55,
   "metadata": {},
   "outputs": [],
   "source": [
    "df_pass[\"final_passive\"] = df_pass.groupby(\"idx\")[\"passive\"].transform(lambda x: sum(x) >= 1)"
   ]
  },
  {
   "cell_type": "code",
   "execution_count": 56,
   "metadata": {},
   "outputs": [
    {
     "data": {
      "text/plain": [
       "18734"
      ]
     },
     "execution_count": 56,
     "metadata": {},
     "output_type": "execute_result"
    }
   ],
   "source": [
    "len(df_pass)"
   ]
  },
  {
   "cell_type": "code",
   "execution_count": 57,
   "metadata": {},
   "outputs": [
    {
     "data": {
      "text/plain": [
       "7322"
      ]
     },
     "execution_count": 57,
     "metadata": {},
     "output_type": "execute_result"
    }
   ],
   "source": [
    "len(df_pass[df_pass[\"final_passive\"]])"
   ]
  },
  {
   "cell_type": "code",
   "execution_count": 58,
   "metadata": {},
   "outputs": [],
   "source": [
    "f_df_pass = df_pass[df_pass[\"final_passive\"]]"
   ]
  },
  {
   "cell_type": "code",
   "execution_count": 59,
   "metadata": {},
   "outputs": [],
   "source": [
    "f_df_pass[\"bool_passive\"] = f_df_pass.groupby(\"idx\")[\"passive\"].transform(lambda x: [x.tolist()]*len(x))"
   ]
  },
  {
   "cell_type": "code",
   "execution_count": 60,
   "metadata": {},
   "outputs": [],
   "source": [
    "nf_df_pass = f_df_pass.groupby(\"idx\").first()[[\"instruction\", \"input\", \"output\", \"text\", \"bool_passive\"]]"
   ]
  },
  {
   "cell_type": "code",
   "execution_count": 180,
   "metadata": {},
   "outputs": [
    {
     "data": {
      "text/plain": [
       "idx\n",
       "0        'Introduction': Your work history is comprehensive, yet the descriptions could benefit from deep...\n",
       "4        'Introduction': Your work history section contains substantive content, which is a positive aspe...\n",
       "5        'Introduction': The work history section of your resume includes substantive content, which is a...\n",
       "6        'Introduction': Your work history section contains substantive content, which is a positive aspe...\n",
       "11       'Introduction': Your work history section includes substantive descriptions, which is excellent ...\n",
       "                                                        ...                                                 \n",
       "18583    'Introduction': Your work history section has potential, but it requires more substance beyond l...\n",
       "18584    'Introduction': Your work history section contains substantial content that reflects your profes...\n",
       "18585    'Introduction': Your work history section contains valuable experiences, but it could benefit fr...\n",
       "18586    'Introduction': Your work history section demonstrates significant experience, but the descripti...\n",
       "18590    'Introduction': Your work history section contains substantial content detailing your roles and ...\n",
       "Name: output, Length: 2980, dtype: object"
      ]
     },
     "execution_count": 180,
     "metadata": {},
     "output_type": "execute_result"
    }
   ],
   "source": [
    "nf_df_pass[\"output\"]"
   ]
  },
  {
   "cell_type": "code",
   "execution_count": 61,
   "metadata": {},
   "outputs": [],
   "source": [
    "output_ex = f_df_pass.output.iloc[10]"
   ]
  },
  {
   "cell_type": "code",
   "execution_count": 62,
   "metadata": {},
   "outputs": [
    {
     "name": "stdout",
     "output_type": "stream",
     "text": [
      "'Introduction': Your work history section includes substantive descriptions, which is excellent for showcasing your experience. However, it’s essential to present your professional experiences in a way that is engaging and impactful. This means emphasizing accomplishments and contributions rather than merely listing duties.\n",
      "'Achiever': While your work history includes solid descriptions, there is room for improvement in showcasing achievements. Striking a balance between tasks and accomplishments will help demonstrate your capabilities as an 'achiever' rather than just a 'do-er.' By using accomplishment-driven language, you can present measurable value in your experiences, making a stronger case for your candidacy.\n",
      "'Achievements': [\"Example of task-based language: 'Developed cloud solutions on AWS and Azure.'\", \"Example of achievement-driven language: 'Engineered scalable cloud solutions on AWS and Azure, enhancing operational efficiency by 20%.'\"]\n",
      "'Passive': Your resume does contain some passive language that could be improved. Avoiding repetitive and weak phrases is essential for creating a more dynamic presentation of your experiences. By choosing stronger, active verbs, you can better engage the reader and convey your contributions more effectively.\n",
      "'Passive Language': ['Was responsible for developing applications.', 'Assisted', 'Worked on', 'Helped']\n",
      "'Screen Out: Your work history is consistent, which is a positive aspect. However, it's important to ensure that your resume does not contain gaps or older positions that could raise concerns. Highlighting your most relevant experiences will keep the focus on your current capabilities and maintain a modern approach to your qualifications.\n"
     ]
    }
   ],
   "source": [
    "print(output_ex)"
   ]
  },
  {
   "cell_type": "code",
   "execution_count": 77,
   "metadata": {},
   "outputs": [],
   "source": [
    "import re\n",
    "from nltk.tokenize import sent_tokenize\n",
    "\n",
    "def get_model_json(output):\n",
    "\t# res_d = dict(map(str.strip, line.split(':', 1)) for line in output.splitlines()[:6])\n",
    "\tres_d = {}\n",
    "\tfor line in output.splitlines()[:6]:\n",
    "\t\tsplits = line.split(\":\", 1)\n",
    "\t\tif len(splits) > 2:\n",
    "\t\t\tsplits = [splits[0], \"\".join(splits[1:])]\n",
    "\t\tfield, text = splits\n",
    "\t\tres_d[field] = text.strip()\n",
    "\n",
    "\tn_res_d = {}\n",
    "\tfor f_name, text in res_d.items():\n",
    "\t\tnew_k = f_name.replace(\"'\", \"\")\n",
    "\t\tif new_k in [\"Achievements\", \"Passive Language\"]:\n",
    "\t\t\ttry:\n",
    "\t\t\t\tnew_v = literal_eval(text)\n",
    "\t\t\texcept:\n",
    "\t\t\t\tnew_v = text\n",
    "\t\telse:\n",
    "\t\t\tnew_v = text\n",
    "\t\tn_res_d[new_k] = new_v\n",
    "\treturn n_res_d\n",
    "\n",
    "\n",
    "def change_passive(output: str, passive_ex: list):\n",
    "\tlines = []\n",
    "\tfor line in output.splitlines():\n",
    "\t\tif \"'Passive Language': \" in line:\n",
    "\t\t\tline = \"'Passive Language': \" + str(passive_ex)\n",
    "\t\tlines.append(line)\n",
    "\tn_output = \"\\n\".join(lines)\n",
    "\treturn n_output"
   ]
  },
  {
   "cell_type": "code",
   "execution_count": 92,
   "metadata": {},
   "outputs": [],
   "source": [
    "def adjust_passive_examples(row):\n",
    "    bool_passive = row[\"bool_passive\"]\n",
    "    output = row[\"output\"]\n",
    "    output_json = get_model_json(output)\n",
    "    pass_ex = output_json[\"Passive Language\"]\n",
    "    n_pass_ex = [p for p, b in zip(pass_ex, bool_passive) if b]\n",
    "    n_output = change_passive(output, n_pass_ex)\n",
    "    return n_output"
   ]
  },
  {
   "cell_type": "code",
   "execution_count": 95,
   "metadata": {},
   "outputs": [],
   "source": [
    "f_df_pass[\"n_output\"] = f_df_pass.apply(adjust_passive_examples, axis=1)"
   ]
  },
  {
   "cell_type": "code",
   "execution_count": 108,
   "metadata": {},
   "outputs": [
    {
     "name": "stdout",
     "output_type": "stream",
     "text": [
      "'Introduction': Your work history section contains substantial content, but it could be more engaging. Presenting your professional experiences in an impactful way will make it easier for hiring managers to appreciate the depth of your expertise.\n",
      "'Achiever': Your work history balances tasks and accomplishments, but it leans heavily towards task-based language. This can dilute the perception of you as an 'achiever.' Emphasizing accomplishment-driven language will demonstrate measurable value and set you apart from other candidates.\n",
      "'Achievements': ['- Task: Managed AWS services for infrastructure maintenance.', '- Achievement: Successfully migrated AWS infrastructure, reducing costs by 30% and improving uptime by 15%.']\n",
      "'Passive': Your resume features some instances of passive language that could be more dynamic. Avoiding weak or repetitive phrasing is essential in making your accomplishments stand out. Strong, action-oriented language will engage the reader more effectively.\n",
      "'Passive Language': ['\"Worked on AWS services.\"', '\"Responsible for monitoring servers.\"']\n",
      "'Screen Out: Your work history shows a consistent employment track without significant gaps, which is commendable. Maintaining this consistency is vital since gaps can raise concerns during a job search.\n",
      "----------------------------------------------------------------------------------------------------\n",
      "'Introduction': Your work history section contains substantial content, but it could be more engaging. Presenting your professional experiences in an impactful way will make it easier for hiring managers to appreciate the depth of your expertise.\n",
      "'Achiever': Your work history balances tasks and accomplishments, but it leans heavily towards task-based language. This can dilute the perception of you as an 'achiever.' Emphasizing accomplishment-driven language will demonstrate measurable value and set you apart from other candidates.\n",
      "'Achievements': ['- Task: Managed AWS services for infrastructure maintenance.', '- Achievement: Successfully migrated AWS infrastructure, reducing costs by 30% and improving uptime by 15%.']\n",
      "'Passive': Your resume features some instances of passive language that could be more dynamic. Avoiding weak or repetitive phrasing is essential in making your accomplishments stand out. Strong, action-oriented language will engage the reader more effectively.\n",
      "'Passive Language': ['\"Responsible for monitoring servers.\"']\n",
      "'Screen Out: Your work history shows a consistent employment track without significant gaps, which is commendable. Maintaining this consistency is vital since gaps can raise concerns during a job search.\n"
     ]
    }
   ],
   "source": [
    "print(f_df_pass.output.iloc[950])\n",
    "print(\"-\"*100)\n",
    "print(f_df_pass.n_output.iloc[950])"
   ]
  },
  {
   "cell_type": "code",
   "execution_count": 110,
   "metadata": {},
   "outputs": [],
   "source": [
    "save_obj(f_df_pass, DATA_PROCESSED_PATH / \"df_final_passive.csv\")"
   ]
  },
  {
   "cell_type": "code",
   "execution_count": 111,
   "metadata": {},
   "outputs": [],
   "source": [
    "f_df_pass[\"output\"] = f_df_pass[\"n_output\"]"
   ]
  },
  {
   "cell_type": "code",
   "execution_count": 113,
   "metadata": {},
   "outputs": [],
   "source": [
    "f_df_pass = f_df_pass[[\"instruction\", \"input\", \"output\", \"text\"]]"
   ]
  },
  {
   "cell_type": "code",
   "execution_count": 114,
   "metadata": {},
   "outputs": [],
   "source": [
    "f_df_pass.to_json(DATA_TRAINING_PATH / \"resume_critique_model_4_v2.jsonl\", lines=True, orient=\"records\")"
   ]
  },
  {
   "cell_type": "code",
   "execution_count": 18,
   "metadata": {},
   "outputs": [],
   "source": [
    "f_df_pass = load_obj(DATA_TRAINING_PATH / \"train\"  / \"resume_critique_model_4_v2.jsonl\", as_df=True)"
   ]
  },
  {
   "cell_type": "code",
   "execution_count": 28,
   "metadata": {},
   "outputs": [],
   "source": [
    "def format_text(row):\n",
    "    inst = row[\"instruction\"]\n",
    "    input = row[\"input\"]\n",
    "    output = row[\"output\"]\n",
    "    prompt = PROMPT_TEMPLATE.format(\n",
    "        instruction=inst,\n",
    "        input=input,\n",
    "        output=output\n",
    "\t)\n",
    "    return prompt\n",
    "f_df_pass.text = f_df_pass.apply(format_text, axis=1)"
   ]
  },
  {
   "cell_type": "code",
   "execution_count": 33,
   "metadata": {},
   "outputs": [
    {
     "name": "stdout",
     "output_type": "stream",
     "text": [
      "Below is an instruction that describes a task, paired with an input that provides further context. Write a response that appropriately completes the request.\n",
      "\n",
      "### Instruction:\n",
      "You are a professional resume evaluator. Given the following resume 'Input', please return a feedback / evaluation 'Response' about the Work History / Experience section.\n",
      "\n",
      "Check the following explanation for each required feedback / evaluation:\n",
      "'Introduction': A introduction about the work history / experience of the work history / experience.\n",
      "'Achiever': A critique about the achievements and tasks / duties quality in the work history / experience.\n",
      "'Achievements': An array with examples of achievements sentences for improving the resume writing.\n",
      "'Passive': A critique about the use of passive language and expressions in the work history / experience.\n",
      "'Passive Language': An array with examples of passive language verbs, expressions or sentences for improving the resume writing.\n",
      "'Screen Out: A conclusion about the work history / experience.\n",
      "\n",
      "Return the required information in 'Response'.\n",
      "\n",
      "### Input:\n",
      "1\n",
      "\n",
      "\n",
      "1\n",
      "\n",
      "\n",
      "Clayton R. Kirk\n",
      "\n",
      "* 902 General Barksdale Dr. Smyrna, TN 37167 * 629-244-9163 (c)\n",
      "claytonkirk@comcast.net *\n",
      "\n",
      "\n",
      "PROFESSIONAL PROFILE\n",
      "\n",
      "Self-directed, successful leader, mentor, accomplished manager, and administrative professional with over 25 years of experience in management and training. Highly organized, able to multi-task and accomplish multiple objectives. Detail-oriented and able to take initiative, prioritize multiple tasks, and manage personnel and workload. Resourceful team player with can-do attitude and proven ability to produce results.\n",
      "\n",
      "KEY SKILLS\n",
      "\n",
      "*\tManage individuals and teams (60 - 80 employees, depending on season).\n",
      "*\tHiring, review and assessment capabilities.\n",
      "*\tCompetitive market intelligence in a metro market.\n",
      "*\tEffective trainer and mentor in the retail home improvement industry.\n",
      "*\tMicrosoft Office (Word, Excel, PowerPoint, Outlook) competencies.\n",
      "*\tProfessional written and communication skills.\n",
      "*\tEffective written, presentation and spreadsheet skills in the Microsoft Office software.\n",
      "\n",
      "PROFESSIONAL EXPERIENCE\n",
      "\n",
      "RiteRug, LLC\tLa Vergne, TN\n",
      "Receiving Specialist\t\t 3/20 - 2/24\n",
      "*\tReceive all incoming product.\n",
      "*\tAssign locations.\n",
      "*\tFollow up all discrepancies.\n",
      "*\tTrack all discrepancies.\n",
      "\n",
      "Empire Today LLC\tNashville, TN\n",
      "Installation Manager\t\t8/19 - 12/19\n",
      "*\tAssign installers to meet the daily install in a cost-efficient manner.\n",
      "*\tWarehouse supervisor: auditor, receiver.\n",
      "*\tForklift operator.\n",
      "\n",
      "Driveline\tIrving, TX\n",
      "Project Manager\t9/18 - 3/19\n",
      "*\tDedicated to ensuring clients' needs are met in a timely and cost-efficient manner.\n",
      "*\tManage payroll and documentation for the project and team.\n",
      "*\tForklift operator.\n",
      "\n",
      "Floor and Décor\tAntioch, TN\n",
      "Operations Manager\t2/16 - 6/18\n",
      "*\tMonitored daily business, cash, and credit to ensure accurate deposits and daily business functions followed company policies.\n",
      "*\tMentor and coach for new hires and upwardly mobile employees. Managed all support staff for- a new public corporation of hard surface flooring retail store. Was directly responsible for promoting 7 people in 5 years as administrative manager and mentored over 20 other employees' that could get promotions in other stores.\n",
      "*\tInvolved in all hiring processes for the store.\n",
      "*\tResponsible for employee reviews and assessments within the administrative department, that included all non-sales employees (support staff).\n",
      "*\tForklift certification trainer.\n",
      "\n",
      "Amazon Fulfillment\t\tMurfreesboro, TN\n",
      "Equipment Operator/Receiving\t9/15 - 2/16\n",
      "*\tReceiving\n",
      "*\tStow\n",
      "*\tPick orders\n",
      "*\tOrder picker certified\n",
      "*\tReach truck certified\n",
      "*\tForklift certified\n",
      "\n",
      "Family Dollar\tNashville, TN\n",
      "Store Manager\t2/15 - 8/15\n",
      "*\tResponsible for store margins, sales budgets, and payroll budgets on weekly, monthly, and yearly basis.\n",
      "*\tMonitor employee tasks, freight flow, prioritize employee work lists, develop, and implemented merchandizing projects for departments.\n",
      "*\tResponsible for creating, reviewing, and approving schedules, vacations, and time off requests for the store.\n",
      "*\tResponsible for first level interviews for new employees for the store.\n",
      "*\tResponsible for employee reviews and assessments within store.\n",
      "\n",
      "US Health Advisors\tNashville, TN\n",
      "Independent Health Insurance Agent\t4/14 to 2/15\n",
      "*\tPresent and write health insurance policies\n",
      "\n",
      "Lowes Companies\t\tWilkesboro, NC\n",
      "-Market Intelligence and Pricing Specialist\t2/10 to 3/14\n",
      "*\tCreate and execute regional marketing research and analysis encompassing integrated marketing, pricing and advertising initiatives for the Metropolitan Nashville, TN market. -\n",
      "*\t-Organize presentations to conceptualize product development strategies for senior management. -\n",
      "*\t-Communicate with senior management, internal departments, and vendors to coordinate overall marketing effort involving point of purchase merchandising and product launching in accordance with corporate goals. -\n",
      "*\tDesigned and wrote a market intelligence, pricing, and customer service training manual for the retail industry that was presented as my Master of Education thesis.\n",
      "\n",
      "Lowes Companies\t\tWilkesboro, NC\n",
      "Operations Manager\t\t2/06 - 2/10\n",
      "*\t---11 years in management for a big box retailer, 4 years as the Administrative manager, responsible for reducing controllable expenses, responsible for monthly, quarterly, and annual store budgets, audits, merchandising and pricing (was number 1with in 21 stores, 2 districts, for audits.\n",
      "*\tMonitored daily business, cash, and credit to ensure accurate deposits and daily business functions followed company policies.\n",
      "*\tMentor and coach for new hires and upwardly mobile employees. Managed all support staff for- 35-million-dollar retail store. Was directly responsible for promoting 7 people in 5 years as administrative manager and mentored over 20 other employees' that could get promotions in other stores.\n",
      "*\tInvolved in all hiring processes for the store.\n",
      "*\tResponsible for employee reviews and assessments within the administrative department, that included all non-sales employees (support staff).\n",
      "\n",
      "Lowes Companies\t\t Wilkesboro, NC\n",
      "Assistant Manager\t2/00 - 1/06\n",
      "*\tResponsible for department margins, general sales budgets, special order budgets, and installed sales budgets, for flooring, home décor, paint, hardware, tools, electrical, plumbing, both rough and fashion, appliances, and kitchen design, on a weekly, monthly, and yearly basis.\n",
      "*\tMonitored employee tasks, freight flow, prioritized employee work lists, developed and implemented merchandizing projects for departments.\n",
      "*\tResponsible for creating, reviewing, and approving schedules, vacations, and time off requests for the departments.\n",
      "*\tPlayed a specific role of second level interviewer as manager for hiring of all store employees. Played third level interviewer, with authority to hire employees for all departments under my control.\n",
      "*\tResponsible for employee reviews and assessments within the departments I was responsible for.\n",
      "\n",
      "Lowes Companies\t\tWilkesboro, NC\n",
      "Department Manager\t\t3/97 - 2/00\n",
      "*\tResponsible for maintenance of department along with assigning work lists.\n",
      "*\tResponsible for department training; ensuring that employees followed company guidelines for training.\n",
      "*\tResponsible for department scheduling.\n",
      "\n",
      "EDUCATION\n",
      "\n",
      "American InterContinental University-\tSchaumburg, IL  Master of Education, Concentration in Adult Education, and Training\t2014\n",
      "*\tGPA 3.89\n",
      "\n",
      "American InterContinental University-\tSchaumburg, IL  Bachelor of Business Administration, Concentration in Marketing\t2013\n",
      "*\t-GPA 3.95\n",
      "American InterContinental University\tSchaumburg, IL\n",
      "Associate of Arts, Business Administration\t2011\n",
      "*\tGPA 4.0\n",
      "\n",
      "MILITARY EXPERIENCE\n",
      "\n",
      "United States Navy\tSan Diego, CA\n",
      "-Communications Radioman and Crypto Expert\t1974\n",
      "*\tHonorable Discharge\n",
      "\n",
      "### Response:\n",
      "'Introduction': Your work history is comprehensive, yet the descriptions could benefit from deeper engagement and impact. Providing substantial content that showcases your duties and achievements will create a more compelling narrative of your professional journey.\n",
      "'Achiever': Your work history features a mix of tasks and accomplishments, but the emphasis on achievements could be stronger. It’s important to shift the focus from what you've done to what you've accomplished, presenting measurable value to prospective employers. This approach will help you stand out as an achiever rather than a doer.\n",
      "'Achievements': ['Developed and implemented training programs for over 20 employees, resulting in multiple promotions.', 'Managed daily operations, achieving a 15% increase in efficiency through strategic resource allocation.']\n",
      "'Passive': Your resume includes some passive language that could be more dynamic. Avoiding repetitive and weak phrasing is essential to engaging the reader. Utilizing more active language will enhance the impact of your descriptions and better showcase your achievements.\n",
      "'Passive Language': ['Responsible for employee reviews and assessments', 'Involved in hiring processes']\n",
      "'Screen Out: Your resume presents a consistent work history, which is a strong asset. However, be mindful of any older positions and consider focusing on the most relevant and recent roles to maintain a modern focus. This will ensure you avoid any perceptions of ageism.\n"
     ]
    }
   ],
   "source": [
    "print(f_df_pass.iloc[1].text)"
   ]
  },
  {
   "cell_type": "code",
   "execution_count": 37,
   "metadata": {},
   "outputs": [],
   "source": [
    "f_df_pass = f_df_pass.astype(str)"
   ]
  },
  {
   "cell_type": "code",
   "execution_count": 38,
   "metadata": {},
   "outputs": [],
   "source": [
    "f_df_pass.to_json(DATA_TRAINING_PATH / \"resume_critique_model_4_v3.jsonl\", lines=True, orient=\"records\")"
   ]
  },
  {
   "cell_type": "markdown",
   "metadata": {},
   "source": [
    "## Adjust Passive Language Demo"
   ]
  },
  {
   "cell_type": "code",
   "execution_count": null,
   "metadata": {},
   "outputs": [],
   "source": [
    "from ast import literal_eval"
   ]
  },
  {
   "cell_type": "markdown",
   "metadata": {},
   "source": []
  },
  {
   "cell_type": "code",
   "execution_count": null,
   "metadata": {},
   "outputs": [],
   "source": [
    "results = pd.read_excel(DATA_EXTERNAL_PATH / \"critique_test_result.xlsx\")"
   ]
  },
  {
   "cell_type": "code",
   "execution_count": null,
   "metadata": {},
   "outputs": [],
   "source": [
    "results"
   ]
  },
  {
   "cell_type": "code",
   "execution_count": null,
   "metadata": {},
   "outputs": [],
   "source": [
    "work_h_1 = results[\"WORK_HISTORY_1\"].tolist()\n",
    "inputs = results[\"INPUT\"].tolist()\n",
    "n_work_h_1 = []\n",
    "for w, input in zip(work_h_1, inputs):\n",
    "\tw_res = literal_eval(w)\n",
    "\tp_ex = w_res[\"Passive Language\"]\n",
    "\tn_p_ex = []\n",
    "\n",
    "\tprint(p_ex)\n",
    "\n",
    "\tfor ex_idx, ex in enumerate(p_ex):\n",
    "\t\tsection = find_section_text(exp=ex, text=input)\n",
    "\t\tprint(section)\n",
    "\n",
    "\t\tprompt = create_prompt(text=section, ex=ex)\n",
    "\t\tres = invoke_azure_openai_with_text(prompt)\n",
    "\t\tres = literal_eval(res)\n",
    "\t\tif not res:\n",
    "\t\t\tif isVerbException(ex):\n",
    "\t\t\t\tres = True\n",
    "\t\tif res:\n",
    "\t\t\tn_p_ex.append(ex)\n",
    "\tw_res[\"Passive Language\"] = n_p_ex\n",
    "\tn_work_h_1.append(w_res)\n",
    "\tprint(\"-\"*100)\n",
    "\t\t"
   ]
  },
  {
   "cell_type": "code",
   "execution_count": null,
   "metadata": {},
   "outputs": [],
   "source": [
    "len(n_work_h_1)"
   ]
  },
  {
   "cell_type": "code",
   "execution_count": null,
   "metadata": {},
   "outputs": [],
   "source": [
    "n = 29\n",
    "print(literal_eval(work_h_1[n])[\"Passive Language\"])\n",
    "print(n_work_h_1[n][\"Passive Language\"])"
   ]
  },
  {
   "cell_type": "code",
   "execution_count": null,
   "metadata": {},
   "outputs": [],
   "source": [
    "results[\"PASSIVE_LANGUAGE_OLD\"] = [literal_eval(w)[\"Passive Language\"] for w in work_h_1]\n",
    "results[\"PASSIVE_LANGUAGE_NEW\"] = [nw[\"Passive Language\"] for nw in n_work_h_1]"
   ]
  },
  {
   "cell_type": "markdown",
   "metadata": {},
   "source": []
  },
  {
   "cell_type": "markdown",
   "metadata": {},
   "source": []
  },
  {
   "cell_type": "code",
   "execution_count": null,
   "metadata": {},
   "outputs": [],
   "source": [
    "save_obj(results, DATA_EXTERNAL_PATH / \"critique_test_result_2.xlsx\")"
   ]
  },
  {
   "cell_type": "markdown",
   "metadata": {},
   "source": [
    "## Key Words (2000 Dataset)"
   ]
  },
  {
   "cell_type": "code",
   "execution_count": 14,
   "metadata": {},
   "outputs": [],
   "source": [
    "import json\n",
    "import operator as op\n",
    "from functools import reduce\n",
    "from copy import deepcopy\n",
    "import pandas as pd"
   ]
  },
  {
   "cell_type": "code",
   "execution_count": 15,
   "metadata": {},
   "outputs": [
    {
     "data": {
      "text/plain": [
       "PosixPath('/home/leobit/Development/internal-resume-critique/data/raw/gpt_critique_kw_dataset')"
      ]
     },
     "execution_count": 15,
     "metadata": {},
     "output_type": "execute_result"
    }
   ],
   "source": [
    "DATA_RAW_KW_PATH"
   ]
  },
  {
   "cell_type": "code",
   "execution_count": 16,
   "metadata": {},
   "outputs": [],
   "source": [
    "files_path = sorted(\n",
    "\tlist((int(path.stem.split(\"gpt_critique\")[1]), path) for path in DATA_RAW_KW_PATH.glob(\"*\")),\n",
    "\tkey=lambda tup: tup[0]\n",
    ")"
   ]
  },
  {
   "cell_type": "code",
   "execution_count": 17,
   "metadata": {},
   "outputs": [],
   "source": [
    "files = {path[0]:json.loads(Path(path[1]).read_text()) for path in files_path}"
   ]
  },
  {
   "cell_type": "code",
   "execution_count": 18,
   "metadata": {},
   "outputs": [
    {
     "data": {
      "text/plain": [
       "{'introduction': {'content': [\"Hello Vinolin, I’m {{persona-name}}, and I specialize in crafting compelling resumes that stand out. With your background in customer support and operations within the IT sector, it's crucial to have a resume that highlights your unique skills and experiences to differentiate you in a competitive field. A strong resume is your first step in making a lasting impression, and I'm here to guide you in refining your document to ensure it effectively markets your capabilities.\"]},\n",
       " 'overall_impressions': {'impression_intro': {'content': ['I look at hundreds of resumes each day, and yours presents a solid foundation. However, the key to a successful resume is clear and consistent organization, featuring relevant keywords and visible accomplishments. A well-structured resume stands out by being authentic and unique, offering a singular opportunity to make a memorable impression on potential employers.']},\n",
       "  'visual_presentation': {'content': [\"The visual presentation of your resume is straightforward, which is beneficial for ensuring ATS compatibility. It's important to maintain this simplicity, as overly complex designs can obscure critical information. Avoiding text boxes and images is wise as they can hinder ATS parsing. A strategic mix of brief paragraphs and bulleted highlights within your work history can effectively showcase your accomplishments and ensure that essential keywords are included.\"]},\n",
       "  'ai_warning': {'content': [\"Given the recent attention AI has received in resume writing, it's essential to proceed with caution. AI-generated content can make you sound like other candidates and often fails to resonate with recruiters.\"]},\n",
       "  'overall_impressions_tldr': {'content': [\"Your resume has a solid foundation, but improvements can enhance its effectiveness in a competitive market. Consider professional resume writing services to elevate your resume's impact.\"]}},\n",
       " 'resume_writing': {'writing_intro': {'content': [\"The content of your resume shows potential, but there's room for improvement to ensure it fully captures your strengths. A well-crafted resume can significantly enhance your job prospects by effectively communicating your value.\"]},\n",
       "  'value_proposition': {'summary': {'content': [\"Your current profile summary is well-crafted, effectively highlighting your experience and goals. However, refining it further to focus on the most relevant skills for your future aspirations could enhance its impact. A concise and targeted skill summary can quickly grab a hiring manager's attention and set you apart from other candidates.\"]},\n",
       "   'keywords': {'content': [\"Your resume includes a skills section that showcases relevant competencies like technical literacy and customer support. It's a promising start, but ongoing refinement to ensure alignment with your targeted job roles will make your resume even more compelling.\"]}},\n",
       "  'work_history': {'work_intro': {'content': ['Your work history includes a detailed description of your role, which is crucial for engaging potential employers. Presenting this information in a dynamic and impactful manner can further strengthen your professional narrative.']},\n",
       "   'achiever': {'content': ['While your work history provides a solid overview, emphasizing achievements over tasks will significantly enhance your appeal. Rewriting duties to highlight measurable outcomes will present you as an achiever rather than just a do-er.'],\n",
       "    'ex_achiever': {'content': ['Managed customer support tickets',\n",
       "      'Successfully reduced average resolution time by 20% through improved ticket management']}},\n",
       "   'passive': {'content': ['The language used in your work history is somewhat passive and could benefit from more dynamic phrasing. Avoiding repetitive and weak language will create a more engaging narrative.'],\n",
       "    'ex_passive': {'content': ['Ensured timely resolution',\n",
       "      'Managed customer inquiries']}},\n",
       "   'screen_out': {'content': ['Your work history is consistent, lacking any significant gaps or overly dated positions, which is commendable. This consistency helps maintain a modern and relevant focus in your job search.']}},\n",
       "  'resume_writing_tldr': {'content': ['Consider refining your resume to better highlight your achievements and dynamic skills. Professional resume writing services can assist in crafting a document that truly represents your value.']}},\n",
       " 'conclusion': {'wrap_up': {'content': [\"In your role as a Customer Support and Operations Assistant, it's vital that your resume effectively communicates your contributions and potential. There are areas where your resume could better sell your capabilities, ensuring it captures the attention of hiring managers. I encourage you to take the next steps in enhancing your resume to fully reflect your professional achievements and aspirations.\"]},\n",
       "  'next_steps': {'content': ['Highlight your achievements with measurable outcomes. Your resume should not just detail tasks but showcase what you have accomplished.',\n",
       "    'Use dynamic, engaging language to describe your experiences. Avoid passive and repetitive phrasing to keep your reader interested.']},\n",
       "  'signature': {'content': []}},\n",
       " 'email': {'greeting': {'content': ['Dear Vinolin,']},\n",
       "  'intro': {'content': [\"I am {{persona-name}}, and I want to thank you for seeking a review of your resume. With your experience in the IT sector, crafting a standout resume can be challenging even for seasoned professionals. A great resume can open doors to exciting new opportunities, and I'm here to help you achieve that.\"]},\n",
       "  'highlights': {'highlights_lead_in': {'content': [\"In reviewing your resume, I have identified several key areas for improvement which are detailed in the full review. I encourage you to read it carefully to maximize your resume's potential.\"]},\n",
       "   'highlights_bullets': {'content': ['Refine your profile summary for maximum impact.',\n",
       "     'Emphasize achievements over daily tasks.',\n",
       "     'Avoid passive language to engage readers.',\n",
       "     'Ensure skills align with targeted job roles.']}}}}"
      ]
     },
     "execution_count": 18,
     "metadata": {},
     "output_type": "execute_result"
    }
   ],
   "source": [
    "critique_json = files[20][\"new_critique\"]\n",
    "critique_json"
   ]
  },
  {
   "cell_type": "code",
   "execution_count": 35,
   "metadata": {},
   "outputs": [],
   "source": [
    "PROMPT_TEMPLATE = (\n",
    "        \"Below is an instruction that describes a task, paired with an input that provides further context. \"\n",
    "        \"Write a response that appropriately completes the request.\\n\\n\"\n",
    "        \"### Instruction:\\n{instruction}\\n\\n### Input:\\n{input}\\n\\n### Response:\\n<s_str>{output}<s_end>\"\n",
    "    )"
   ]
  },
  {
   "cell_type": "code",
   "execution_count": 20,
   "metadata": {},
   "outputs": [],
   "source": [
    "INSTRUCTION = {}\n",
    "INSTRUCTION[\"intro\"] = \\\n",
    "f\"You are a professional resume evaluator. Given the following resume 'Input', please return an introduction feedback / evaluation 'Response' about the full resume.\"\n",
    "\n",
    "INSTRUCTION[\"summary\"] = \\\n",
    "f\"You are a professional resume evaluator. Given the following resume 'Input', please return a feedback / evaluation 'Response' about the resume summary / profile section.\"\n",
    "\n",
    "INSTRUCTION[\"key_words\"] = \\\n",
    "f\"You are a professional resume evaluator. Given the following resume 'Input', please return a feedback / evaluation 'Response' about the Key Words / Skills / Competencies in the resume.\"\n",
    "\n",
    "INSTRUCTION[\"work_history\"] = \\\n",
    "f\"\"\"You are a professional resume evaluator. Given the following resume 'Input', please return a feedback / evaluation 'Response' about the Work History / Experience section.\n",
    "\n",
    "Check the following explanation for each required feedback / evaluation:\n",
    "'Introduction': A introduction about the work history / experience of the work history / experience.\n",
    "'Achiever': A critique about the achievements and tasks / duties quality in the work history / experience.\n",
    "'Achievements': An array with examples of achievements sentences for improving the resume writing.\n",
    "'Passive': A critique about the use of passive language and expressions in the work history / experience.\n",
    "'Passive Language': An array with examples of passive language verbs, expressions or sentences for improving the resume writing.\n",
    "'Screen Out: A conclusion about the work history / experience.\n",
    "\n",
    "Return the required information in 'Response'.\"\"\"\n",
    "\n",
    "INSTRUCTION[\"conclusion\"] = \\\n",
    "f\"\"\"You are a professional resume evaluator. Given the following resume evaluation 'Input', please return a conclusion / summarization 'Response' about the given resume critique.\"\"\""
   ]
  },
  {
   "cell_type": "code",
   "execution_count": 21,
   "metadata": {},
   "outputs": [],
   "source": [
    "INPUT = {}\n",
    "INPUT[\"conclusion\"] = \\\n",
    "\"\"\"Introduction: {intro}\n",
    "Summary: {summary}\n",
    "Key Words: {key_words}\n",
    "Work History: {work_history}\"\"\""
   ]
  },
  {
   "cell_type": "code",
   "execution_count": 22,
   "metadata": {},
   "outputs": [],
   "source": [
    "OUTPUT = {}\n",
    "OUTPUT[\"work_history\"] = \\\n",
    "\"\"\"'Introduction': {intro}\n",
    "'Achiever': {achiever}\n",
    "'Achievements': {achievements}\n",
    "'Passive': {passive}\n",
    "'Passive Language': {passive_lang}\n",
    "'Screen Out: {screen_out}\"\"\""
   ]
  },
  {
   "cell_type": "code",
   "execution_count": 23,
   "metadata": {},
   "outputs": [],
   "source": [
    "map_keys = {\n",
    "\t\"intro\": [\"introduction\"],\n",
    "\t\"ov_impression\": {\n",
    "\t\t\"intro\": [\"overall_impressions\", \"impression_intro\"],\n",
    "\t\t\"visual\": [\"overall_impressions\", \"visual_presentation\"],\n",
    "\t\t\"ai\": [\"overall_impressions\", \"ai_warning\"],\n",
    "\t\t\"conclusion\": [\"overall_impressions\", \"overall_impressions_tldr\"],\n",
    "\t},\n",
    "\t\"writing\": {\n",
    "\t\t\"intro\": [\"resume_writing\", \"writing_intro\"],\n",
    "\t\t\"summary\": [\"resume_writing\", \"value_proposition\", \"summary\"],\n",
    "\t\t\"key_words\": [\"resume_writing\", \"value_proposition\", \"keywords\"],\n",
    "\t\t\"work_history\": {\n",
    "\t\t\t\"intro\": [\"resume_writing\", \"work_history\", \"work_intro\"],\n",
    "\t\t\t\"achiever\": [\"resume_writing\", \"work_history\", \"achiever\"],\n",
    "\t\t\t\"ex_achiever\": [\"resume_writing\", \"work_history\", \"achiever\", \"ex_achiever\"],\n",
    "\t\t\t\"passive\": [\"resume_writing\", \"work_history\", \"passive\"],\n",
    "\t\t\t\"ex_passive\": [\"resume_writing\", \"work_history\", \"passive\", \"ex_passive\"],\n",
    "\t\t\t\"screen_out\": [\"resume_writing\", \"work_history\", \"screen_out\"],\n",
    "\t\t},\n",
    "\t\t\"conclusion\": [\"resume_writing\", \"resume_writing_tldr\"]\n",
    "\t},\n",
    "\t\"conclusion\": {\n",
    "\t\t\"wrap_up\": [\"conclusion\", \"wrap_up\"],\n",
    "\t\t\"next_steps\": [\"conclusion\", \"next_steps\"],\n",
    "\t},\n",
    "\t\"email\": {\n",
    "\t\t\"greeting\": [\"email\", \"greeting\"],\n",
    "\t\t\"intro\": [\"email\", \"intro\"],\n",
    "\t\t\"highlights_phrase\": [\"highlights\", \"highlights_lead_in\"],\n",
    "\t\t\"highlights_bullets\": [\"highlights\", \"highlights_bullets\"],\n",
    "\t}\n",
    "}"
   ]
  },
  {
   "cell_type": "code",
   "execution_count": 24,
   "metadata": {},
   "outputs": [],
   "source": [
    "writing_map = {\n",
    "\t\"intro\": [\"resume_writing\", \"writing_intro\"],\n",
    "\t\"summary\": [\"resume_writing\", \"value_proposition\", \"summary\"],\n",
    "\t\"key_words\": [\"resume_writing\", \"value_proposition\", \"keywords\"],\n",
    "\t\"work_history\": {\n",
    "\t\t\"intro\": [\"resume_writing\", \"work_history\", \"work_intro\"],\n",
    "\t\t\"achiever\": [\"resume_writing\", \"work_history\", \"achiever\"],\n",
    "\t\t\"ex_achiever\": [\"resume_writing\", \"work_history\", \"achiever\", \"ex_achiever\"],\n",
    "\t\t\"passive\": [\"resume_writing\", \"work_history\", \"passive\"],\n",
    "\t\t\"ex_passive\": [\"resume_writing\", \"work_history\", \"passive\", \"ex_passive\"],\n",
    "\t\t\"screen_out\": [\"resume_writing\", \"work_history\", \"screen_out\"],\n",
    "\t},\n",
    "\t\"conclusion\": [\"resume_writing\", \"resume_writing_tldr\"]\n",
    "}"
   ]
  },
  {
   "cell_type": "code",
   "execution_count": 25,
   "metadata": {},
   "outputs": [],
   "source": [
    "writing_keys = {\n",
    "\t\"intro\": None,\n",
    "\t\"summary\": None,\n",
    "\t\"key_words\": None,\n",
    "\t\"work_history\": {\n",
    "\t\t\"intro\": None,\n",
    "\t\t\"achiever\": None,\n",
    "\t\t\"ex_achiever\": None,\n",
    "\t\t\"passive\": None,\n",
    "\t\t\"ex_passive\": None,\n",
    "\t\t\"screen_out\": None,\n",
    "\t},\n",
    "\t\"conclusion\": None\n",
    "}"
   ]
  },
  {
   "cell_type": "code",
   "execution_count": 26,
   "metadata": {},
   "outputs": [],
   "source": [
    "def get_value_from_dict(data_dict, map_list=[]):\n",
    "\tn_map_list = deepcopy(map_list)\n",
    "\tn_map_list += [\"content\"]\n",
    "\tvalue = reduce(op.getitem, n_map_list, data_dict)\n",
    "\tif isinstance(value, list):\n",
    "\t\tif len(value)>1:\n",
    "\t\t\treturn value\n",
    "\t\telse:\n",
    "\t\t\treturn value[0]\n",
    "\telse:\n",
    "\t\treturn value"
   ]
  },
  {
   "cell_type": "code",
   "execution_count": 27,
   "metadata": {},
   "outputs": [],
   "source": [
    "def fill_critique_data(data):\n",
    "\tcritique_data = data[\"new_critique\"]\n",
    "\tdata_writing = deepcopy(writing_keys)\n",
    "\tfor key in writing_keys.keys():\n",
    "\t\tif key != \"work_history\":\n",
    "\t\t\tmap_list = writing_map[key]\n",
    "\t\t\tdata_writing[key] = get_value_from_dict(critique_data, map_list)\n",
    "\t\telse:\n",
    "\t\t\tfor nest_key in writing_keys[key].keys():\n",
    "\t\t\t\tmap_list = writing_map[key][nest_key]\n",
    "\t\t\t\tdata_writing[key][nest_key] = get_value_from_dict(critique_data, map_list)\n",
    "\tdata_writing[\"text\"] = data[\"raw_text\"]\n",
    "\treturn data_writing"
   ]
  },
  {
   "cell_type": "code",
   "execution_count": 28,
   "metadata": {},
   "outputs": [],
   "source": [
    "critique_kw_dataset = []\n",
    "\n",
    "for i, data in files.items():\n",
    "\tcritique_kw_dataset.append(fill_critique_data(data))"
   ]
  },
  {
   "cell_type": "code",
   "execution_count": 29,
   "metadata": {},
   "outputs": [
    {
     "data": {
      "text/plain": [
       "{'intro': \"The content quality of your resume is crucial and there's room for improvement to ensure it effectively represents your skills and experiences. My goal is to guide you through refining your document to maximize its potential appeal to employers.\",\n",
       " 'summary': \"A skill summary is vital in grabbing the hiring manager's attention and setting the stage for your qualifications. If your resume lacks a summary, it's a valuable addition that can succinctly highlight your key strengths and career goals.\",\n",
       " 'key_words': 'Including a section that highlights your key skills and competencies is important. Adding a list of 8 to 12 relevant hard skills can significantly enhance the impact of your resume.',\n",
       " 'work_history': {'intro': \"Presenting your professional history in an engaging and impactful way is essential. If your resume lacks detailed descriptions of your roles, it's important to develop this content to better demonstrate your contributions and achievements.\",\n",
       "  'achiever': 'Without substantive content, job descriptions should emphasize achievements to showcase your value as an achiever rather than just a do-er. For example, you might outline a task and then describe it as an accomplishment with measurable results.',\n",
       "  'ex_achiever': ['Duty: Managed patient records.',\n",
       "   'Achievement: Streamlined patient record management, reducing retrieval time by 30%.'],\n",
       "  'passive': 'Using active, dynamic language in your job descriptions is key to making your resume more engaging. Avoiding passive or repetitive language can significantly enhance its impact.',\n",
       "  'ex_passive': ['Responsible for', 'Involved in', 'Assisted with'],\n",
       "  'screen_out': 'If your resume includes positions older than 15 years or has significant gaps, focusing on the most recent and relevant roles is recommended to maintain a modern focus and avoid potential ageism.'},\n",
       " 'conclusion': 'Elevating your resume with targeted improvements can enhance your chances of standing out, making it a wise investment to consider professional resume writing services.',\n",
       " 'text': 'Lab Order Confirmation\\n\\nYour physician has electronically sent an order for your lab tests to Quest Diagnostics.\\n\\nPlease take this page to a Quest Diagnostics Patient Service Center to have your lab work collected.\\nMaking an appointment before you arrive is strongly encouraged. Appointments will receive priority and\\nwalk-ins may be accommodated during the next available appointment opening, but cannot be guaranteed\\nsame-day service.\\n\\nTo locate a Patient Service Center and\\tMake an Appointment:\\n\\nVisit our website at www.QuestDiagnostics.com/appointment\\tor call\\n1-888-277-8772. To simply locate a Patient Service Center, visit our website at\\nwww.QuestDiagnostics.com/psc\\n\\nPlease remember to:\\nBring your current insurance card.\\nWear sleeves that roll up easily (optional).\\nFind out from your doctor whether you need to fast.\\nYes, I need to fast.\\n\\n\\nOrder Confirmation Information\\nPatient: Reaser, Ashley\\nDOB: 06/24/1983\\nPatient ID: ***-**-1857\\nPhysician/NPI: Hayes, William B MD (1760433098 G17072)\\nClient: Global Hr Research Llc (73917070)\\nDate: 03/25/2024\\nRequisition #: 0006828\\n\\nTest Codes: 36970 QuantiFERON(R)-TB Gold Plus, 1 Tube\\n\\nDiagnosis Codes:\\n\\n\\nSignature Line\\tDate\\n\\n   03/25/2024\\nOrdering provider signature, credentials and date (required by certain payers).'}"
      ]
     },
     "execution_count": 29,
     "metadata": {},
     "output_type": "execute_result"
    }
   ],
   "source": [
    "critique_kw_dataset[30]"
   ]
  },
  {
   "cell_type": "code",
   "execution_count": 36,
   "metadata": {},
   "outputs": [],
   "source": [
    "critique_kw_dataset_f = []\n",
    "for data in critique_kw_dataset:\n",
    "\tn_data = {\n",
    "\t\t\"intro\": data[\"intro\"],\n",
    "\t\t\"summary\": data[\"summary\"],\n",
    "\t\t\"key_words\": data[\"key_words\"],\n",
    "\t\t\"work_history_intro\": data[\"work_history\"][\"intro\"],\n",
    "\t\t\"work_history_achiever\": data[\"work_history\"][\"achiever\"],\n",
    "\t\t\"work_history_ex_achiever\": data[\"work_history\"][\"ex_achiever\"],\n",
    "\t\t\"work_history_passive\": data[\"work_history\"][\"passive\"],\n",
    "\t\t\"work_history_ex_passive\": data[\"work_history\"][\"ex_passive\"],\n",
    "\t\t\"work_history_screen_out\": data[\"work_history\"][\"screen_out\"],\n",
    "\t\t\"conclusion\": data[\"conclusion\"],\n",
    "\t\t\"text\": data[\"text\"]\n",
    "\t}\n",
    "\tcritique_kw_dataset_f.append(n_data)"
   ]
  },
  {
   "cell_type": "code",
   "execution_count": 32,
   "metadata": {},
   "outputs": [
    {
     "data": {
      "text/plain": [
       "{'intro': 'The content of your resume presents a solid foundation, but there is room for improvement to make it truly shine. Enhancing the clarity and focus of your document will better showcase your qualifications and achievements.',\n",
       " 'summary': \"Currently, your resume does not include a career summary, which is a missed opportunity to grab a hiring manager's attention. A well-crafted summary can succinctly highlight your key skills and career goals, providing a compelling introduction to your professional story. Consider adding a summary to focus on the most relevant skills and experiences that align with your career objectives.\",\n",
       " 'key_words': \"Your resume lacks a dedicated skills section, which is crucial for highlighting key competencies. Including a list of 8 to 12 relevant hard skills would enhance the resume's ability to capture attention and pass initial screening processes.\",\n",
       " 'work_history_intro': \"Your work history section contains substantive content, which is commendable. Presenting your professional journey in an engaging and impactful way will further enhance the document's effectiveness.\",\n",
       " 'work_history_achiever': \"While your work history includes some achievements, there is room to emphasize your accomplishments more prominently. Rewriting duties to highlight measurable value can transform your resume from depicting a 'do-er' to portraying an 'achiever.'\",\n",
       " 'work_history_ex_achiever': ['Drafted status reports and analyses for clients to achieve successful results.',\n",
       "  'Achieved client satisfaction through comprehensive status reports, resulting in a 20% increase in client retention.'],\n",
       " 'work_history_passive': 'There is a noticeable use of passive and repetitive language in your resume. Avoiding such language is crucial to make your document dynamic and engaging.',\n",
       " 'work_history_ex_passive': ['managed', 'responsible for', 'assisted with'],\n",
       " 'work_history_screen_out': 'Your resume demonstrates a consistent work history, which is a significant advantage. Continue to focus on recent and relevant roles to maintain a modern and appealing profile.',\n",
       " 'conclusion': 'Refining the content and structure of your resume will significantly enhance its ability to convey your professional value. Consider investing in professional resume writing services to achieve this transformation.',\n",
       " 'text': 'BRECK GALLINI\\n4848 Lemmon Avenue, Suite 303, Dallas, Texas 75219\\n●\\t(214) 986.8532\\t●  breck.gallini@gmail.com\\n\\nEDUCATION\\nPepperdine University Caruso School of Law\\tMalibu, CA\\nJuris Doctor (GPA: 3.419)\\tMay 2023\\nAchievements: Editor, National Real Estate Investment Survey (Publication TBA)\\nCALI Award for Highest Grade in Contract Law\\nCertificate in Real Estate Law, Palmer Center for Entrepreneurship & Law\\n\\nPepperdine University\\tMalibu, CA\\nB.F.A., Theater & Media Production (includes Broadcast studies)\\tApril 2014\\nActivities: Pepperdine Improv Troupe, Various Professional & Student Productions\\n\\nPROFESSIONAL EXPERIENCE\\nFletcher, Farley, Shipman & Salinas, LLP\\tDallas, TX\\nLitigation Associate\\tFebruary 2024 - Present\\nPractice focuses on insurance defense, premises and personal liability, transportation and general\\nliability litigation. Specific experience includes:\\n●\\tDeep involvement at every stage of insurance defense matters for Fortune 500 clients\\n●\\tResearch and preparation of all relevant court documents; drafted materials and\\npresented arguments and positions in state court.\\n●\\tPrepared for and participated in various expert and witness depositions in a leading\\nrole; Led investigations and managed complete case life cycles.\\n●\\tPrevailed in multiple arguments in court\\n●\\tDrafted status reports and analyses for clients to achieve successful results\\n●\\tDrafted discovery requests as well as objections and responses\\nVarious TX Real Estate Brokerages\\tDallas, TX\\nAgent, Broker Associate\\tSep 2015 - Jan 2024\\n●\\tBrokerages incl. Douglas Elliman, Allie Beth Allman, and Dave Perry-Miller over a\\nnine-year period\\n●\\tNegotiated $50MM+ in sales of commercial and residential property in Dallas\\n●\\tStrategized & implemented marketing solutions\\n●\\tHave\\tto maintain active licensure\\n\\nCapital Title of Texas, LLC\\tDallas, TX\\n2L Title & Escrow Assistant\\tMay 2022 - August 2022\\n●\\tProcessed title & escrow for real estate transactions\\n●\\tCured items for title commitment & policy issuance\\n\\nFederal Trade Commission\\tDallas, TX\\n1L Legal Extern for the Bureau of Consumer Protection\\t June 2021 - August 2021\\n●\\tGained security clearance for access to investigations by an independent federal agency\\n●\\tReviewed pleadings for compliance with national and local rules of federal courts\\n●\\tConducted investigative research on legal issues involving deceptive trade practices &\\nfraudulent business schemes\\n\\nRicochet Construction, LLC\\tDallas, TX\\nProject Manager / Accounts Manager\\t\\tAug 2016 - Aug 2020\\n●\\tDirectly reported to owner/operator in providing general contractor services, such as full\\nremodels, for commercial & multifamily properties throughout North Texas\\n●\\tManaged projects including coordination of subcontractors, vendors, and materials\\n●\\tDealt with code enforcement, inspectors, and city permitting departments\\n\\n\\nLICENSURE & AFFILIATIONS\\n\\nBar Admission: Texas State Bar #24139328 (January 25th, 2024)\\nU.S. District Court, Northern District of Texas\\nU.S. District Court, Eastern District of Texas\\nDallas Bar Association\\nDallas Association of Young Lawyers\\n\\nTexas Real Estate Commission: Texas Real Estate Broker #0663348 (July 31, 2021)\\n\\nOther Interests: golf, tennis, Dallas sports teams'}"
      ]
     },
     "execution_count": 32,
     "metadata": {},
     "output_type": "execute_result"
    }
   ],
   "source": [
    "critique_kw_dataset_f[10]"
   ]
  },
  {
   "cell_type": "code",
   "execution_count": 33,
   "metadata": {},
   "outputs": [],
   "source": [
    "critique_kw_df = pd.DataFrame.from_records(critique_kw_dataset_f)"
   ]
  },
  {
   "cell_type": "code",
   "execution_count": 34,
   "metadata": {},
   "outputs": [
    {
     "data": {
      "text/html": [
       "<div>\n",
       "<style scoped>\n",
       "    .dataframe tbody tr th:only-of-type {\n",
       "        vertical-align: middle;\n",
       "    }\n",
       "\n",
       "    .dataframe tbody tr th {\n",
       "        vertical-align: top;\n",
       "    }\n",
       "\n",
       "    .dataframe thead th {\n",
       "        text-align: right;\n",
       "    }\n",
       "</style>\n",
       "<table border=\"1\" class=\"dataframe\">\n",
       "  <thead>\n",
       "    <tr style=\"text-align: right;\">\n",
       "      <th></th>\n",
       "      <th>intro</th>\n",
       "      <th>summary</th>\n",
       "      <th>key_words</th>\n",
       "      <th>work_history_intro</th>\n",
       "      <th>work_history_achiever</th>\n",
       "      <th>work_history_ex_achiever</th>\n",
       "      <th>work_history_passive</th>\n",
       "      <th>work_history_ex_passive</th>\n",
       "      <th>work_history_screen_out</th>\n",
       "      <th>conclusion</th>\n",
       "      <th>text</th>\n",
       "    </tr>\n",
       "  </thead>\n",
       "  <tbody>\n",
       "    <tr>\n",
       "      <th>0</th>\n",
       "      <td>The content of your resume provides a foundation, but there is room for improvement to make it t...</td>\n",
       "      <td>Your resume currently lacks a career summary, which is a missed opportunity to grab a hiring man...</td>\n",
       "      <td>Your resume includes a skills section, which is a solid start. However, ongoing refinement is ad...</td>\n",
       "      <td>Your work history section includes substantive content, which is crucial for an engaging and imp...</td>\n",
       "      <td>While you have included some details of your roles, there is room to emphasize your achievements...</td>\n",
       "      <td>[Task-based: Lead 4 people in swings department to build swing doors., Achievement-based: Succes...</td>\n",
       "      <td>The language in your work history tends to be task-focused, which can appear passive. To improve...</td>\n",
       "      <td>[\"Operate\", \"Lead\", \"Know how to\"]</td>\n",
       "      <td>Your work history is consistent, but including dates from older positions could potentially expo...</td>\n",
       "      <td>To truly make your resume stand out, focus on enhancing the content with a clear value propositi...</td>\n",
       "      <td>Andrew Clark\\n\\nFort Wayne, IN 46835\\njunokungfu.ac@gmail.com\\n+1 260 433 5706\\n\\n\\nWork Experie...</td>\n",
       "    </tr>\n",
       "    <tr>\n",
       "      <th>1</th>\n",
       "      <td>The content of your resume shows promise but requires refinement to clearly communicate your val...</td>\n",
       "      <td>A well-crafted career summary can instantly grab the attention of hiring managers, yet your resu...</td>\n",
       "      <td>Your resume features a skills section that effectively lists relevant hard skills, which is comm...</td>\n",
       "      <td>Your work history is well-documented with substantive content, which is crucial for presenting y...</td>\n",
       "      <td>While your work history contains substantive content, there's room to emphasize more accomplishm...</td>\n",
       "      <td>[Duty: Analyzed monthly revenue data using SQL., Achievement: Analyzed monthly revenue data usin...</td>\n",
       "      <td>Your resume does an admirable job of highlighting your experiences, but there are instances of p...</td>\n",
       "      <td>[Optimized, Boosted, Enhanced]</td>\n",
       "      <td>Your work history reflects a consistent career trajectory without significant gaps or outdated p...</td>\n",
       "      <td>To maximize the impact of your resume, consider refining your narrative to focus on achievements...</td>\n",
       "      <td>POORNASAI BHASKAR\\n\\n+1 (267) 881 6466 pb677@drexel.edu LinkedIN Open to Relocate\\n\\n\\nSKILLS\\n\\...</td>\n",
       "    </tr>\n",
       "    <tr>\n",
       "      <th>2</th>\n",
       "      <td>The content of your resume provides a strong foundation, but there is room for improvement to en...</td>\n",
       "      <td>Your resume includes a well-crafted career summary that succinctly outlines your expertise acros...</td>\n",
       "      <td>Your skills section includes a variety of competencies, yet refining these to focus on relevant ...</td>\n",
       "      <td>Your work history contains substantive content detailing your responsibilities and accomplishmen...</td>\n",
       "      <td>While your work history includes detailed responsibilities, there's a need to shift focus toward...</td>\n",
       "      <td>[Leading and supervising the litigation department, Successfully led the litigation department, ...</td>\n",
       "      <td>The language in your work history could benefit from a more dynamic and active tone. Avoiding re...</td>\n",
       "      <td>[Responsible for, Assisted with, In charge of]</td>\n",
       "      <td>Your resume reflects a consistent work history without significant gaps, which is commendable. M...</td>\n",
       "      <td>Refining your content to highlight achievements and using dynamic language can significantly enh...</td>\n",
       "      <td>Emmanuel Otieno Ouma\\n\\nNAIROBI, KENYA • emmaotienoouma2014@gmail.com • +254797558502\\n\\n\\nPROFI...</td>\n",
       "    </tr>\n",
       "    <tr>\n",
       "      <th>3</th>\n",
       "      <td>Upon reviewing your resume, it is clear that while it includes valuable content, there is room f...</td>\n",
       "      <td>Your resume includes a summary, which is crucial for capturing a hiring manager's attention. How...</td>\n",
       "      <td>Your resume lacks a dedicated skills section, which is essential for highlighting your key compe...</td>\n",
       "      <td>Your work history section includes substantive content, which is essential for presenting your p...</td>\n",
       "      <td>The work history includes descriptions of tasks, but lacks sufficient achievement-driven languag...</td>\n",
       "      <td>[Managed a construction team of 12 team members., Led a construction team that achieved a 40% in...</td>\n",
       "      <td>The document contains some repetitive and passive language, which can dilute the impact of your ...</td>\n",
       "      <td>[Managed budgets, Scheduled meetings]</td>\n",
       "      <td>Your resume includes positions older than 15 years, which could inadvertently age your profile. ...</td>\n",
       "      <td>To truly showcase your skills and experience, your resume needs refinement in its presentation a...</td>\n",
       "      <td>Javier Sandoval\\n8610 Redstone Hills Cypress Tx 77433\\n832-334-2869 jsand32069@sbcglobal.net\\n\\n...</td>\n",
       "    </tr>\n",
       "    <tr>\n",
       "      <th>4</th>\n",
       "      <td>Upon reviewing your resume, it is evident that there is room for improvement to better align wit...</td>\n",
       "      <td>Your current resume lacks a career summary, which is a crucial element in grabbing the attention...</td>\n",
       "      <td>The resume does not contain a dedicated section highlighting your skills, which is essential in ...</td>\n",
       "      <td>The work history section of your resume includes substantive content, which is a positive aspect...</td>\n",
       "      <td>While your work history provides a good overview of your tasks, there is a need to shift towards...</td>\n",
       "      <td>Prepared patients before drawing blood → Successfully prepared and drew blood from over 100 pati...</td>\n",
       "      <td>The document contains areas where the language could be more dynamic and engaging. Avoiding repe...</td>\n",
       "      <td>[Welcome guest, Teach guest how to use equipment, Explain programs and activities]</td>\n",
       "      <td>While your work history is generally consistent, there are a few areas that could be streamlined...</td>\n",
       "      <td>Refining your resume to include a compelling summary and skills section, while enhancing the lan...</td>\n",
       "      <td>Leah Love\\n\\nPhlebotomist, Child Care Professional, Group Fitness\\nHouston, TX 77075\\natoughlove...</td>\n",
       "    </tr>\n",
       "    <tr>\n",
       "      <th>...</th>\n",
       "      <td>...</td>\n",
       "      <td>...</td>\n",
       "      <td>...</td>\n",
       "      <td>...</td>\n",
       "      <td>...</td>\n",
       "      <td>...</td>\n",
       "      <td>...</td>\n",
       "      <td>...</td>\n",
       "      <td>...</td>\n",
       "      <td>...</td>\n",
       "      <td>...</td>\n",
       "    </tr>\n",
       "    <tr>\n",
       "      <th>1863</th>\n",
       "      <td>While your resume contains valuable content, there’s room for improvement to ensure it effective...</td>\n",
       "      <td>Your resume lacks a career summary, which is a crucial element in capturing the attention of hir...</td>\n",
       "      <td>Your resume does include a skills section, which is commendable. However, ongoing refinement is ...</td>\n",
       "      <td>Your work history section provides substantive content that describes your duties and accomplish...</td>\n",
       "      <td>There is a good balance between tasks and accomplishments in your work history, yet emphasizing ...</td>\n",
       "      <td>[Task-based: 'Supporting recruitment campaigns for staff to meet organisational requirements.', ...</td>\n",
       "      <td>The language in your resume could benefit from more dynamic and engaging terms. Avoid repetitive...</td>\n",
       "      <td>['Provided first line advice and support', 'Supported recruitment drives', 'Ensured all legislat...</td>\n",
       "      <td>Your resume includes positions older than 15 years. Focusing on the most recent and relevant rol...</td>\n",
       "      <td>Enhancing the clarity and focus of your resume will significantly boost its effectiveness. Consi...</td>\n",
       "      <td>Curriculum Vitae\\nJACQUELENE ROSE\\nTel: 07443 595 165 * E-mail: jacquelinehrose@gmail.com\\n\\n\\nP...</td>\n",
       "    </tr>\n",
       "    <tr>\n",
       "      <th>1864</th>\n",
       "      <td>The content quality of your resume shows potential but would benefit from refinement. While it i...</td>\n",
       "      <td>Your resume lacks a dedicated career summary, which is crucial for grabbing a hiring manager's a...</td>\n",
       "      <td>While your resume does include a skills section, it's important to ensure these skills align wit...</td>\n",
       "      <td>Your work history section contains some substantive content, which is a great start. However, it...</td>\n",
       "      <td>While your work history lists tasks and responsibilities, it lacks sufficient accomplishment-dri...</td>\n",
       "      <td>[Leadership: Successfully managed a team of 50+, Achieved a 20% increase in team productivity th...</td>\n",
       "      <td>Your resume includes some passive and repetitive language. Avoiding such language is crucial to ...</td>\n",
       "      <td>[Successfully managed, Ability to motivate, Excellent verbal and written communication]</td>\n",
       "      <td>Your resume reflects a consistent work history, which is commendable. However, consider focusing...</td>\n",
       "      <td>To elevate your resume, focus on crafting a compelling summary and refining your skills section....</td>\n",
       "      <td>Robert K. Bryant\\n310 435 6783 | rkbryant1@gmail.com | West Hollywood, CA, 90046\\nhttps://www.li...</td>\n",
       "    </tr>\n",
       "    <tr>\n",
       "      <th>1865</th>\n",
       "      <td>While your resume contains valuable information, there's room for improvement to make it more co...</td>\n",
       "      <td>Your resume currently features an objective, which is outdated in modern resume writing. Instead...</td>\n",
       "      <td>The skills section of your resume lists relevant technical abilities, which is a great foundatio...</td>\n",
       "      <td>Your work history section is detailed, providing a comprehensive view of your experiences. Prese...</td>\n",
       "      <td>While your work history contains numerous tasks, emphasizing measurable achievements is crucial....</td>\n",
       "      <td>[Provide technical support for Windows, Office, Adobe, and other variety of business application...</td>\n",
       "      <td>Your resume includes some passive and repetitive language that could be more dynamic. Avoiding s...</td>\n",
       "      <td>[Provides desktop services, Monitors system capacity, Writes end-user training]</td>\n",
       "      <td>Your work history is consistent, with no significant gaps or outdated roles, which is commendabl...</td>\n",
       "      <td>Your resume requires a strategic overhaul to effectively communicate your value. Consider profes...</td>\n",
       "      <td>Reginald Troop\\t8624 N. 56th\\t street\\n(414) 627-8899\\tBrown Deer, Wisconsin 53223\\nrtroop3@gmai...</td>\n",
       "    </tr>\n",
       "    <tr>\n",
       "      <th>1866</th>\n",
       "      <td>While your resume showcases a wealth of experience and skills, there is room for improvement to ...</td>\n",
       "      <td>Your resume includes a concise career summary that effectively highlights your skills and expert...</td>\n",
       "      <td>Your skills section is comprehensive, incorporating relevant competencies that align with your c...</td>\n",
       "      <td>Your work history section provides substantive content, detailing your professional duties and a...</td>\n",
       "      <td>Your resume does a commendable job balancing tasks and accomplishments, yet there's an opportuni...</td>\n",
       "      <td>[Managed Distributor P&amp;L and asset management., Optimized distributor profitability by implement...</td>\n",
       "      <td>While your resume contains detailed descriptions, some language could be more dynamic. Avoiding ...</td>\n",
       "      <td>[Ensured compliance, Monitored sales performance]</td>\n",
       "      <td>Your resume showcases a consistent work history, which is commendable. Maintaining a modern focu...</td>\n",
       "      <td>Investing in professional resume writing services can transform your document into a powerful to...</td>\n",
       "      <td>David Bababode Taiwo\\nEmail: davidtaiwo19@yahoo.com | Phone: +1 510-830-7872 | Location: San Jos...</td>\n",
       "    </tr>\n",
       "    <tr>\n",
       "      <th>1867</th>\n",
       "      <td>Upon reviewing your resume, it’s clear that while you have a wealth of experience, the document ...</td>\n",
       "      <td>Your resume includes a summary, which is a strategic addition. However, expanding this section t...</td>\n",
       "      <td>The skills section is present, but it could benefit from a more targeted approach. Ensuring the ...</td>\n",
       "      <td>Your work history section provides substantive content, but presenting it in a more engaging and...</td>\n",
       "      <td>While your work history includes substantial content, there is a need to ensure a balance betwee...</td>\n",
       "      <td>[Led the network swap out project from Alcatel to Ericsson., Implemented the first Ericsson MSC ...</td>\n",
       "      <td>The language in your work history tends to be passive and could benefit from more dynamic and en...</td>\n",
       "      <td>[Led, Managed, Successfully]</td>\n",
       "      <td>Your resume reflects a consistent work history without significant gaps or outdated positions, w...</td>\n",
       "      <td>Enhancing the clarity, focus, and dynamism of your resume will significantly improve its effecti...</td>\n",
       "      <td>Seny GANEMTORE, MIT EMBA\\n\\n+16173012762 | ganseny@gmail.com | Waltham, MA 02453, USA\\n\\n\\nSUMMA...</td>\n",
       "    </tr>\n",
       "  </tbody>\n",
       "</table>\n",
       "<p>1868 rows × 11 columns</p>\n",
       "</div>"
      ],
      "text/plain": [
       "                                                                                                    intro  \\\n",
       "0     The content of your resume provides a foundation, but there is room for improvement to make it t...   \n",
       "1     The content of your resume shows promise but requires refinement to clearly communicate your val...   \n",
       "2     The content of your resume provides a strong foundation, but there is room for improvement to en...   \n",
       "3     Upon reviewing your resume, it is clear that while it includes valuable content, there is room f...   \n",
       "4     Upon reviewing your resume, it is evident that there is room for improvement to better align wit...   \n",
       "...                                                                                                   ...   \n",
       "1863  While your resume contains valuable content, there’s room for improvement to ensure it effective...   \n",
       "1864  The content quality of your resume shows potential but would benefit from refinement. While it i...   \n",
       "1865  While your resume contains valuable information, there's room for improvement to make it more co...   \n",
       "1866  While your resume showcases a wealth of experience and skills, there is room for improvement to ...   \n",
       "1867  Upon reviewing your resume, it’s clear that while you have a wealth of experience, the document ...   \n",
       "\n",
       "                                                                                                  summary  \\\n",
       "0     Your resume currently lacks a career summary, which is a missed opportunity to grab a hiring man...   \n",
       "1     A well-crafted career summary can instantly grab the attention of hiring managers, yet your resu...   \n",
       "2     Your resume includes a well-crafted career summary that succinctly outlines your expertise acros...   \n",
       "3     Your resume includes a summary, which is crucial for capturing a hiring manager's attention. How...   \n",
       "4     Your current resume lacks a career summary, which is a crucial element in grabbing the attention...   \n",
       "...                                                                                                   ...   \n",
       "1863  Your resume lacks a career summary, which is a crucial element in capturing the attention of hir...   \n",
       "1864  Your resume lacks a dedicated career summary, which is crucial for grabbing a hiring manager's a...   \n",
       "1865  Your resume currently features an objective, which is outdated in modern resume writing. Instead...   \n",
       "1866  Your resume includes a concise career summary that effectively highlights your skills and expert...   \n",
       "1867  Your resume includes a summary, which is a strategic addition. However, expanding this section t...   \n",
       "\n",
       "                                                                                                key_words  \\\n",
       "0     Your resume includes a skills section, which is a solid start. However, ongoing refinement is ad...   \n",
       "1     Your resume features a skills section that effectively lists relevant hard skills, which is comm...   \n",
       "2     Your skills section includes a variety of competencies, yet refining these to focus on relevant ...   \n",
       "3     Your resume lacks a dedicated skills section, which is essential for highlighting your key compe...   \n",
       "4     The resume does not contain a dedicated section highlighting your skills, which is essential in ...   \n",
       "...                                                                                                   ...   \n",
       "1863  Your resume does include a skills section, which is commendable. However, ongoing refinement is ...   \n",
       "1864  While your resume does include a skills section, it's important to ensure these skills align wit...   \n",
       "1865  The skills section of your resume lists relevant technical abilities, which is a great foundatio...   \n",
       "1866  Your skills section is comprehensive, incorporating relevant competencies that align with your c...   \n",
       "1867  The skills section is present, but it could benefit from a more targeted approach. Ensuring the ...   \n",
       "\n",
       "                                                                                       work_history_intro  \\\n",
       "0     Your work history section includes substantive content, which is crucial for an engaging and imp...   \n",
       "1     Your work history is well-documented with substantive content, which is crucial for presenting y...   \n",
       "2     Your work history contains substantive content detailing your responsibilities and accomplishmen...   \n",
       "3     Your work history section includes substantive content, which is essential for presenting your p...   \n",
       "4     The work history section of your resume includes substantive content, which is a positive aspect...   \n",
       "...                                                                                                   ...   \n",
       "1863  Your work history section provides substantive content that describes your duties and accomplish...   \n",
       "1864  Your work history section contains some substantive content, which is a great start. However, it...   \n",
       "1865  Your work history section is detailed, providing a comprehensive view of your experiences. Prese...   \n",
       "1866  Your work history section provides substantive content, detailing your professional duties and a...   \n",
       "1867  Your work history section provides substantive content, but presenting it in a more engaging and...   \n",
       "\n",
       "                                                                                    work_history_achiever  \\\n",
       "0     While you have included some details of your roles, there is room to emphasize your achievements...   \n",
       "1     While your work history contains substantive content, there's room to emphasize more accomplishm...   \n",
       "2     While your work history includes detailed responsibilities, there's a need to shift focus toward...   \n",
       "3     The work history includes descriptions of tasks, but lacks sufficient achievement-driven languag...   \n",
       "4     While your work history provides a good overview of your tasks, there is a need to shift towards...   \n",
       "...                                                                                                   ...   \n",
       "1863  There is a good balance between tasks and accomplishments in your work history, yet emphasizing ...   \n",
       "1864  While your work history lists tasks and responsibilities, it lacks sufficient accomplishment-dri...   \n",
       "1865  While your work history contains numerous tasks, emphasizing measurable achievements is crucial....   \n",
       "1866  Your resume does a commendable job balancing tasks and accomplishments, yet there's an opportuni...   \n",
       "1867  While your work history includes substantial content, there is a need to ensure a balance betwee...   \n",
       "\n",
       "                                                                                 work_history_ex_achiever  \\\n",
       "0     [Task-based: Lead 4 people in swings department to build swing doors., Achievement-based: Succes...   \n",
       "1     [Duty: Analyzed monthly revenue data using SQL., Achievement: Analyzed monthly revenue data usin...   \n",
       "2     [Leading and supervising the litigation department, Successfully led the litigation department, ...   \n",
       "3     [Managed a construction team of 12 team members., Led a construction team that achieved a 40% in...   \n",
       "4     Prepared patients before drawing blood → Successfully prepared and drew blood from over 100 pati...   \n",
       "...                                                                                                   ...   \n",
       "1863  [Task-based: 'Supporting recruitment campaigns for staff to meet organisational requirements.', ...   \n",
       "1864  [Leadership: Successfully managed a team of 50+, Achieved a 20% increase in team productivity th...   \n",
       "1865  [Provide technical support for Windows, Office, Adobe, and other variety of business application...   \n",
       "1866  [Managed Distributor P&L and asset management., Optimized distributor profitability by implement...   \n",
       "1867  [Led the network swap out project from Alcatel to Ericsson., Implemented the first Ericsson MSC ...   \n",
       "\n",
       "                                                                                     work_history_passive  \\\n",
       "0     The language in your work history tends to be task-focused, which can appear passive. To improve...   \n",
       "1     Your resume does an admirable job of highlighting your experiences, but there are instances of p...   \n",
       "2     The language in your work history could benefit from a more dynamic and active tone. Avoiding re...   \n",
       "3     The document contains some repetitive and passive language, which can dilute the impact of your ...   \n",
       "4     The document contains areas where the language could be more dynamic and engaging. Avoiding repe...   \n",
       "...                                                                                                   ...   \n",
       "1863  The language in your resume could benefit from more dynamic and engaging terms. Avoid repetitive...   \n",
       "1864  Your resume includes some passive and repetitive language. Avoiding such language is crucial to ...   \n",
       "1865  Your resume includes some passive and repetitive language that could be more dynamic. Avoiding s...   \n",
       "1866  While your resume contains detailed descriptions, some language could be more dynamic. Avoiding ...   \n",
       "1867  The language in your work history tends to be passive and could benefit from more dynamic and en...   \n",
       "\n",
       "                                                                                  work_history_ex_passive  \\\n",
       "0                                                                      [\"Operate\", \"Lead\", \"Know how to\"]   \n",
       "1                                                                          [Optimized, Boosted, Enhanced]   \n",
       "2                                                          [Responsible for, Assisted with, In charge of]   \n",
       "3                                                                   [Managed budgets, Scheduled meetings]   \n",
       "4                      [Welcome guest, Teach guest how to use equipment, Explain programs and activities]   \n",
       "...                                                                                                   ...   \n",
       "1863  ['Provided first line advice and support', 'Supported recruitment drives', 'Ensured all legislat...   \n",
       "1864              [Successfully managed, Ability to motivate, Excellent verbal and written communication]   \n",
       "1865                      [Provides desktop services, Monitors system capacity, Writes end-user training]   \n",
       "1866                                                    [Ensured compliance, Monitored sales performance]   \n",
       "1867                                                                         [Led, Managed, Successfully]   \n",
       "\n",
       "                                                                                  work_history_screen_out  \\\n",
       "0     Your work history is consistent, but including dates from older positions could potentially expo...   \n",
       "1     Your work history reflects a consistent career trajectory without significant gaps or outdated p...   \n",
       "2     Your resume reflects a consistent work history without significant gaps, which is commendable. M...   \n",
       "3     Your resume includes positions older than 15 years, which could inadvertently age your profile. ...   \n",
       "4     While your work history is generally consistent, there are a few areas that could be streamlined...   \n",
       "...                                                                                                   ...   \n",
       "1863  Your resume includes positions older than 15 years. Focusing on the most recent and relevant rol...   \n",
       "1864  Your resume reflects a consistent work history, which is commendable. However, consider focusing...   \n",
       "1865  Your work history is consistent, with no significant gaps or outdated roles, which is commendabl...   \n",
       "1866  Your resume showcases a consistent work history, which is commendable. Maintaining a modern focu...   \n",
       "1867  Your resume reflects a consistent work history without significant gaps or outdated positions, w...   \n",
       "\n",
       "                                                                                               conclusion  \\\n",
       "0     To truly make your resume stand out, focus on enhancing the content with a clear value propositi...   \n",
       "1     To maximize the impact of your resume, consider refining your narrative to focus on achievements...   \n",
       "2     Refining your content to highlight achievements and using dynamic language can significantly enh...   \n",
       "3     To truly showcase your skills and experience, your resume needs refinement in its presentation a...   \n",
       "4     Refining your resume to include a compelling summary and skills section, while enhancing the lan...   \n",
       "...                                                                                                   ...   \n",
       "1863  Enhancing the clarity and focus of your resume will significantly boost its effectiveness. Consi...   \n",
       "1864  To elevate your resume, focus on crafting a compelling summary and refining your skills section....   \n",
       "1865  Your resume requires a strategic overhaul to effectively communicate your value. Consider profes...   \n",
       "1866  Investing in professional resume writing services can transform your document into a powerful to...   \n",
       "1867  Enhancing the clarity, focus, and dynamism of your resume will significantly improve its effecti...   \n",
       "\n",
       "                                                                                                     text  \n",
       "0     Andrew Clark\\n\\nFort Wayne, IN 46835\\njunokungfu.ac@gmail.com\\n+1 260 433 5706\\n\\n\\nWork Experie...  \n",
       "1     POORNASAI BHASKAR\\n\\n+1 (267) 881 6466 pb677@drexel.edu LinkedIN Open to Relocate\\n\\n\\nSKILLS\\n\\...  \n",
       "2     Emmanuel Otieno Ouma\\n\\nNAIROBI, KENYA • emmaotienoouma2014@gmail.com • +254797558502\\n\\n\\nPROFI...  \n",
       "3     Javier Sandoval\\n8610 Redstone Hills Cypress Tx 77433\\n832-334-2869 jsand32069@sbcglobal.net\\n\\n...  \n",
       "4     Leah Love\\n\\nPhlebotomist, Child Care Professional, Group Fitness\\nHouston, TX 77075\\natoughlove...  \n",
       "...                                                                                                   ...  \n",
       "1863  Curriculum Vitae\\nJACQUELENE ROSE\\nTel: 07443 595 165 * E-mail: jacquelinehrose@gmail.com\\n\\n\\nP...  \n",
       "1864  Robert K. Bryant\\n310 435 6783 | rkbryant1@gmail.com | West Hollywood, CA, 90046\\nhttps://www.li...  \n",
       "1865  Reginald Troop\\t8624 N. 56th\\t street\\n(414) 627-8899\\tBrown Deer, Wisconsin 53223\\nrtroop3@gmai...  \n",
       "1866  David Bababode Taiwo\\nEmail: davidtaiwo19@yahoo.com | Phone: +1 510-830-7872 | Location: San Jos...  \n",
       "1867  Seny GANEMTORE, MIT EMBA\\n\\n+16173012762 | ganseny@gmail.com | Waltham, MA 02453, USA\\n\\n\\nSUMMA...  \n",
       "\n",
       "[1868 rows x 11 columns]"
      ]
     },
     "execution_count": 34,
     "metadata": {},
     "output_type": "execute_result"
    }
   ],
   "source": [
    "critique_kw_df"
   ]
  },
  {
   "cell_type": "code",
   "execution_count": 37,
   "metadata": {},
   "outputs": [],
   "source": [
    "def c_prompt_key_words(row):\n",
    "    kw = row[\"key_words\"]\n",
    "    instruction = INSTRUCTION[\"key_words\"]\n",
    "    input = row[\"text\"]\n",
    "    output = kw\n",
    "    if isinstance(kw, str):\n",
    "        prompt = PROMPT_TEMPLATE.format(\n",
    "            instruction=instruction,\n",
    "            input=input,\n",
    "            output=output\n",
    "        )\n",
    "        return {\n",
    "            \"instruction\": instruction,\n",
    "            \"input\": input,\n",
    "            \"output\": output,\n",
    "            \"text\": prompt\n",
    "        }\n",
    "    else:\n",
    "        print(row[\"key_words\"])\n",
    "        return None\n",
    "critique_kw_df[\"prompt_key_words\"] = critique_kw_df.apply(c_prompt_key_words, axis=1)"
   ]
  },
  {
   "cell_type": "code",
   "execution_count": 38,
   "metadata": {},
   "outputs": [
    {
     "name": "stdout",
     "output_type": "stream",
     "text": [
      "Below is an instruction that describes a task, paired with an input that provides further context. Write a response that appropriately completes the request.\n",
      "\n",
      "### Instruction:\n",
      "You are a professional resume evaluator. Given the following resume 'Input', please return a feedback / evaluation 'Response' about the Key Words / Skills / Competencies in the resume.\n",
      "\n",
      "### Input:\n",
      "Basil McCoy\n",
      "BM\n",
      "Wilmington, DE 19801\t 267-296-5693\tmb.17@aol.com\n",
      "\n",
      "\n",
      "PROFESSIONAL\tProactive Picker & Packer with extensive experience in maintaining clean and safe\n",
      "SUMMARY\tworkspaces, reducing order fulfillment errors, and enhancing packing efficiency. Key skills\n",
      "include pallet jack operation, warehouse safety, and order accuracy. Strong attention to\n",
      "detail and commitment to organized and efficient order processing.\n",
      "\n",
      "\n",
      "SKILLS\t* Pallet Jack Operation\t* Order Accuracy\n",
      "\n",
      "* Warehouse Safety\t\t * Packing Efficiency\n",
      "\n",
      "\n",
      "WORK HISTORY\tPICKER & PACKER\t\t\t03/2021 to 08/2024\n",
      "\n",
      "Amazon Warehouse | Wilmington, DE\n",
      "*Sustained a clean and safe working environment by adhering to safety protocols\n",
      "and maintaining an organized workspace.\n",
      "*Reduced order fulfillment errors by diligently following established protocols for\n",
      "picking, packing, and shipping procedures.\n",
      "*Enhanced order accuracy by meticulously picking items according to packing lists\n",
      "and verifying product information.\n",
      "*Reduced packing time for orders by efficiently organizing and assembling packages\n",
      "in line with company standards.\n",
      "\n",
      "JUNK REMOVAL\t01/2020 to 03/2021\n",
      "\n",
      "1-800-got-junk | Wilmington, DE\n",
      "\n",
      "Removed and hauled junk from residential and commercial areas\n",
      "\n",
      "JANITORIAL WORKER\t04/2014 to 11/2019\n",
      "\n",
      "Philadelphia Cleaning Service | Wilmington, DE\n",
      "* Swept hard surface floors using broom or push broom dust mop.\n",
      "*Improved overall facility appearance through consistent attention to detail and\n",
      "adherence to cleaning schedules.\n",
      "*Maintained clean and comfortable environments in commercial buildings by\n",
      "vacuuming, cleaning windows, and dusting.\n",
      "*Removed spots from glass doors, mirrors and windows by spraying cleaner and\n",
      "wiping.\n",
      "\n",
      "\n",
      "EDUCATION\tGED William Penn High School, Wilmington, DE\t06/1971\n",
      "\n",
      "### Response:\n",
      "<s_str>It's positive to see a skills section included in your resume. However, expanding and refining this list to incorporate more relevant hard skills related to your target role will enhance your appeal to employers. Aim for a comprehensive list of 8 to 12 key competencies that align with job requirements.<s_end>\n"
     ]
    }
   ],
   "source": [
    "print(critique_kw_df.iloc[50].prompt_key_words[\"text\"])"
   ]
  },
  {
   "cell_type": "code",
   "execution_count": 39,
   "metadata": {},
   "outputs": [],
   "source": [
    "df_model_3_kw = critique_kw_df[\"prompt_key_words\"]"
   ]
  },
  {
   "cell_type": "code",
   "execution_count": 40,
   "metadata": {},
   "outputs": [
    {
     "data": {
      "text/html": [
       "<div>\n",
       "<style scoped>\n",
       "    .dataframe tbody tr th:only-of-type {\n",
       "        vertical-align: middle;\n",
       "    }\n",
       "\n",
       "    .dataframe tbody tr th {\n",
       "        vertical-align: top;\n",
       "    }\n",
       "\n",
       "    .dataframe thead th {\n",
       "        text-align: right;\n",
       "    }\n",
       "</style>\n",
       "<table border=\"1\" class=\"dataframe\">\n",
       "  <thead>\n",
       "    <tr style=\"text-align: right;\">\n",
       "      <th></th>\n",
       "      <th>instruction</th>\n",
       "      <th>input</th>\n",
       "      <th>output</th>\n",
       "      <th>text</th>\n",
       "    </tr>\n",
       "  </thead>\n",
       "  <tbody>\n",
       "    <tr>\n",
       "      <th>0</th>\n",
       "      <td>You are a professional resume evaluator. Given the following resume 'Input', please return a fee...</td>\n",
       "      <td>Andrew Clark\\n\\nFort Wayne, IN 46835\\njunokungfu.ac@gmail.com\\n+1 260 433 5706\\n\\n\\nWork Experie...</td>\n",
       "      <td>Your resume includes a skills section, which is a solid start. However, ongoing refinement is ad...</td>\n",
       "      <td>Below is an instruction that describes a task, paired with an input that provides further contex...</td>\n",
       "    </tr>\n",
       "    <tr>\n",
       "      <th>1</th>\n",
       "      <td>You are a professional resume evaluator. Given the following resume 'Input', please return a fee...</td>\n",
       "      <td>POORNASAI BHASKAR\\n\\n+1 (267) 881 6466 pb677@drexel.edu LinkedIN Open to Relocate\\n\\n\\nSKILLS\\n\\...</td>\n",
       "      <td>Your resume features a skills section that effectively lists relevant hard skills, which is comm...</td>\n",
       "      <td>Below is an instruction that describes a task, paired with an input that provides further contex...</td>\n",
       "    </tr>\n",
       "    <tr>\n",
       "      <th>2</th>\n",
       "      <td>You are a professional resume evaluator. Given the following resume 'Input', please return a fee...</td>\n",
       "      <td>Emmanuel Otieno Ouma\\n\\nNAIROBI, KENYA • emmaotienoouma2014@gmail.com • +254797558502\\n\\n\\nPROFI...</td>\n",
       "      <td>Your skills section includes a variety of competencies, yet refining these to focus on relevant ...</td>\n",
       "      <td>Below is an instruction that describes a task, paired with an input that provides further contex...</td>\n",
       "    </tr>\n",
       "    <tr>\n",
       "      <th>3</th>\n",
       "      <td>You are a professional resume evaluator. Given the following resume 'Input', please return a fee...</td>\n",
       "      <td>Javier Sandoval\\n8610 Redstone Hills Cypress Tx 77433\\n832-334-2869 jsand32069@sbcglobal.net\\n\\n...</td>\n",
       "      <td>Your resume lacks a dedicated skills section, which is essential for highlighting your key compe...</td>\n",
       "      <td>Below is an instruction that describes a task, paired with an input that provides further contex...</td>\n",
       "    </tr>\n",
       "    <tr>\n",
       "      <th>4</th>\n",
       "      <td>You are a professional resume evaluator. Given the following resume 'Input', please return a fee...</td>\n",
       "      <td>Leah Love\\n\\nPhlebotomist, Child Care Professional, Group Fitness\\nHouston, TX 77075\\natoughlove...</td>\n",
       "      <td>The resume does not contain a dedicated section highlighting your skills, which is essential in ...</td>\n",
       "      <td>Below is an instruction that describes a task, paired with an input that provides further contex...</td>\n",
       "    </tr>\n",
       "    <tr>\n",
       "      <th>...</th>\n",
       "      <td>...</td>\n",
       "      <td>...</td>\n",
       "      <td>...</td>\n",
       "      <td>...</td>\n",
       "    </tr>\n",
       "    <tr>\n",
       "      <th>1863</th>\n",
       "      <td>You are a professional resume evaluator. Given the following resume 'Input', please return a fee...</td>\n",
       "      <td>Curriculum Vitae\\nJACQUELENE ROSE\\nTel: 07443 595 165 * E-mail: jacquelinehrose@gmail.com\\n\\n\\nP...</td>\n",
       "      <td>Your resume does include a skills section, which is commendable. However, ongoing refinement is ...</td>\n",
       "      <td>Below is an instruction that describes a task, paired with an input that provides further contex...</td>\n",
       "    </tr>\n",
       "    <tr>\n",
       "      <th>1864</th>\n",
       "      <td>You are a professional resume evaluator. Given the following resume 'Input', please return a fee...</td>\n",
       "      <td>Robert K. Bryant\\n310 435 6783 | rkbryant1@gmail.com | West Hollywood, CA, 90046\\nhttps://www.li...</td>\n",
       "      <td>While your resume does include a skills section, it's important to ensure these skills align wit...</td>\n",
       "      <td>Below is an instruction that describes a task, paired with an input that provides further contex...</td>\n",
       "    </tr>\n",
       "    <tr>\n",
       "      <th>1865</th>\n",
       "      <td>You are a professional resume evaluator. Given the following resume 'Input', please return a fee...</td>\n",
       "      <td>Reginald Troop\\t8624 N. 56th\\t street\\n(414) 627-8899\\tBrown Deer, Wisconsin 53223\\nrtroop3@gmai...</td>\n",
       "      <td>The skills section of your resume lists relevant technical abilities, which is a great foundatio...</td>\n",
       "      <td>Below is an instruction that describes a task, paired with an input that provides further contex...</td>\n",
       "    </tr>\n",
       "    <tr>\n",
       "      <th>1866</th>\n",
       "      <td>You are a professional resume evaluator. Given the following resume 'Input', please return a fee...</td>\n",
       "      <td>David Bababode Taiwo\\nEmail: davidtaiwo19@yahoo.com | Phone: +1 510-830-7872 | Location: San Jos...</td>\n",
       "      <td>Your skills section is comprehensive, incorporating relevant competencies that align with your c...</td>\n",
       "      <td>Below is an instruction that describes a task, paired with an input that provides further contex...</td>\n",
       "    </tr>\n",
       "    <tr>\n",
       "      <th>1867</th>\n",
       "      <td>You are a professional resume evaluator. Given the following resume 'Input', please return a fee...</td>\n",
       "      <td>Seny GANEMTORE, MIT EMBA\\n\\n+16173012762 | ganseny@gmail.com | Waltham, MA 02453, USA\\n\\n\\nSUMMA...</td>\n",
       "      <td>The skills section is present, but it could benefit from a more targeted approach. Ensuring the ...</td>\n",
       "      <td>Below is an instruction that describes a task, paired with an input that provides further contex...</td>\n",
       "    </tr>\n",
       "  </tbody>\n",
       "</table>\n",
       "<p>1868 rows × 4 columns</p>\n",
       "</div>"
      ],
      "text/plain": [
       "                                                                                              instruction  \\\n",
       "0     You are a professional resume evaluator. Given the following resume 'Input', please return a fee...   \n",
       "1     You are a professional resume evaluator. Given the following resume 'Input', please return a fee...   \n",
       "2     You are a professional resume evaluator. Given the following resume 'Input', please return a fee...   \n",
       "3     You are a professional resume evaluator. Given the following resume 'Input', please return a fee...   \n",
       "4     You are a professional resume evaluator. Given the following resume 'Input', please return a fee...   \n",
       "...                                                                                                   ...   \n",
       "1863  You are a professional resume evaluator. Given the following resume 'Input', please return a fee...   \n",
       "1864  You are a professional resume evaluator. Given the following resume 'Input', please return a fee...   \n",
       "1865  You are a professional resume evaluator. Given the following resume 'Input', please return a fee...   \n",
       "1866  You are a professional resume evaluator. Given the following resume 'Input', please return a fee...   \n",
       "1867  You are a professional resume evaluator. Given the following resume 'Input', please return a fee...   \n",
       "\n",
       "                                                                                                    input  \\\n",
       "0     Andrew Clark\\n\\nFort Wayne, IN 46835\\njunokungfu.ac@gmail.com\\n+1 260 433 5706\\n\\n\\nWork Experie...   \n",
       "1     POORNASAI BHASKAR\\n\\n+1 (267) 881 6466 pb677@drexel.edu LinkedIN Open to Relocate\\n\\n\\nSKILLS\\n\\...   \n",
       "2     Emmanuel Otieno Ouma\\n\\nNAIROBI, KENYA • emmaotienoouma2014@gmail.com • +254797558502\\n\\n\\nPROFI...   \n",
       "3     Javier Sandoval\\n8610 Redstone Hills Cypress Tx 77433\\n832-334-2869 jsand32069@sbcglobal.net\\n\\n...   \n",
       "4     Leah Love\\n\\nPhlebotomist, Child Care Professional, Group Fitness\\nHouston, TX 77075\\natoughlove...   \n",
       "...                                                                                                   ...   \n",
       "1863  Curriculum Vitae\\nJACQUELENE ROSE\\nTel: 07443 595 165 * E-mail: jacquelinehrose@gmail.com\\n\\n\\nP...   \n",
       "1864  Robert K. Bryant\\n310 435 6783 | rkbryant1@gmail.com | West Hollywood, CA, 90046\\nhttps://www.li...   \n",
       "1865  Reginald Troop\\t8624 N. 56th\\t street\\n(414) 627-8899\\tBrown Deer, Wisconsin 53223\\nrtroop3@gmai...   \n",
       "1866  David Bababode Taiwo\\nEmail: davidtaiwo19@yahoo.com | Phone: +1 510-830-7872 | Location: San Jos...   \n",
       "1867  Seny GANEMTORE, MIT EMBA\\n\\n+16173012762 | ganseny@gmail.com | Waltham, MA 02453, USA\\n\\n\\nSUMMA...   \n",
       "\n",
       "                                                                                                   output  \\\n",
       "0     Your resume includes a skills section, which is a solid start. However, ongoing refinement is ad...   \n",
       "1     Your resume features a skills section that effectively lists relevant hard skills, which is comm...   \n",
       "2     Your skills section includes a variety of competencies, yet refining these to focus on relevant ...   \n",
       "3     Your resume lacks a dedicated skills section, which is essential for highlighting your key compe...   \n",
       "4     The resume does not contain a dedicated section highlighting your skills, which is essential in ...   \n",
       "...                                                                                                   ...   \n",
       "1863  Your resume does include a skills section, which is commendable. However, ongoing refinement is ...   \n",
       "1864  While your resume does include a skills section, it's important to ensure these skills align wit...   \n",
       "1865  The skills section of your resume lists relevant technical abilities, which is a great foundatio...   \n",
       "1866  Your skills section is comprehensive, incorporating relevant competencies that align with your c...   \n",
       "1867  The skills section is present, but it could benefit from a more targeted approach. Ensuring the ...   \n",
       "\n",
       "                                                                                                     text  \n",
       "0     Below is an instruction that describes a task, paired with an input that provides further contex...  \n",
       "1     Below is an instruction that describes a task, paired with an input that provides further contex...  \n",
       "2     Below is an instruction that describes a task, paired with an input that provides further contex...  \n",
       "3     Below is an instruction that describes a task, paired with an input that provides further contex...  \n",
       "4     Below is an instruction that describes a task, paired with an input that provides further contex...  \n",
       "...                                                                                                   ...  \n",
       "1863  Below is an instruction that describes a task, paired with an input that provides further contex...  \n",
       "1864  Below is an instruction that describes a task, paired with an input that provides further contex...  \n",
       "1865  Below is an instruction that describes a task, paired with an input that provides further contex...  \n",
       "1866  Below is an instruction that describes a task, paired with an input that provides further contex...  \n",
       "1867  Below is an instruction that describes a task, paired with an input that provides further contex...  \n",
       "\n",
       "[1868 rows x 4 columns]"
      ]
     },
     "execution_count": 40,
     "metadata": {},
     "output_type": "execute_result"
    }
   ],
   "source": [
    "df_model_3_kw = pd.json_normalize(df_model_3_kw)\n",
    "df_model_3_kw"
   ]
  },
  {
   "cell_type": "code",
   "execution_count": 41,
   "metadata": {},
   "outputs": [
    {
     "name": "stdout",
     "output_type": "stream",
     "text": [
      "Below is an instruction that describes a task, paired with an input that provides further context. Write a response that appropriately completes the request.\n",
      "\n",
      "### Instruction:\n",
      "You are a professional resume evaluator. Given the following resume 'Input', please return a feedback / evaluation 'Response' about the Key Words / Skills / Competencies in the resume.\n",
      "\n",
      "### Input:\n",
      "Basil McCoy\n",
      "BM\n",
      "Wilmington, DE 19801\t 267-296-5693\tmb.17@aol.com\n",
      "\n",
      "\n",
      "PROFESSIONAL\tProactive Picker & Packer with extensive experience in maintaining clean and safe\n",
      "SUMMARY\tworkspaces, reducing order fulfillment errors, and enhancing packing efficiency. Key skills\n",
      "include pallet jack operation, warehouse safety, and order accuracy. Strong attention to\n",
      "detail and commitment to organized and efficient order processing.\n",
      "\n",
      "\n",
      "SKILLS\t* Pallet Jack Operation\t* Order Accuracy\n",
      "\n",
      "* Warehouse Safety\t\t * Packing Efficiency\n",
      "\n",
      "\n",
      "WORK HISTORY\tPICKER & PACKER\t\t\t03/2021 to 08/2024\n",
      "\n",
      "Amazon Warehouse | Wilmington, DE\n",
      "*Sustained a clean and safe working environment by adhering to safety protocols\n",
      "and maintaining an organized workspace.\n",
      "*Reduced order fulfillment errors by diligently following established protocols for\n",
      "picking, packing, and shipping procedures.\n",
      "*Enhanced order accuracy by meticulously picking items according to packing lists\n",
      "and verifying product information.\n",
      "*Reduced packing time for orders by efficiently organizing and assembling packages\n",
      "in line with company standards.\n",
      "\n",
      "JUNK REMOVAL\t01/2020 to 03/2021\n",
      "\n",
      "1-800-got-junk | Wilmington, DE\n",
      "\n",
      "Removed and hauled junk from residential and commercial areas\n",
      "\n",
      "JANITORIAL WORKER\t04/2014 to 11/2019\n",
      "\n",
      "Philadelphia Cleaning Service | Wilmington, DE\n",
      "* Swept hard surface floors using broom or push broom dust mop.\n",
      "*Improved overall facility appearance through consistent attention to detail and\n",
      "adherence to cleaning schedules.\n",
      "*Maintained clean and comfortable environments in commercial buildings by\n",
      "vacuuming, cleaning windows, and dusting.\n",
      "*Removed spots from glass doors, mirrors and windows by spraying cleaner and\n",
      "wiping.\n",
      "\n",
      "\n",
      "EDUCATION\tGED William Penn High School, Wilmington, DE\t06/1971\n",
      "\n",
      "### Response:\n",
      "<s_str>It's positive to see a skills section included in your resume. However, expanding and refining this list to incorporate more relevant hard skills related to your target role will enhance your appeal to employers. Aim for a comprehensive list of 8 to 12 key competencies that align with job requirements.<s_end>\n"
     ]
    }
   ],
   "source": [
    "print(df_model_3_kw.iloc[50].text)"
   ]
  },
  {
   "cell_type": "code",
   "execution_count": 43,
   "metadata": {},
   "outputs": [
    {
     "data": {
      "text/html": [
       "<div>\n",
       "<style scoped>\n",
       "    .dataframe tbody tr th:only-of-type {\n",
       "        vertical-align: middle;\n",
       "    }\n",
       "\n",
       "    .dataframe tbody tr th {\n",
       "        vertical-align: top;\n",
       "    }\n",
       "\n",
       "    .dataframe thead th {\n",
       "        text-align: right;\n",
       "    }\n",
       "</style>\n",
       "<table border=\"1\" class=\"dataframe\">\n",
       "  <thead>\n",
       "    <tr style=\"text-align: right;\">\n",
       "      <th></th>\n",
       "      <th>instruction</th>\n",
       "      <th>input</th>\n",
       "      <th>output</th>\n",
       "      <th>text</th>\n",
       "    </tr>\n",
       "  </thead>\n",
       "  <tbody>\n",
       "    <tr>\n",
       "      <th>0</th>\n",
       "      <td>You are a professional resume evaluator. Given the following resume 'Input', please return a fee...</td>\n",
       "      <td>Andrew Clark\\n\\nFort Wayne, IN 46835\\njunokungfu.ac@gmail.com\\n+1 260 433 5706\\n\\n\\nWork Experie...</td>\n",
       "      <td>Your resume includes a skills section, which is a solid start. However, ongoing refinement is ad...</td>\n",
       "      <td>Below is an instruction that describes a task, paired with an input that provides further contex...</td>\n",
       "    </tr>\n",
       "    <tr>\n",
       "      <th>1</th>\n",
       "      <td>You are a professional resume evaluator. Given the following resume 'Input', please return a fee...</td>\n",
       "      <td>POORNASAI BHASKAR\\n\\n+1 (267) 881 6466 pb677@drexel.edu LinkedIN Open to Relocate\\n\\n\\nSKILLS\\n\\...</td>\n",
       "      <td>Your resume features a skills section that effectively lists relevant hard skills, which is comm...</td>\n",
       "      <td>Below is an instruction that describes a task, paired with an input that provides further contex...</td>\n",
       "    </tr>\n",
       "    <tr>\n",
       "      <th>2</th>\n",
       "      <td>You are a professional resume evaluator. Given the following resume 'Input', please return a fee...</td>\n",
       "      <td>Emmanuel Otieno Ouma\\n\\nNAIROBI, KENYA • emmaotienoouma2014@gmail.com • +254797558502\\n\\n\\nPROFI...</td>\n",
       "      <td>Your skills section includes a variety of competencies, yet refining these to focus on relevant ...</td>\n",
       "      <td>Below is an instruction that describes a task, paired with an input that provides further contex...</td>\n",
       "    </tr>\n",
       "    <tr>\n",
       "      <th>3</th>\n",
       "      <td>You are a professional resume evaluator. Given the following resume 'Input', please return a fee...</td>\n",
       "      <td>Javier Sandoval\\n8610 Redstone Hills Cypress Tx 77433\\n832-334-2869 jsand32069@sbcglobal.net\\n\\n...</td>\n",
       "      <td>Your resume lacks a dedicated skills section, which is essential for highlighting your key compe...</td>\n",
       "      <td>Below is an instruction that describes a task, paired with an input that provides further contex...</td>\n",
       "    </tr>\n",
       "    <tr>\n",
       "      <th>4</th>\n",
       "      <td>You are a professional resume evaluator. Given the following resume 'Input', please return a fee...</td>\n",
       "      <td>Leah Love\\n\\nPhlebotomist, Child Care Professional, Group Fitness\\nHouston, TX 77075\\natoughlove...</td>\n",
       "      <td>The resume does not contain a dedicated section highlighting your skills, which is essential in ...</td>\n",
       "      <td>Below is an instruction that describes a task, paired with an input that provides further contex...</td>\n",
       "    </tr>\n",
       "    <tr>\n",
       "      <th>...</th>\n",
       "      <td>...</td>\n",
       "      <td>...</td>\n",
       "      <td>...</td>\n",
       "      <td>...</td>\n",
       "    </tr>\n",
       "    <tr>\n",
       "      <th>1863</th>\n",
       "      <td>You are a professional resume evaluator. Given the following resume 'Input', please return a fee...</td>\n",
       "      <td>Curriculum Vitae\\nJACQUELENE ROSE\\nTel: 07443 595 165 * E-mail: jacquelinehrose@gmail.com\\n\\n\\nP...</td>\n",
       "      <td>Your resume does include a skills section, which is commendable. However, ongoing refinement is ...</td>\n",
       "      <td>Below is an instruction that describes a task, paired with an input that provides further contex...</td>\n",
       "    </tr>\n",
       "    <tr>\n",
       "      <th>1864</th>\n",
       "      <td>You are a professional resume evaluator. Given the following resume 'Input', please return a fee...</td>\n",
       "      <td>Robert K. Bryant\\n310 435 6783 | rkbryant1@gmail.com | West Hollywood, CA, 90046\\nhttps://www.li...</td>\n",
       "      <td>While your resume does include a skills section, it's important to ensure these skills align wit...</td>\n",
       "      <td>Below is an instruction that describes a task, paired with an input that provides further contex...</td>\n",
       "    </tr>\n",
       "    <tr>\n",
       "      <th>1865</th>\n",
       "      <td>You are a professional resume evaluator. Given the following resume 'Input', please return a fee...</td>\n",
       "      <td>Reginald Troop\\t8624 N. 56th\\t street\\n(414) 627-8899\\tBrown Deer, Wisconsin 53223\\nrtroop3@gmai...</td>\n",
       "      <td>The skills section of your resume lists relevant technical abilities, which is a great foundatio...</td>\n",
       "      <td>Below is an instruction that describes a task, paired with an input that provides further contex...</td>\n",
       "    </tr>\n",
       "    <tr>\n",
       "      <th>1866</th>\n",
       "      <td>You are a professional resume evaluator. Given the following resume 'Input', please return a fee...</td>\n",
       "      <td>David Bababode Taiwo\\nEmail: davidtaiwo19@yahoo.com | Phone: +1 510-830-7872 | Location: San Jos...</td>\n",
       "      <td>Your skills section is comprehensive, incorporating relevant competencies that align with your c...</td>\n",
       "      <td>Below is an instruction that describes a task, paired with an input that provides further contex...</td>\n",
       "    </tr>\n",
       "    <tr>\n",
       "      <th>1867</th>\n",
       "      <td>You are a professional resume evaluator. Given the following resume 'Input', please return a fee...</td>\n",
       "      <td>Seny GANEMTORE, MIT EMBA\\n\\n+16173012762 | ganseny@gmail.com | Waltham, MA 02453, USA\\n\\n\\nSUMMA...</td>\n",
       "      <td>The skills section is present, but it could benefit from a more targeted approach. Ensuring the ...</td>\n",
       "      <td>Below is an instruction that describes a task, paired with an input that provides further contex...</td>\n",
       "    </tr>\n",
       "  </tbody>\n",
       "</table>\n",
       "<p>1868 rows × 4 columns</p>\n",
       "</div>"
      ],
      "text/plain": [
       "                                                                                              instruction  \\\n",
       "0     You are a professional resume evaluator. Given the following resume 'Input', please return a fee...   \n",
       "1     You are a professional resume evaluator. Given the following resume 'Input', please return a fee...   \n",
       "2     You are a professional resume evaluator. Given the following resume 'Input', please return a fee...   \n",
       "3     You are a professional resume evaluator. Given the following resume 'Input', please return a fee...   \n",
       "4     You are a professional resume evaluator. Given the following resume 'Input', please return a fee...   \n",
       "...                                                                                                   ...   \n",
       "1863  You are a professional resume evaluator. Given the following resume 'Input', please return a fee...   \n",
       "1864  You are a professional resume evaluator. Given the following resume 'Input', please return a fee...   \n",
       "1865  You are a professional resume evaluator. Given the following resume 'Input', please return a fee...   \n",
       "1866  You are a professional resume evaluator. Given the following resume 'Input', please return a fee...   \n",
       "1867  You are a professional resume evaluator. Given the following resume 'Input', please return a fee...   \n",
       "\n",
       "                                                                                                    input  \\\n",
       "0     Andrew Clark\\n\\nFort Wayne, IN 46835\\njunokungfu.ac@gmail.com\\n+1 260 433 5706\\n\\n\\nWork Experie...   \n",
       "1     POORNASAI BHASKAR\\n\\n+1 (267) 881 6466 pb677@drexel.edu LinkedIN Open to Relocate\\n\\n\\nSKILLS\\n\\...   \n",
       "2     Emmanuel Otieno Ouma\\n\\nNAIROBI, KENYA • emmaotienoouma2014@gmail.com • +254797558502\\n\\n\\nPROFI...   \n",
       "3     Javier Sandoval\\n8610 Redstone Hills Cypress Tx 77433\\n832-334-2869 jsand32069@sbcglobal.net\\n\\n...   \n",
       "4     Leah Love\\n\\nPhlebotomist, Child Care Professional, Group Fitness\\nHouston, TX 77075\\natoughlove...   \n",
       "...                                                                                                   ...   \n",
       "1863  Curriculum Vitae\\nJACQUELENE ROSE\\nTel: 07443 595 165 * E-mail: jacquelinehrose@gmail.com\\n\\n\\nP...   \n",
       "1864  Robert K. Bryant\\n310 435 6783 | rkbryant1@gmail.com | West Hollywood, CA, 90046\\nhttps://www.li...   \n",
       "1865  Reginald Troop\\t8624 N. 56th\\t street\\n(414) 627-8899\\tBrown Deer, Wisconsin 53223\\nrtroop3@gmai...   \n",
       "1866  David Bababode Taiwo\\nEmail: davidtaiwo19@yahoo.com | Phone: +1 510-830-7872 | Location: San Jos...   \n",
       "1867  Seny GANEMTORE, MIT EMBA\\n\\n+16173012762 | ganseny@gmail.com | Waltham, MA 02453, USA\\n\\n\\nSUMMA...   \n",
       "\n",
       "                                                                                                   output  \\\n",
       "0     Your resume includes a skills section, which is a solid start. However, ongoing refinement is ad...   \n",
       "1     Your resume features a skills section that effectively lists relevant hard skills, which is comm...   \n",
       "2     Your skills section includes a variety of competencies, yet refining these to focus on relevant ...   \n",
       "3     Your resume lacks a dedicated skills section, which is essential for highlighting your key compe...   \n",
       "4     The resume does not contain a dedicated section highlighting your skills, which is essential in ...   \n",
       "...                                                                                                   ...   \n",
       "1863  Your resume does include a skills section, which is commendable. However, ongoing refinement is ...   \n",
       "1864  While your resume does include a skills section, it's important to ensure these skills align wit...   \n",
       "1865  The skills section of your resume lists relevant technical abilities, which is a great foundatio...   \n",
       "1866  Your skills section is comprehensive, incorporating relevant competencies that align with your c...   \n",
       "1867  The skills section is present, but it could benefit from a more targeted approach. Ensuring the ...   \n",
       "\n",
       "                                                                                                     text  \n",
       "0     Below is an instruction that describes a task, paired with an input that provides further contex...  \n",
       "1     Below is an instruction that describes a task, paired with an input that provides further contex...  \n",
       "2     Below is an instruction that describes a task, paired with an input that provides further contex...  \n",
       "3     Below is an instruction that describes a task, paired with an input that provides further contex...  \n",
       "4     Below is an instruction that describes a task, paired with an input that provides further contex...  \n",
       "...                                                                                                   ...  \n",
       "1863  Below is an instruction that describes a task, paired with an input that provides further contex...  \n",
       "1864  Below is an instruction that describes a task, paired with an input that provides further contex...  \n",
       "1865  Below is an instruction that describes a task, paired with an input that provides further contex...  \n",
       "1866  Below is an instruction that describes a task, paired with an input that provides further contex...  \n",
       "1867  Below is an instruction that describes a task, paired with an input that provides further contex...  \n",
       "\n",
       "[1868 rows x 4 columns]"
      ]
     },
     "execution_count": 43,
     "metadata": {},
     "output_type": "execute_result"
    }
   ],
   "source": [
    "df_model_3_kw"
   ]
  },
  {
   "cell_type": "code",
   "execution_count": 42,
   "metadata": {},
   "outputs": [],
   "source": [
    "df_model_3_kw.to_json(DATA_TRAINING_PATH / \"train\" / \"resume_critique_model_3_v3.jsonl\", lines=True, orient=\"records\")"
   ]
  }
 ],
 "metadata": {
  "kernelspec": {
   "display_name": "cond_resume_critique_env",
   "language": "python",
   "name": "python3"
  },
  "language_info": {
   "codemirror_mode": {
    "name": "ipython",
    "version": 3
   },
   "file_extension": ".py",
   "mimetype": "text/x-python",
   "name": "python",
   "nbconvert_exporter": "python",
   "pygments_lexer": "ipython3",
   "version": "3.10.15"
  }
 },
 "nbformat": 4,
 "nbformat_minor": 2
}
